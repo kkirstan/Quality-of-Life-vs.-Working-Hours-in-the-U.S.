{
 "cells": [
  {
   "cell_type": "code",
   "execution_count": 20,
   "metadata": {},
   "outputs": [],
   "source": [
    "# Dependencies and Setup\n",
    "import matplotlib.pyplot as plt\n",
    "import pandas as pd\n",
    "import numpy as np\n",
    "import requests\n",
    "import gmaps\n",
    "import os\n",
    "import json\n",
    "from scipy.stats import linregress"
   ]
  },
  {
   "cell_type": "code",
   "execution_count": 2,
   "metadata": {},
   "outputs": [
    {
     "data": {
      "text/html": [
       "<div>\n",
       "<style scoped>\n",
       "    .dataframe tbody tr th:only-of-type {\n",
       "        vertical-align: middle;\n",
       "    }\n",
       "\n",
       "    .dataframe tbody tr th {\n",
       "        vertical-align: top;\n",
       "    }\n",
       "\n",
       "    .dataframe thead th {\n",
       "        text-align: right;\n",
       "    }\n",
       "</style>\n",
       "<table border=\"1\" class=\"dataframe\">\n",
       "  <thead>\n",
       "    <tr style=\"text-align: right;\">\n",
       "      <th></th>\n",
       "      <th>Entity</th>\n",
       "      <th>Code</th>\n",
       "      <th>Year</th>\n",
       "      <th>Average annual working hours per worker</th>\n",
       "    </tr>\n",
       "  </thead>\n",
       "  <tbody>\n",
       "    <tr>\n",
       "      <th>0</th>\n",
       "      <td>Argentina</td>\n",
       "      <td>ARG</td>\n",
       "      <td>1950</td>\n",
       "      <td>2034.0000</td>\n",
       "    </tr>\n",
       "    <tr>\n",
       "      <th>1</th>\n",
       "      <td>Argentina</td>\n",
       "      <td>ARG</td>\n",
       "      <td>1951</td>\n",
       "      <td>2037.8667</td>\n",
       "    </tr>\n",
       "    <tr>\n",
       "      <th>2</th>\n",
       "      <td>Argentina</td>\n",
       "      <td>ARG</td>\n",
       "      <td>1952</td>\n",
       "      <td>2041.7408</td>\n",
       "    </tr>\n",
       "    <tr>\n",
       "      <th>3</th>\n",
       "      <td>Argentina</td>\n",
       "      <td>ARG</td>\n",
       "      <td>1953</td>\n",
       "      <td>2045.6223</td>\n",
       "    </tr>\n",
       "    <tr>\n",
       "      <th>4</th>\n",
       "      <td>Argentina</td>\n",
       "      <td>ARG</td>\n",
       "      <td>1954</td>\n",
       "      <td>2049.5112</td>\n",
       "    </tr>\n",
       "  </tbody>\n",
       "</table>\n",
       "</div>"
      ],
      "text/plain": [
       "      Entity Code  Year  Average annual working hours per worker\n",
       "0  Argentina  ARG  1950                                2034.0000\n",
       "1  Argentina  ARG  1951                                2037.8667\n",
       "2  Argentina  ARG  1952                                2041.7408\n",
       "3  Argentina  ARG  1953                                2045.6223\n",
       "4  Argentina  ARG  1954                                2049.5112"
      ]
     },
     "execution_count": 2,
     "metadata": {},
     "output_type": "execute_result"
    }
   ],
   "source": [
    "#UNEMPLOYMENT\n",
    "#Read annual working hours per worker on the world\n",
    "WH_data = pd.read_csv('data/annual-working-hours-per-worker.csv')\n",
    "WH_data.head()"
   ]
  },
  {
   "cell_type": "code",
   "execution_count": 3,
   "metadata": {
    "scrolled": false
   },
   "outputs": [
    {
     "data": {
      "text/html": [
       "<div>\n",
       "<style scoped>\n",
       "    .dataframe tbody tr th:only-of-type {\n",
       "        vertical-align: middle;\n",
       "    }\n",
       "\n",
       "    .dataframe tbody tr th {\n",
       "        vertical-align: top;\n",
       "    }\n",
       "\n",
       "    .dataframe thead th {\n",
       "        text-align: right;\n",
       "    }\n",
       "</style>\n",
       "<table border=\"1\" class=\"dataframe\">\n",
       "  <thead>\n",
       "    <tr style=\"text-align: right;\">\n",
       "      <th></th>\n",
       "      <th>Entity</th>\n",
       "      <th>Code</th>\n",
       "      <th>Year</th>\n",
       "      <th>Average annual working hours per worker</th>\n",
       "    </tr>\n",
       "  </thead>\n",
       "  <tbody>\n",
       "    <tr>\n",
       "      <th>3263</th>\n",
       "      <td>United States</td>\n",
       "      <td>USA</td>\n",
       "      <td>1870</td>\n",
       "      <td>3096.0</td>\n",
       "    </tr>\n",
       "    <tr>\n",
       "      <th>3264</th>\n",
       "      <td>United States</td>\n",
       "      <td>USA</td>\n",
       "      <td>1880</td>\n",
       "      <td>3044.0</td>\n",
       "    </tr>\n",
       "    <tr>\n",
       "      <th>3265</th>\n",
       "      <td>United States</td>\n",
       "      <td>USA</td>\n",
       "      <td>1890</td>\n",
       "      <td>2983.0</td>\n",
       "    </tr>\n",
       "    <tr>\n",
       "      <th>3266</th>\n",
       "      <td>United States</td>\n",
       "      <td>USA</td>\n",
       "      <td>1900</td>\n",
       "      <td>2938.0</td>\n",
       "    </tr>\n",
       "    <tr>\n",
       "      <th>3267</th>\n",
       "      <td>United States</td>\n",
       "      <td>USA</td>\n",
       "      <td>1913</td>\n",
       "      <td>2900.0</td>\n",
       "    </tr>\n",
       "  </tbody>\n",
       "</table>\n",
       "</div>"
      ],
      "text/plain": [
       "             Entity Code  Year  Average annual working hours per worker\n",
       "3263  United States  USA  1870                                   3096.0\n",
       "3264  United States  USA  1880                                   3044.0\n",
       "3265  United States  USA  1890                                   2983.0\n",
       "3266  United States  USA  1900                                   2938.0\n",
       "3267  United States  USA  1913                                   2900.0"
      ]
     },
     "execution_count": 3,
     "metadata": {},
     "output_type": "execute_result"
    }
   ],
   "source": [
    "#Filter only for USA\n",
    "filt=(WH_data[\"Code\"]=='USA')\n",
    "WH_USA_df=WH_data[filt]\n",
    "WH_USA_df.head()"
   ]
  },
  {
   "cell_type": "code",
   "execution_count": 4,
   "metadata": {},
   "outputs": [
    {
     "data": {
      "text/plain": [
       "Entity                                      object\n",
       "Code                                        object\n",
       "Year                                         int64\n",
       "Average annual working hours per worker    float64\n",
       "dtype: object"
      ]
     },
     "execution_count": 4,
     "metadata": {},
     "output_type": "execute_result"
    }
   ],
   "source": [
    "#Checking Datatypes\n",
    "WH_USA_df.dtypes"
   ]
  },
  {
   "cell_type": "code",
   "execution_count": 5,
   "metadata": {},
   "outputs": [
    {
     "name": "stdout",
     "output_type": "stream",
     "text": [
      "{'header': {'id': '284f258b-b54c-48f3-bd50-5dafce2f97ba', 'test': False, 'prepared': '2021-01-14T10:06:45.2519652Z', 'sender': {'id': 'OECD', 'name': 'Organisation for Economic Co-operation and Development'}, 'links': [{'href': 'https://stats.oecd.org:443/SDMX-JSON/data/KEI/LR+LRHUTTTT.USA.ST.A/all?startTime=1914&endTime=2020&dimensionAtObservation=allDimensions', 'rel': 'request'}]}, 'dataSets': [{'action': 'Information', 'observations': {'0:0:0:0:0': [4.38333333333333, 0, None, 0, 0, None], '0:0:0:0:1': [4.14166666666667, 0, None, 0, 0, None], '0:0:0:0:2': [4.25833333333333, 0, None, 0, 0, None], '0:0:0:0:3': [6.8, 0, None, 0, 0, None], '0:0:0:0:4': [5.475, 0, None, 0, 0, None], '0:0:0:0:5': [5.50833333333333, 0, None, 0, 0, None], '0:0:0:0:6': [6.68333333333333, 0, None, 0, 0, None], '0:0:0:0:7': [5.54166666666666, 0, None, 0, 0, None], '0:0:0:0:8': [5.66666666666667, 0, None, 0, 0, None], '0:0:0:0:9': [5.19166666666667, 0, None, 0, 0, None], '0:0:0:0:10': [4.525, 0, None, 0, 0, None], '0:0:0:0:11': [3.78333333333333, 0, None, 0, 0, None], '0:0:0:0:12': [3.84166666666667, 0, None, 0, 0, None], '0:0:0:0:13': [3.58333333333333, 0, None, 0, 0, None], '0:0:0:0:14': [3.50833333333333, 0, None, 0, 0, None], '0:0:0:0:15': [4.93333333333333, 0, None, 0, 0, None], '0:0:0:0:16': [5.95833333333333, 0, None, 0, 0, None], '0:0:0:0:17': [5.61666666666667, 0, None, 0, 0, None], '0:0:0:0:18': [4.89166666666667, 0, None, 0, 0, None], '0:0:0:0:19': [5.59166666666667, 0, None, 0, 0, None], '0:0:0:0:20': [8.46666666666667, 0, None, 0, 0, None], '0:0:0:0:21': [7.71666666666667, 0, None, 0, 0, None], '0:0:0:0:22': [7.06666666666667, 0, None, 0, 0, None], '0:0:0:0:23': [6.06666666666667, 0, None, 0, 0, None], '0:0:0:0:24': [5.83333333333333, 0, None, 0, 0, None], '0:0:0:0:25': [7.14166666666667, 0, None, 0, 0, None], '0:0:0:0:26': [7.6, 0, None, 0, 0, None], '0:0:0:0:27': [9.70833333333334, 0, None, 0, 0, None], '0:0:0:0:28': [9.61666666666667, 0, None, 0, 0, None], '0:0:0:0:29': [7.525, 0, None, 0, 0, None], '0:0:0:0:30': [7.19166666666667, 0, None, 0, 0, None], '0:0:0:0:31': [6.99166666666667, 0, None, 0, 0, None], '0:0:0:0:32': [6.19166666666667, 0, None, 0, 0, None], '0:0:0:0:33': [5.49166666666667, 0, None, 0, 0, None], '0:0:0:0:34': [5.26666666666667, 0, None, 0, 0, None], '0:0:0:0:35': [5.61666666666667, 0, None, 0, 0, None], '0:0:0:0:36': [6.81666666666667, 0, None, 0, 0, None], '0:0:0:0:37': [7.50833333333333, 0, None, 0, 0, None], '0:0:0:0:38': [6.9, 0, None, 0, 0, None], '0:0:0:0:39': [6.08333333333333, 0, None, 0, 0, None], '0:0:0:0:40': [5.60833333333333, 0, None, 0, 0, None], '0:0:0:0:41': [5.41666666666667, 0, None, 0, 0, None], '0:0:0:0:42': [4.95, 0, None, 0, 0, None], '0:0:0:0:43': [4.50833333333333, 0, None, 0, 0, None], '0:0:0:0:44': [4.21666666666667, 0, None, 0, 0, None], '0:0:0:0:45': [3.99166666666667, 0, None, 0, 0, None], '0:0:0:0:46': [4.73333333333333, 0, None, 0, 0, None], '0:0:0:0:47': [5.775, 0, None, 0, 0, None], '0:0:0:0:48': [5.99166666666667, 0, None, 0, 0, None], '0:0:0:0:49': [5.53333333333333, 0, None, 0, 0, None], '0:0:0:0:50': [5.06666666666667, 0, None, 0, 0, None], '0:0:0:0:51': [4.61666666666667, 0, None, 0, 0, None], '0:0:0:0:52': [4.61666666666667, 0, None, 0, 0, None], '0:0:0:0:53': [5.775, 0, None, 0, 0, None], '0:0:0:0:54': [9.26666666666667, 0, None, 0, 0, None], '0:0:0:0:55': [9.61666666666666, 0, None, 0, 0, None], '0:0:0:0:56': [8.95, 0, None, 0, 0, None], '0:0:0:0:57': [8.06666666666667, 0, None, 0, 0, None], '0:0:0:0:58': [7.375, 0, None, 0, 0, None], '0:0:0:0:59': [6.16666666666667, 0, None, 0, 0, None], '0:0:0:0:60': [5.29166666666667, 0, None, 0, 0, None], '0:0:0:0:61': [4.86666666666667, 0, None, 0, 0, None], '0:0:0:0:62': [4.35, 0, None, 0, 0, None], '0:0:0:0:63': [3.9, 0, None, 0, 0, None], '0:0:0:0:64': [3.66666666666667, 0, None, 0, 0, None], '0:0:0:0:65': [8.09166666666667, 0, None, 0, 0, None]}}], 'structure': {'links': [{'href': 'https://stats.oecd.org/SDMX-JSON/dataflow/KEI/all', 'rel': 'dataflow'}], 'name': 'Key Short-Term Economic Indicators', 'description': 'Key Short-Term Economic Indicators', 'dimensions': {'observation': [{'keyPosition': 0, 'id': 'SUBJECT', 'name': 'Subject', 'values': [{'id': 'LRHUTTTT', 'name': 'Monthly unemployment rate: all persons, s.a.'}]}, {'keyPosition': 1, 'id': 'LOCATION', 'name': 'Country', 'values': [{'id': 'USA', 'name': 'United States'}], 'role': 'REF_AREA'}, {'keyPosition': 2, 'id': 'MEASURE', 'name': 'Measure', 'values': [{'id': 'ST', 'name': 'Level, ratio or index'}]}, {'keyPosition': 3, 'id': 'FREQUENCY', 'name': 'Frequency', 'values': [{'id': 'A', 'name': 'Annual'}], 'role': 'FREQ'}, {'id': 'TIME_PERIOD', 'name': 'Time', 'values': [{'id': '1955', 'name': '1955'}, {'id': '1956', 'name': '1956'}, {'id': '1957', 'name': '1957'}, {'id': '1958', 'name': '1958'}, {'id': '1959', 'name': '1959'}, {'id': '1960', 'name': '1960'}, {'id': '1961', 'name': '1961'}, {'id': '1962', 'name': '1962'}, {'id': '1963', 'name': '1963'}, {'id': '1964', 'name': '1964'}, {'id': '1965', 'name': '1965'}, {'id': '1966', 'name': '1966'}, {'id': '1967', 'name': '1967'}, {'id': '1968', 'name': '1968'}, {'id': '1969', 'name': '1969'}, {'id': '1970', 'name': '1970'}, {'id': '1971', 'name': '1971'}, {'id': '1972', 'name': '1972'}, {'id': '1973', 'name': '1973'}, {'id': '1974', 'name': '1974'}, {'id': '1975', 'name': '1975'}, {'id': '1976', 'name': '1976'}, {'id': '1977', 'name': '1977'}, {'id': '1978', 'name': '1978'}, {'id': '1979', 'name': '1979'}, {'id': '1980', 'name': '1980'}, {'id': '1981', 'name': '1981'}, {'id': '1982', 'name': '1982'}, {'id': '1983', 'name': '1983'}, {'id': '1984', 'name': '1984'}, {'id': '1985', 'name': '1985'}, {'id': '1986', 'name': '1986'}, {'id': '1987', 'name': '1987'}, {'id': '1988', 'name': '1988'}, {'id': '1989', 'name': '1989'}, {'id': '1990', 'name': '1990'}, {'id': '1991', 'name': '1991'}, {'id': '1992', 'name': '1992'}, {'id': '1993', 'name': '1993'}, {'id': '1994', 'name': '1994'}, {'id': '1995', 'name': '1995'}, {'id': '1996', 'name': '1996'}, {'id': '1997', 'name': '1997'}, {'id': '1998', 'name': '1998'}, {'id': '1999', 'name': '1999'}, {'id': '2000', 'name': '2000'}, {'id': '2001', 'name': '2001'}, {'id': '2002', 'name': '2002'}, {'id': '2003', 'name': '2003'}, {'id': '2004', 'name': '2004'}, {'id': '2005', 'name': '2005'}, {'id': '2006', 'name': '2006'}, {'id': '2007', 'name': '2007'}, {'id': '2008', 'name': '2008'}, {'id': '2009', 'name': '2009'}, {'id': '2010', 'name': '2010'}, {'id': '2011', 'name': '2011'}, {'id': '2012', 'name': '2012'}, {'id': '2013', 'name': '2013'}, {'id': '2014', 'name': '2014'}, {'id': '2015', 'name': '2015'}, {'id': '2016', 'name': '2016'}, {'id': '2017', 'name': '2017'}, {'id': '2018', 'name': '2018'}, {'id': '2019', 'name': '2019'}, {'id': '2020', 'name': '2020'}], 'role': 'TIME_PERIOD'}]}, 'attributes': {'dataSet': [], 'series': [], 'observation': [{'id': 'TIME_FORMAT', 'name': 'Time Format', 'values': [{'id': 'P1Y', 'name': 'Annual'}]}, {'id': 'OBS_STATUS', 'name': 'Observation Status', 'values': []}, {'id': 'UNIT', 'name': 'Unit', 'values': [{'id': 'PC', 'name': 'Percentage'}], 'role': 'UNIT_MEASURE'}, {'id': 'POWERCODE', 'name': 'Unit multiplier', 'default': '0', 'values': [{'id': '0', 'name': 'Units'}], 'role': 'UNIT_MULT'}, {'id': 'REFERENCEPERIOD', 'name': 'Reference period', 'values': [], 'role': 'BASE_PER'}]}, 'annotations': [{'title': 'Copyright OECD - All rights reserved', 'uri': '', 'text': ''}, {'title': 'Terms and Conditions', 'uri': 'http://www.oecd.org/termsandconditions/', 'text': ''}, {'title': 'Privacy Policy', 'uri': 'http://www.oecd.org/privacy/', 'text': ''}, {'title': 'MyOECD', 'uri': 'https://www.oecd.org/login', 'text': ''}, {'title': 'Contact Us', 'uri': 'http://www.oecd.org/contact/', 'text': ''}]}}\n"
     ]
    }
   ],
   "source": [
    "#Building url to fetch data from the OECD website for USA umeployment rate and printing response\n",
    "OECD_url='https://stats.oecd.org/SDMX-JSON/data/KEI/LR+LRHUTTTT.USA.ST.A/all?startTime=1914&endTime=2020&dimensionAtObservation=allDimensions'\n",
    "response = requests.get(OECD_url).json()\n",
    "print(response)"
   ]
  },
  {
   "cell_type": "code",
   "execution_count": 8,
   "metadata": {},
   "outputs": [],
   "source": [
    "#Extracting Year, and unemployment rate from response\n",
    "Unemp_Rate=[]\n",
    "Year=[]\n",
    "Country=[]\n",
    "\n",
    "for value in range(0,Total_val):\n",
    "    Unemp_Rate.append(response['dataSets'][0]['observations'][\"0:0:0:0:\"+str(value)][0])\n",
    "    Country.append(\"USA\")\n",
    "    Year.append(response['structure']['dimensions']['observation'][4]['values'][value]['id'])\n"
   ]
  },
  {
   "cell_type": "code",
   "execution_count": 9,
   "metadata": {},
   "outputs": [
    {
     "data": {
      "text/html": [
       "<div>\n",
       "<style scoped>\n",
       "    .dataframe tbody tr th:only-of-type {\n",
       "        vertical-align: middle;\n",
       "    }\n",
       "\n",
       "    .dataframe tbody tr th {\n",
       "        vertical-align: top;\n",
       "    }\n",
       "\n",
       "    .dataframe thead th {\n",
       "        text-align: right;\n",
       "    }\n",
       "</style>\n",
       "<table border=\"1\" class=\"dataframe\">\n",
       "  <thead>\n",
       "    <tr style=\"text-align: right;\">\n",
       "      <th></th>\n",
       "      <th>Country</th>\n",
       "      <th>Year</th>\n",
       "      <th>Unemployment Rate</th>\n",
       "    </tr>\n",
       "  </thead>\n",
       "  <tbody>\n",
       "    <tr>\n",
       "      <th>0</th>\n",
       "      <td>USA</td>\n",
       "      <td>1955</td>\n",
       "      <td>4.383333</td>\n",
       "    </tr>\n",
       "    <tr>\n",
       "      <th>1</th>\n",
       "      <td>USA</td>\n",
       "      <td>1956</td>\n",
       "      <td>4.141667</td>\n",
       "    </tr>\n",
       "    <tr>\n",
       "      <th>2</th>\n",
       "      <td>USA</td>\n",
       "      <td>1957</td>\n",
       "      <td>4.258333</td>\n",
       "    </tr>\n",
       "    <tr>\n",
       "      <th>3</th>\n",
       "      <td>USA</td>\n",
       "      <td>1958</td>\n",
       "      <td>6.800000</td>\n",
       "    </tr>\n",
       "    <tr>\n",
       "      <th>4</th>\n",
       "      <td>USA</td>\n",
       "      <td>1959</td>\n",
       "      <td>5.475000</td>\n",
       "    </tr>\n",
       "  </tbody>\n",
       "</table>\n",
       "</div>"
      ],
      "text/plain": [
       "  Country  Year  Unemployment Rate\n",
       "0     USA  1955           4.383333\n",
       "1     USA  1956           4.141667\n",
       "2     USA  1957           4.258333\n",
       "3     USA  1958           6.800000\n",
       "4     USA  1959           5.475000"
      ]
     },
     "execution_count": 9,
     "metadata": {},
     "output_type": "execute_result"
    }
   ],
   "source": [
    "#Building Data Frame\n",
    "data={'Country':Country, 'Year':Year, 'Unemployment Rate': Unemp_Rate}\n",
    "Unemp_Rate_df=pd.DataFrame(data)\n",
    "Unemp_Rate_df.head()"
   ]
  },
  {
   "cell_type": "code",
   "execution_count": 10,
   "metadata": {},
   "outputs": [
    {
     "data": {
      "text/plain": [
       "Country               object\n",
       "Year                  object\n",
       "Unemployment Rate    float64\n",
       "dtype: object"
      ]
     },
     "execution_count": 10,
     "metadata": {},
     "output_type": "execute_result"
    }
   ],
   "source": [
    "#Checking Datatypes\n",
    "Unemp_Rate_df.dtypes"
   ]
  },
  {
   "cell_type": "code",
   "execution_count": 11,
   "metadata": {},
   "outputs": [
    {
     "data": {
      "text/plain": [
       "Country               object\n",
       "Year                   int64\n",
       "Unemployment Rate    float64\n",
       "dtype: object"
      ]
     },
     "execution_count": 11,
     "metadata": {},
     "output_type": "execute_result"
    }
   ],
   "source": [
    "#Changing Data type\n",
    "Unemp_Rate_df[\"Year\"] = Unemp_Rate_df[\"Year\"].astype(np.int64)\n",
    "Unemp_Rate_df.dtypes"
   ]
  },
  {
   "cell_type": "code",
   "execution_count": 12,
   "metadata": {},
   "outputs": [
    {
     "data": {
      "text/html": [
       "<div>\n",
       "<style scoped>\n",
       "    .dataframe tbody tr th:only-of-type {\n",
       "        vertical-align: middle;\n",
       "    }\n",
       "\n",
       "    .dataframe tbody tr th {\n",
       "        vertical-align: top;\n",
       "    }\n",
       "\n",
       "    .dataframe thead th {\n",
       "        text-align: right;\n",
       "    }\n",
       "</style>\n",
       "<table border=\"1\" class=\"dataframe\">\n",
       "  <thead>\n",
       "    <tr style=\"text-align: right;\">\n",
       "      <th></th>\n",
       "      <th>Entity</th>\n",
       "      <th>Code</th>\n",
       "      <th>Year</th>\n",
       "      <th>Average annual working hours per worker</th>\n",
       "      <th>Country</th>\n",
       "      <th>Unemployment Rate</th>\n",
       "    </tr>\n",
       "  </thead>\n",
       "  <tbody>\n",
       "    <tr>\n",
       "      <th>12</th>\n",
       "      <td>United States</td>\n",
       "      <td>USA</td>\n",
       "      <td>1955</td>\n",
       "      <td>2004.5018</td>\n",
       "      <td>USA</td>\n",
       "      <td>4.383333</td>\n",
       "    </tr>\n",
       "    <tr>\n",
       "      <th>13</th>\n",
       "      <td>United States</td>\n",
       "      <td>USA</td>\n",
       "      <td>1956</td>\n",
       "      <td>1989.3650</td>\n",
       "      <td>USA</td>\n",
       "      <td>4.141667</td>\n",
       "    </tr>\n",
       "    <tr>\n",
       "      <th>14</th>\n",
       "      <td>United States</td>\n",
       "      <td>USA</td>\n",
       "      <td>1957</td>\n",
       "      <td>1961.5238</td>\n",
       "      <td>USA</td>\n",
       "      <td>4.258333</td>\n",
       "    </tr>\n",
       "    <tr>\n",
       "      <th>15</th>\n",
       "      <td>United States</td>\n",
       "      <td>USA</td>\n",
       "      <td>1958</td>\n",
       "      <td>1927.5476</td>\n",
       "      <td>USA</td>\n",
       "      <td>6.800000</td>\n",
       "    </tr>\n",
       "    <tr>\n",
       "      <th>16</th>\n",
       "      <td>United States</td>\n",
       "      <td>USA</td>\n",
       "      <td>1959</td>\n",
       "      <td>1952.8529</td>\n",
       "      <td>USA</td>\n",
       "      <td>5.475000</td>\n",
       "    </tr>\n",
       "    <tr>\n",
       "      <th>...</th>\n",
       "      <td>...</td>\n",
       "      <td>...</td>\n",
       "      <td>...</td>\n",
       "      <td>...</td>\n",
       "      <td>...</td>\n",
       "      <td>...</td>\n",
       "    </tr>\n",
       "    <tr>\n",
       "      <th>70</th>\n",
       "      <td>United States</td>\n",
       "      <td>USA</td>\n",
       "      <td>2013</td>\n",
       "      <td>1750.0786</td>\n",
       "      <td>USA</td>\n",
       "      <td>7.375000</td>\n",
       "    </tr>\n",
       "    <tr>\n",
       "      <th>71</th>\n",
       "      <td>United States</td>\n",
       "      <td>USA</td>\n",
       "      <td>2014</td>\n",
       "      <td>1754.4224</td>\n",
       "      <td>USA</td>\n",
       "      <td>6.166667</td>\n",
       "    </tr>\n",
       "    <tr>\n",
       "      <th>72</th>\n",
       "      <td>United States</td>\n",
       "      <td>USA</td>\n",
       "      <td>2015</td>\n",
       "      <td>1765.1826</td>\n",
       "      <td>USA</td>\n",
       "      <td>5.291667</td>\n",
       "    </tr>\n",
       "    <tr>\n",
       "      <th>73</th>\n",
       "      <td>United States</td>\n",
       "      <td>USA</td>\n",
       "      <td>2016</td>\n",
       "      <td>1760.7960</td>\n",
       "      <td>USA</td>\n",
       "      <td>4.866667</td>\n",
       "    </tr>\n",
       "    <tr>\n",
       "      <th>74</th>\n",
       "      <td>United States</td>\n",
       "      <td>USA</td>\n",
       "      <td>2017</td>\n",
       "      <td>1757.2255</td>\n",
       "      <td>USA</td>\n",
       "      <td>4.350000</td>\n",
       "    </tr>\n",
       "  </tbody>\n",
       "</table>\n",
       "<p>63 rows × 6 columns</p>\n",
       "</div>"
      ],
      "text/plain": [
       "           Entity Code  Year  Average annual working hours per worker Country  \\\n",
       "12  United States  USA  1955                                2004.5018     USA   \n",
       "13  United States  USA  1956                                1989.3650     USA   \n",
       "14  United States  USA  1957                                1961.5238     USA   \n",
       "15  United States  USA  1958                                1927.5476     USA   \n",
       "16  United States  USA  1959                                1952.8529     USA   \n",
       "..            ...  ...   ...                                      ...     ...   \n",
       "70  United States  USA  2013                                1750.0786     USA   \n",
       "71  United States  USA  2014                                1754.4224     USA   \n",
       "72  United States  USA  2015                                1765.1826     USA   \n",
       "73  United States  USA  2016                                1760.7960     USA   \n",
       "74  United States  USA  2017                                1757.2255     USA   \n",
       "\n",
       "    Unemployment Rate  \n",
       "12           4.383333  \n",
       "13           4.141667  \n",
       "14           4.258333  \n",
       "15           6.800000  \n",
       "16           5.475000  \n",
       "..                ...  \n",
       "70           7.375000  \n",
       "71           6.166667  \n",
       "72           5.291667  \n",
       "73           4.866667  \n",
       "74           4.350000  \n",
       "\n",
       "[63 rows x 6 columns]"
      ]
     },
     "execution_count": 12,
     "metadata": {},
     "output_type": "execute_result"
    }
   ],
   "source": [
    "#Merging Data frames\n",
    "data_combined_df=pd.merge(WH_USA_df, Unemp_Rate_df, how=\"outer\", on=\"Year\")\n",
    "data_combined_df.dropna(inplace=True)\n",
    "data_combined_df"
   ]
  },
  {
   "cell_type": "code",
   "execution_count": 13,
   "metadata": {
    "scrolled": true
   },
   "outputs": [
    {
     "data": {
      "text/html": [
       "<div>\n",
       "<style scoped>\n",
       "    .dataframe tbody tr th:only-of-type {\n",
       "        vertical-align: middle;\n",
       "    }\n",
       "\n",
       "    .dataframe tbody tr th {\n",
       "        vertical-align: top;\n",
       "    }\n",
       "\n",
       "    .dataframe thead th {\n",
       "        text-align: right;\n",
       "    }\n",
       "</style>\n",
       "<table border=\"1\" class=\"dataframe\">\n",
       "  <thead>\n",
       "    <tr style=\"text-align: right;\">\n",
       "      <th></th>\n",
       "      <th>Entity</th>\n",
       "      <th>Country</th>\n",
       "      <th>Year</th>\n",
       "      <th>Average annual working hours per worker</th>\n",
       "      <th>Unemployment Rate</th>\n",
       "    </tr>\n",
       "  </thead>\n",
       "  <tbody>\n",
       "    <tr>\n",
       "      <th>12</th>\n",
       "      <td>United States</td>\n",
       "      <td>USA</td>\n",
       "      <td>1955</td>\n",
       "      <td>2004.5018</td>\n",
       "      <td>4.383333</td>\n",
       "    </tr>\n",
       "    <tr>\n",
       "      <th>13</th>\n",
       "      <td>United States</td>\n",
       "      <td>USA</td>\n",
       "      <td>1956</td>\n",
       "      <td>1989.3650</td>\n",
       "      <td>4.141667</td>\n",
       "    </tr>\n",
       "    <tr>\n",
       "      <th>14</th>\n",
       "      <td>United States</td>\n",
       "      <td>USA</td>\n",
       "      <td>1957</td>\n",
       "      <td>1961.5238</td>\n",
       "      <td>4.258333</td>\n",
       "    </tr>\n",
       "    <tr>\n",
       "      <th>15</th>\n",
       "      <td>United States</td>\n",
       "      <td>USA</td>\n",
       "      <td>1958</td>\n",
       "      <td>1927.5476</td>\n",
       "      <td>6.800000</td>\n",
       "    </tr>\n",
       "    <tr>\n",
       "      <th>16</th>\n",
       "      <td>United States</td>\n",
       "      <td>USA</td>\n",
       "      <td>1959</td>\n",
       "      <td>1952.8529</td>\n",
       "      <td>5.475000</td>\n",
       "    </tr>\n",
       "  </tbody>\n",
       "</table>\n",
       "</div>"
      ],
      "text/plain": [
       "           Entity Country  Year  Average annual working hours per worker  \\\n",
       "12  United States     USA  1955                                2004.5018   \n",
       "13  United States     USA  1956                                1989.3650   \n",
       "14  United States     USA  1957                                1961.5238   \n",
       "15  United States     USA  1958                                1927.5476   \n",
       "16  United States     USA  1959                                1952.8529   \n",
       "\n",
       "    Unemployment Rate  \n",
       "12           4.383333  \n",
       "13           4.141667  \n",
       "14           4.258333  \n",
       "15           6.800000  \n",
       "16           5.475000  "
      ]
     },
     "execution_count": 13,
     "metadata": {},
     "output_type": "execute_result"
    }
   ],
   "source": [
    "#Dropping not necessary columns\n",
    "data_combined_df.drop(['Country'], axis=1, inplace=True)\n",
    "data_combined_df.rename(columns = {'Code':'Country'}, inplace = True) \n",
    "data_combined_df.head()"
   ]
  },
  {
   "cell_type": "code",
   "execution_count": 14,
   "metadata": {},
   "outputs": [],
   "source": [
    "#Preparing data to plot\n",
    "years=data_combined_df['Year']\n",
    "work_hours=data_combined_df['Average annual working hours per worker']\n",
    "unemployment=data_combined_df['Unemployment Rate']"
   ]
  },
  {
   "cell_type": "code",
   "execution_count": 23,
   "metadata": {},
   "outputs": [
    {
     "data": {
      "image/png": "[encoded data removed]",
      "text/plain": [
       "<Figure size 432x288 with 1 Axes>"
      ]
     },
     "metadata": {
      "needs_background": "light"
     },
     "output_type": "display_data"
    }
   ],
   "source": [
    "#Plotting working hours in USA and saving plot fig to png format\n",
    "fig = plt.figure()\n",
    "plt.title(\"Working Hours in USA thru the Years\")\n",
    "plt.ylabel(\"Working Hours\")\n",
    "plt.xlabel(\"Years\")\n",
    "plt.plot(years,work_hours, color='red', label=\"Working Hours\")\n",
    "plt.legend(loc=\"upper right\")\n",
    "plt.grid()\n",
    "fig.savefig(\"data/working_hours_USA.png\")"
   ]
  },
  {
   "cell_type": "code",
   "execution_count": 24,
   "metadata": {},
   "outputs": [
    {
     "data": {
      "image/png": "[encoded data removed]",
      "text/plain": [
       "<Figure size 432x288 with 1 Axes>"
      ]
     },
     "metadata": {
      "needs_background": "light"
     },
     "output_type": "display_data"
    }
   ],
   "source": [
    "#Plottingunemployment rate in USA and saving plot fig to png format\n",
    "fig = plt.figure()\n",
    "plt.title(\"Unemployment in USA thru the Years\")\n",
    "plt.ylabel(\"Unemployment Rate\")\n",
    "plt.xlabel(\"Years\")\n",
    "plt.plot(years,unemployment, color='red', label=\"Unemployment Rate\")\n",
    "plt.legend(loc=\"upper right\")\n",
    "plt.grid()\n",
    "fig.savefig(\"data/unemployment_rate_USA.png\")"
   ]
  },
  {
   "cell_type": "code",
   "execution_count": 22,
   "metadata": {},
   "outputs": [
    {
     "name": "stdout",
     "output_type": "stream",
     "text": [
      "The r-squared is: 0.3284193240710849\n"
     ]
    },
    {
     "data": {
      "image/png": "[encoded data removed]",
      "text/plain": [
       "<Figure size 432x288 with 1 Axes>"
      ]
     },
     "metadata": {
      "needs_background": "light"
     },
     "output_type": "display_data"
    }
   ],
   "source": [
    "# Add the linear regression equation and line to plot and saving plot fig to png format\n",
    "fig = plt.figure()\n",
    "x_values = unemployment\n",
    "y_values = work_hours\n",
    "(slope, intercept, rvalue, pvalue, stderr) = linregress(x_values, y_values)\n",
    "regress_values = x_values * slope + intercept\n",
    "line_eq = \"y = \" + str(round(slope,2)) + \"x + \" + str(round(intercept,2))\n",
    "plt.scatter(x_values,y_values)\n",
    "plt.plot(x_values,regress_values,\"r-\")\n",
    "plt.annotate(line_eq,(6,10),fontsize=15,color=\"red\")\n",
    "plt.title(\"Unemployment Rate vs Yearly Working Hours in USA\")\n",
    "plt.ylabel(\"Working Hours\")\n",
    "plt.xlabel(\"Unemployment Rate\")\n",
    "print(f\"The r-squared is: {rvalue**2}\")\n",
    "fig.savefig(\"data/life_exp_vs_work_hrs_linear_regression.png\")\n",
    "plt.show()"
   ]
  },
  {
   "cell_type": "code",
   "execution_count": null,
   "metadata": {},
   "outputs": [],
   "source": []
  }
 ],
 "metadata": {
  "kernelspec": {
   "display_name": "Python 3",
   "language": "python",
   "name": "python3"
  },
  "language_info": {
   "codemirror_mode": {
    "name": "ipython",
    "version": 3
   },
   "file_extension": ".py",
   "mimetype": "text/x-python",
   "name": "python",
   "nbconvert_exporter": "python",
   "pygments_lexer": "ipython3",
   "version": "3.8.3"
  }
 },
 "nbformat": 4,
 "nbformat_minor": 4
}
