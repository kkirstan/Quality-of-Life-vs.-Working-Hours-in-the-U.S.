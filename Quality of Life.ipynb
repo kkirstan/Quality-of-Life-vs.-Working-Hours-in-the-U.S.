{
 "cells": [
  {
   "cell_type": "code",
   "execution_count": 2,
   "metadata": {},
   "outputs": [],
   "source": [
    "import os\n",
    "import csv\n",
    "import matplotlib.pyplot as plt\n",
    "import pandas as pd\n",
    "import numpy as np\n",
    "import scipy.stats as stats\n",
    "from scipy.stats import linregress"
   ]
  },
  {
   "cell_type": "code",
   "execution_count": null,
   "metadata": {},
   "outputs": [],
   "source": []
  },
  {
   "cell_type": "code",
   "execution_count": 3,
   "metadata": {},
   "outputs": [
    {
     "data": {
      "text/html": [
       "<div>\n",
       "<style scoped>\n",
       "    .dataframe tbody tr th:only-of-type {\n",
       "        vertical-align: middle;\n",
       "    }\n",
       "\n",
       "    .dataframe tbody tr th {\n",
       "        vertical-align: top;\n",
       "    }\n",
       "\n",
       "    .dataframe thead th {\n",
       "        text-align: right;\n",
       "    }\n",
       "</style>\n",
       "<table border=\"1\" class=\"dataframe\">\n",
       "  <thead>\n",
       "    <tr style=\"text-align: right;\">\n",
       "      <th></th>\n",
       "      <th>Entity_x</th>\n",
       "      <th>Code_x</th>\n",
       "      <th>Year</th>\n",
       "      <th>Total Years of Schooling</th>\n",
       "      <th>Entity_y</th>\n",
       "      <th>Code_y</th>\n",
       "      <th>Annual Working Hours</th>\n",
       "    </tr>\n",
       "  </thead>\n",
       "  <tbody>\n",
       "    <tr>\n",
       "      <th>0</th>\n",
       "      <td>United States</td>\n",
       "      <td>USA</td>\n",
       "      <td>1870</td>\n",
       "      <td>3.70</td>\n",
       "      <td>United States</td>\n",
       "      <td>USA</td>\n",
       "      <td>3096.000</td>\n",
       "    </tr>\n",
       "    <tr>\n",
       "      <th>2</th>\n",
       "      <td>United States</td>\n",
       "      <td>USA</td>\n",
       "      <td>1880</td>\n",
       "      <td>4.49</td>\n",
       "      <td>United States</td>\n",
       "      <td>USA</td>\n",
       "      <td>3044.000</td>\n",
       "    </tr>\n",
       "    <tr>\n",
       "      <th>4</th>\n",
       "      <td>United States</td>\n",
       "      <td>USA</td>\n",
       "      <td>1890</td>\n",
       "      <td>5.45</td>\n",
       "      <td>United States</td>\n",
       "      <td>USA</td>\n",
       "      <td>2983.000</td>\n",
       "    </tr>\n",
       "    <tr>\n",
       "      <th>6</th>\n",
       "      <td>United States</td>\n",
       "      <td>USA</td>\n",
       "      <td>1900</td>\n",
       "      <td>6.48</td>\n",
       "      <td>United States</td>\n",
       "      <td>USA</td>\n",
       "      <td>2938.000</td>\n",
       "    </tr>\n",
       "    <tr>\n",
       "      <th>16</th>\n",
       "      <td>United States</td>\n",
       "      <td>USA</td>\n",
       "      <td>1950</td>\n",
       "      <td>8.13</td>\n",
       "      <td>United States</td>\n",
       "      <td>USA</td>\n",
       "      <td>1989.238</td>\n",
       "    </tr>\n",
       "  </tbody>\n",
       "</table>\n",
       "</div>"
      ],
      "text/plain": [
       "         Entity_x Code_x  Year  Total Years of Schooling       Entity_y  \\\n",
       "0   United States    USA  1870                      3.70  United States   \n",
       "2   United States    USA  1880                      4.49  United States   \n",
       "4   United States    USA  1890                      5.45  United States   \n",
       "6   United States    USA  1900                      6.48  United States   \n",
       "16  United States    USA  1950                      8.13  United States   \n",
       "\n",
       "   Code_y  Annual Working Hours  \n",
       "0     USA              3096.000  \n",
       "2     USA              3044.000  \n",
       "4     USA              2983.000  \n",
       "6     USA              2938.000  \n",
       "16    USA              1989.238  "
      ]
     },
     "execution_count": 3,
     "metadata": {},
     "output_type": "execute_result"
    }
   ],
   "source": [
    "#CSV files\n",
    "schooling_data_path = \"data/mean-years-of-schooling.csv\"\n",
    "working_hours_data_path = \"data/working_hours_KK.csv\"\n",
    "edu_level_data_path = \"data/wrk_hrs_edu_new.csv\"\n",
    "\n",
    "# Read in the data\n",
    "schooling = pd.read_csv(schooling_data_path)\n",
    "working_hours = pd.read_csv(working_hours_data_path)\n",
    "edu_level = pd.read_csv(edu_level_data_path)\n",
    "\n",
    "#Combine the data into a single dataset\n",
    "all_data = pd.merge(schooling, working_hours, how=\"left\", on=[\"Year\", \"Year\"])\n",
    "\n",
    "#Drop years with no schooling data\n",
    "all_data_new = all_data.dropna()\n",
    "all_data_new.head(5)"
   ]
  },
  {
   "cell_type": "code",
   "execution_count": 4,
   "metadata": {},
   "outputs": [
    {
     "data": {
      "image/png": "[encoded data removed]",
      "text/plain": [
       "<Figure size 576x576 with 1 Axes>"
      ]
     },
     "metadata": {
      "needs_background": "light"
     },
     "output_type": "display_data"
    },
    {
     "data": {
      "text/plain": [
       "<Figure size 432x288 with 0 Axes>"
      ]
     },
     "metadata": {},
     "output_type": "display_data"
    }
   ],
   "source": [
    "wh_time_plot = all_data_new.plot(kind=\"line\", x=\"Year\", xlabel=\"Year\", y=\"Annual Working Hours\", ylabel=\"Working Hours\", grid=True, figsize=(8,8), \n",
    "               title=\"Annual Working Hours (1870-2017) (US)\")\n",
    "wh_time_plot.xaxis.get_label().set_visible(True)\n",
    "wh_time_plot.yaxis.get_label().set_visible(True)\n",
    "plt.show()\n",
    "plt.savefig('wh_time_line_plot.png')"
   ]
  },
  {
   "cell_type": "code",
   "execution_count": null,
   "metadata": {},
   "outputs": [],
   "source": []
  },
  {
   "cell_type": "code",
   "execution_count": 5,
   "metadata": {},
   "outputs": [
    {
     "name": "stdout",
     "output_type": "stream",
     "text": [
      "The regression line equation is: y = -133.39x +3474.69\n",
      "The correlation coefficient (r) is: -0.9269304430483828\n",
      "The r-squared is: 0.8592000462498712\n"
     ]
    },
    {
     "data": {
      "image/png": "[encoded data removed]",
      "text/plain": [
       "<Figure size 432x288 with 1 Axes>"
      ]
     },
     "metadata": {
      "needs_background": "light"
     },
     "output_type": "display_data"
    }
   ],
   "source": [
    "x=all_data_new[\"Total Years of Schooling\"]\n",
    "y=all_data_new[\"Annual Working Hours\"]\n",
    "(edu_wh_slope, edu_wh_intercept, edu_wh_rvalue, edu_wh_pvalue, edu_wh_stderr) = linregress(x,y)\n",
    "regress_values = x * edu_wh_slope + edu_wh_intercept\n",
    "line_eq = \"y = \" + str(round(edu_wh_slope,2)) + \"x +\" + str(round(edu_wh_intercept,2))\n",
    "plt.scatter(x,y)\n",
    "plt.plot(x,regress_values,\"r-\")\n",
    "plt.title(\"Annual Working Hours vs. Total Years of Schooling (US)\")\n",
    "plt.xlabel(\"Years of Schooling\")\n",
    "plt.ylabel(\"Working Hours\")\n",
    "print(f\"The regression line equation is: {line_eq}\")\n",
    "print(f\"The correlation coefficient (r) is: {edu_wh_rvalue}\")\n",
    "print(f\"The r-squared is: {edu_wh_rvalue**2}\")\n",
    "plt.savefig('wh_edu_scatter.png')\n",
    "plt.show()"
   ]
  },
  {
   "cell_type": "code",
   "execution_count": null,
   "metadata": {},
   "outputs": [],
   "source": []
  },
  {
   "cell_type": "code",
   "execution_count": 6,
   "metadata": {},
   "outputs": [
    {
     "data": {
      "text/html": [
       "<div>\n",
       "<style scoped>\n",
       "    .dataframe tbody tr th:only-of-type {\n",
       "        vertical-align: middle;\n",
       "    }\n",
       "\n",
       "    .dataframe tbody tr th {\n",
       "        vertical-align: top;\n",
       "    }\n",
       "\n",
       "    .dataframe thead th {\n",
       "        text-align: right;\n",
       "    }\n",
       "</style>\n",
       "<table border=\"1\" class=\"dataframe\">\n",
       "  <thead>\n",
       "    <tr style=\"text-align: right;\">\n",
       "      <th></th>\n",
       "      <th>Educational Attainment</th>\n",
       "      <th>Total Employed</th>\n",
       "      <th>Number (Average Day)</th>\n",
       "      <th>Percent of Employed (Average Day)</th>\n",
       "      <th>Average hours of work (Average Day)</th>\n",
       "      <th>Number (Average Weekday)</th>\n",
       "      <th>Percent of Employed (Average Weekday)</th>\n",
       "      <th>Average hours of work (Average Weekday)</th>\n",
       "      <th>Number (Average Sat, Sun, Holiday)</th>\n",
       "      <th>Percent of Employed (Average Sat, Sun, Holiday)</th>\n",
       "      <th>Average hours of work (Average Sat, Sun, Holiday)</th>\n",
       "    </tr>\n",
       "  </thead>\n",
       "  <tbody>\n",
       "    <tr>\n",
       "      <th>0</th>\n",
       "      <td>Less than a high school diploma</td>\n",
       "      <td>10,339</td>\n",
       "      <td>6,832</td>\n",
       "      <td>66.1</td>\n",
       "      <td>8.07</td>\n",
       "      <td>8,503</td>\n",
       "      <td>82.2</td>\n",
       "      <td>8.12</td>\n",
       "      <td>2,950</td>\n",
       "      <td>28.5</td>\n",
       "      <td>7.74</td>\n",
       "    </tr>\n",
       "    <tr>\n",
       "      <th>1</th>\n",
       "      <td>High school graduates, no college</td>\n",
       "      <td>36,458</td>\n",
       "      <td>24,095</td>\n",
       "      <td>66.1</td>\n",
       "      <td>8.11</td>\n",
       "      <td>29,360</td>\n",
       "      <td>80.5</td>\n",
       "      <td>8.43</td>\n",
       "      <td>11,370</td>\n",
       "      <td>31.2</td>\n",
       "      <td>6.12</td>\n",
       "    </tr>\n",
       "    <tr>\n",
       "      <th>2</th>\n",
       "      <td>Some college or associate degree</td>\n",
       "      <td>34,223</td>\n",
       "      <td>22,597</td>\n",
       "      <td>66.0</td>\n",
       "      <td>7.82</td>\n",
       "      <td>27,625</td>\n",
       "      <td>80.7</td>\n",
       "      <td>8.14</td>\n",
       "      <td>10,555</td>\n",
       "      <td>30.8</td>\n",
       "      <td>5.79</td>\n",
       "    </tr>\n",
       "    <tr>\n",
       "      <th>3</th>\n",
       "      <td>Bachelor's degree and higher</td>\n",
       "      <td>63,210</td>\n",
       "      <td>45,069</td>\n",
       "      <td>71.3</td>\n",
       "      <td>7.36</td>\n",
       "      <td>55,153</td>\n",
       "      <td>87.3</td>\n",
       "      <td>7.91</td>\n",
       "      <td>21,501</td>\n",
       "      <td>34.0</td>\n",
       "      <td>4.04</td>\n",
       "    </tr>\n",
       "    <tr>\n",
       "      <th>4</th>\n",
       "      <td>Bachelor's degree only</td>\n",
       "      <td>36,985</td>\n",
       "      <td>25,713</td>\n",
       "      <td>69.5</td>\n",
       "      <td>7.57</td>\n",
       "      <td>31,432</td>\n",
       "      <td>85.0</td>\n",
       "      <td>8.04</td>\n",
       "      <td>12,165</td>\n",
       "      <td>32.9</td>\n",
       "      <td>4.68</td>\n",
       "    </tr>\n",
       "  </tbody>\n",
       "</table>\n",
       "</div>"
      ],
      "text/plain": [
       "              Educational Attainment Total Employed Number (Average Day)  \\\n",
       "0    Less than a high school diploma         10,339                6,832   \n",
       "1  High school graduates, no college         36,458               24,095   \n",
       "2   Some college or associate degree         34,223               22,597   \n",
       "3       Bachelor's degree and higher         63,210               45,069   \n",
       "4             Bachelor's degree only         36,985               25,713   \n",
       "\n",
       "   Percent of Employed (Average Day)  Average hours of work (Average Day)  \\\n",
       "0                               66.1                                 8.07   \n",
       "1                               66.1                                 8.11   \n",
       "2                               66.0                                 7.82   \n",
       "3                               71.3                                 7.36   \n",
       "4                               69.5                                 7.57   \n",
       "\n",
       "  Number (Average Weekday)  Percent of Employed (Average Weekday)  \\\n",
       "0                    8,503                                   82.2   \n",
       "1                   29,360                                   80.5   \n",
       "2                   27,625                                   80.7   \n",
       "3                   55,153                                   87.3   \n",
       "4                   31,432                                   85.0   \n",
       "\n",
       "   Average hours of work (Average Weekday) Number (Average Sat, Sun, Holiday)  \\\n",
       "0                                     8.12                              2,950   \n",
       "1                                     8.43                             11,370   \n",
       "2                                     8.14                             10,555   \n",
       "3                                     7.91                             21,501   \n",
       "4                                     8.04                             12,165   \n",
       "\n",
       "   Percent of Employed (Average Sat, Sun, Holiday)  \\\n",
       "0                                             28.5   \n",
       "1                                             31.2   \n",
       "2                                             30.8   \n",
       "3                                             34.0   \n",
       "4                                             32.9   \n",
       "\n",
       "   Average hours of work (Average Sat, Sun, Holiday)  \n",
       "0                                               7.74  \n",
       "1                                               6.12  \n",
       "2                                               5.79  \n",
       "3                                               4.04  \n",
       "4                                               4.68  "
      ]
     },
     "execution_count": 6,
     "metadata": {},
     "output_type": "execute_result"
    }
   ],
   "source": [
    "#Import new dataset analyzing hours worked by educational attainment\n",
    "edu_level.head()"
   ]
  },
  {
   "cell_type": "code",
   "execution_count": 8,
   "metadata": {},
   "outputs": [
    {
     "data": {
      "image/png": "[encoded data removed]",
      "text/plain": [
       "<Figure size 432x288 with 1 Axes>"
      ]
     },
     "metadata": {
      "needs_background": "light"
     },
     "output_type": "display_data"
    }
   ],
   "source": [
    "#Average hours spent working (weekdays) by educational attainment\n",
    "y=edu_level[\"Average hours of work (Average Weekday)\"]\n",
    "x=edu_level[\"Educational Attainment\"]\n",
    "plt.title('Average Hours Worked by Educational Attainment (Weekdays)')\n",
    "plt.bar(x,y)\n",
    "plt.xticks(rotation=90)\n",
    "plt.ylabel(\"Working Hours\")\n",
    "plt.savefig('wh_wkdy_bar.png')"
   ]
  },
  {
   "cell_type": "code",
   "execution_count": null,
   "metadata": {},
   "outputs": [],
   "source": []
  },
  {
   "cell_type": "code",
   "execution_count": 9,
   "metadata": {},
   "outputs": [
    {
     "data": {
      "image/png": "[encoded data removed]",
      "text/plain": [
       "<Figure size 432x288 with 1 Axes>"
      ]
     },
     "metadata": {
      "needs_background": "light"
     },
     "output_type": "display_data"
    }
   ],
   "source": [
    "#Average hours spent working (weekends/holidays) by educational attainment\n",
    "y=edu_level[\"Average hours of work (Average Sat, Sun, Holiday)\"]\n",
    "x=edu_level[\"Educational Attainment\"]\n",
    "plt.title('Average Hours Worked by Educational Attainment (Weekends/Holidays)')\n",
    "plt.bar(x,y)\n",
    "plt.xticks(rotation=90)\n",
    "plt.ylabel(\"Working Hours\")\n",
    "plt.savefig('wh_wknd_bar.png')"
   ]
  },
  {
   "cell_type": "code",
   "execution_count": 10,
   "metadata": {},
   "outputs": [],
   "source": [
    "#Input observed values\n",
    "observed = pd.Series([7.74,6.12,5.79,4.04,4.68,3.23], index=[\"Less than a high school diploma\", \"High school graduates, no college\", \"Some college or associate degree\",\"Bachelor's degree and higher\",\"Bachelor's degree only\",\"Advanced Degree\"])"
   ]
  },
  {
   "cell_type": "code",
   "execution_count": 11,
   "metadata": {},
   "outputs": [],
   "source": [
    "wknd_hours_df = pd.DataFrame([observed]).T"
   ]
  },
  {
   "cell_type": "code",
   "execution_count": 12,
   "metadata": {},
   "outputs": [],
   "source": [
    "## Input expected values\n",
    "wknd_hours_df[1] = 5.27"
   ]
  },
  {
   "cell_type": "code",
   "execution_count": 13,
   "metadata": {},
   "outputs": [
    {
     "data": {
      "text/html": [
       "<div>\n",
       "<style scoped>\n",
       "    .dataframe tbody tr th:only-of-type {\n",
       "        vertical-align: middle;\n",
       "    }\n",
       "\n",
       "    .dataframe tbody tr th {\n",
       "        vertical-align: top;\n",
       "    }\n",
       "\n",
       "    .dataframe thead th {\n",
       "        text-align: right;\n",
       "    }\n",
       "</style>\n",
       "<table border=\"1\" class=\"dataframe\">\n",
       "  <thead>\n",
       "    <tr style=\"text-align: right;\">\n",
       "      <th></th>\n",
       "      <th>observed</th>\n",
       "      <th>expected</th>\n",
       "    </tr>\n",
       "  </thead>\n",
       "  <tbody>\n",
       "    <tr>\n",
       "      <th>Less than a high school diploma</th>\n",
       "      <td>7.74</td>\n",
       "      <td>5.27</td>\n",
       "    </tr>\n",
       "    <tr>\n",
       "      <th>High school graduates, no college</th>\n",
       "      <td>6.12</td>\n",
       "      <td>5.27</td>\n",
       "    </tr>\n",
       "    <tr>\n",
       "      <th>Some college or associate degree</th>\n",
       "      <td>5.79</td>\n",
       "      <td>5.27</td>\n",
       "    </tr>\n",
       "    <tr>\n",
       "      <th>Bachelor's degree and higher</th>\n",
       "      <td>4.04</td>\n",
       "      <td>5.27</td>\n",
       "    </tr>\n",
       "    <tr>\n",
       "      <th>Bachelor's degree only</th>\n",
       "      <td>4.68</td>\n",
       "      <td>5.27</td>\n",
       "    </tr>\n",
       "    <tr>\n",
       "      <th>Advanced Degree</th>\n",
       "      <td>3.23</td>\n",
       "      <td>5.27</td>\n",
       "    </tr>\n",
       "  </tbody>\n",
       "</table>\n",
       "</div>"
      ],
      "text/plain": [
       "                                   observed  expected\n",
       "Less than a high school diploma        7.74      5.27\n",
       "High school graduates, no college      6.12      5.27\n",
       "Some college or associate degree       5.79      5.27\n",
       "Bachelor's degree and higher           4.04      5.27\n",
       "Bachelor's degree only                 4.68      5.27\n",
       "Advanced Degree                        3.23      5.27"
      ]
     },
     "execution_count": 13,
     "metadata": {},
     "output_type": "execute_result"
    }
   ],
   "source": [
    "# Rename columns\n",
    "wknd_hours_df.columns = [\"observed\", \"expected\"]\n",
    "wknd_hours_df"
   ]
  },
  {
   "cell_type": "code",
   "execution_count": 14,
   "metadata": {},
   "outputs": [
    {
     "data": {
      "text/plain": [
       "11.070497693516351"
      ]
     },
     "execution_count": 14,
     "metadata": {},
     "output_type": "execute_result"
    }
   ],
   "source": [
    "# The degree of freedom is 6-1 = 5\n",
    "# With a p-value of 0.05, the confidence level is 1.00-0.05 = 0.95.\n",
    "critical_value = stats.chi2.ppf(q = 0.95, df = 5)\n",
    "critical_value"
   ]
  },
  {
   "cell_type": "code",
   "execution_count": 15,
   "metadata": {},
   "outputs": [
    {
     "data": {
      "text/plain": [
       "Power_divergenceResult(statistic=2.48888045540797, pvalue=0.7781687577075137)"
      ]
     },
     "execution_count": 15,
     "metadata": {},
     "output_type": "execute_result"
    }
   ],
   "source": [
    "# Run the chi square test with stats.chisquare()\n",
    "stats.chisquare(wknd_hours_df[\"observed\"], wknd_hours_df[\"expected\"])"
   ]
  },
  {
   "cell_type": "code",
   "execution_count": null,
   "metadata": {},
   "outputs": [],
   "source": [
    "#LIFE EXPECTANCY\n",
    "#Read annual working hours per worker on the world\n",
    "WH_data = pd.read_csv('data/annual-working-hours-per-worker.csv')\n",
    "WH_data.head()"
   ]
  },
  {
   "cell_type": "code",
   "execution_count": null,
   "metadata": {},
   "outputs": [],
   "source": [
    "#Filter only for USA\n",
    "filt=(WH_data[\"Code\"]=='USA')\n",
    "WH_USA_df=WH_data[filt]\n",
    "WH_USA_df.head()"
   ]
  },
  {
   "cell_type": "code",
   "execution_count": null,
   "metadata": {},
   "outputs": [],
   "source": [
    "#Checking Results\n",
    "WH_USA_df.shape"
   ]
  },
  {
   "cell_type": "code",
   "execution_count": null,
   "metadata": {},
   "outputs": [],
   "source": [
    "#Read life expectancy on the world\n",
    "LE_data = pd.read_csv('data/life-expectancy.csv')\n",
    "LE_data.head()"
   ]
  },
  {
   "cell_type": "code",
   "execution_count": null,
   "metadata": {},
   "outputs": [],
   "source": [
    "#Filter only for USA\n",
    "filt=(LE_data[\"Code\"]=='USA')\n",
    "LE_USA_df=LE_data[filt]\n",
    "LE_USA_df.head()"
   ]
  },
  {
   "cell_type": "code",
   "execution_count": null,
   "metadata": {},
   "outputs": [],
   "source": [
    "#Checking Results\n",
    "LE_USA_df.shape"
   ]
  },
  {
   "cell_type": "code",
   "execution_count": null,
   "metadata": {},
   "outputs": [],
   "source": [
    "#Merging both data frames, dropping NaN\n",
    "data_combined_df=pd.merge(WH_USA_df, LE_USA_df, how=\"outer\", on=\"Year\")\n",
    "data_combined_df.dropna(inplace=True)\n",
    "data_combined_df"
   ]
  },
  {
   "cell_type": "code",
   "execution_count": null,
   "metadata": {},
   "outputs": [],
   "source": [
    "#Checking Column names\n",
    "list(data_combined_df.columns)"
   ]
  },
  {
   "cell_type": "code",
   "execution_count": null,
   "metadata": {},
   "outputs": [],
   "source": [
    "#Drop not use columns and rename columns left\n",
    "data_combined_df.drop(['Entity_y', 'Code_y'], axis=1, inplace=True)\n",
    "data_combined_df.rename(columns = {'Entity_x':'Country', 'Code_x':'Country Code'}, inplace = True) \n",
    "data_combined_df.head()"
   ]
  },
  {
   "cell_type": "code",
   "execution_count": null,
   "metadata": {},
   "outputs": [],
   "source": [
    "#Checking results\n",
    "data_combined_df.shape"
   ]
  },
  {
   "cell_type": "code",
   "execution_count": null,
   "metadata": {},
   "outputs": [],
   "source": [
    "#Extracting data to plot\n",
    "years=data_combined_df['Year']\n",
    "work_hours=data_combined_df['Average annual working hours per worker']\n",
    "life_expectancy=data_combined_df['Life expectancy']"
   ]
  },
  {
   "cell_type": "code",
   "execution_count": null,
   "metadata": {},
   "outputs": [],
   "source": [
    "#Plotting working hours in USA and saving plot fig to png format\n",
    "fig = plt.figure()\n",
    "plt.title(\"Working Hours in USA thru the Years\")\n",
    "plt.ylabel(\"Working Hours\")\n",
    "plt.xlabel(\"Years\")\n",
    "plt.plot(years,work_hours, color='red', label=\"Working Hours\")\n",
    "plt.legend(loc=\"upper right\")\n",
    "plt.grid()\n",
    "fig.savefig(\"data/working_hours_USA.png\")"
   ]
  },
  {
   "cell_type": "code",
   "execution_count": null,
   "metadata": {},
   "outputs": [],
   "source": [
    "#Plotting Life expectancy on USA and saving plot fig to png format\n",
    "fig = plt.figure()\n",
    "plt.title(\"Life Expectancy on the USA\")\n",
    "plt.ylabel(\"Life Expectancy\")\n",
    "plt.xlabel(\"Years\")\n",
    "plt.plot(years,life_expectancy, color='red', label=\"Life Expectancy\")\n",
    "plt.legend(loc=\"upper right\")\n",
    "plt.grid()\n",
    "fig.savefig(\"data/life_expectancy.png\")"
   ]
  },
  {
   "cell_type": "code",
   "execution_count": null,
   "metadata": {},
   "outputs": [],
   "source": [
    "#Correlation between Life Expectancy and Working Hours \n",
    "plt.title(\"Life Expectancy in USA vs Yearly Working Hours\")\n",
    "plt.ylabel(\"Working Hours\")\n",
    "plt.xlabel(\"Life Expectancy\")\n",
    "plt.scatter(life_expectancy[:,], work_hours)"
   ]
  },
  {
   "cell_type": "code",
   "execution_count": null,
   "metadata": {},
   "outputs": [],
   "source": [
    "# Add the linear regression equation and line to plot and saving plot fig to png format\n",
    "fig = plt.figure()\n",
    "x_values = life_expectancy[:,]\n",
    "y_values = work_hours\n",
    "(slope, intercept, rvalue, pvalue, stderr) = linregress(x_values, y_values)\n",
    "regress_values = x_values * slope + intercept\n",
    "line_eq = \"y = \" + str(round(slope,2)) + \"x + \" + str(round(intercept,2))\n",
    "plt.scatter(x_values,y_values)\n",
    "plt.plot(x_values,regress_values,\"r-\")\n",
    "plt.annotate(line_eq,(6,10),fontsize=15,color=\"red\")\n",
    "plt.title(\"Life Expectancy vs Yearly Working Hours in USA\")\n",
    "plt.ylabel(\"Working Hours\")\n",
    "plt.xlabel(\"Life Expectancy\")\n",
    "print(f\"The r-squared is: {rvalue**2}\")\n",
    "fig.savefig(\"data/life_exp_vs_work_hrs_linear_regression.png\")\n",
    "plt.show()"
   ]
  }
 ],
 "metadata": {
  "kernelspec": {
   "display_name": "Python 3",
   "language": "python",
   "name": "python3"
  },
  "language_info": {
   "codemirror_mode": {
    "name": "ipython",
    "version": 3
   },
   "file_extension": ".py",
   "mimetype": "text/x-python",
   "name": "python",
   "nbconvert_exporter": "python",
   "pygments_lexer": "ipython3",
   "version": "3.8.3"
  }
 },
 "nbformat": 4,
 "nbformat_minor": 4
}
