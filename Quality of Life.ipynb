{
 "cells": [
  {
   "cell_type": "code",
   "execution_count": 1,
   "metadata": {},
   "outputs": [],
   "source": [
    "# Dependencies and Setup\n",
    "import matplotlib.pyplot as plt\n",
    "import pandas as pd\n",
    "import numpy as np\n",
    "import requests\n",
    "import gmaps\n",
    "import os\n",
    "import json\n",
    "from scipy.stats import linregress"
   ]
  },
  {
   "cell_type": "code",
   "execution_count": 2,
   "metadata": {},
   "outputs": [
    {
     "data": {
      "text/html": [
       "<div>\n",
       "<style scoped>\n",
       "    .dataframe tbody tr th:only-of-type {\n",
       "        vertical-align: middle;\n",
       "    }\n",
       "\n",
       "    .dataframe tbody tr th {\n",
       "        vertical-align: top;\n",
       "    }\n",
       "\n",
       "    .dataframe thead th {\n",
       "        text-align: right;\n",
       "    }\n",
       "</style>\n",
       "<table border=\"1\" class=\"dataframe\">\n",
       "  <thead>\n",
       "    <tr style=\"text-align: right;\">\n",
       "      <th></th>\n",
       "      <th>Entity</th>\n",
       "      <th>Code</th>\n",
       "      <th>Year</th>\n",
       "      <th>Average annual working hours per worker</th>\n",
       "    </tr>\n",
       "  </thead>\n",
       "  <tbody>\n",
       "    <tr>\n",
       "      <th>0</th>\n",
       "      <td>Argentina</td>\n",
       "      <td>ARG</td>\n",
       "      <td>1950</td>\n",
       "      <td>2034.0000</td>\n",
       "    </tr>\n",
       "    <tr>\n",
       "      <th>1</th>\n",
       "      <td>Argentina</td>\n",
       "      <td>ARG</td>\n",
       "      <td>1951</td>\n",
       "      <td>2037.8667</td>\n",
       "    </tr>\n",
       "    <tr>\n",
       "      <th>2</th>\n",
       "      <td>Argentina</td>\n",
       "      <td>ARG</td>\n",
       "      <td>1952</td>\n",
       "      <td>2041.7408</td>\n",
       "    </tr>\n",
       "    <tr>\n",
       "      <th>3</th>\n",
       "      <td>Argentina</td>\n",
       "      <td>ARG</td>\n",
       "      <td>1953</td>\n",
       "      <td>2045.6223</td>\n",
       "    </tr>\n",
       "    <tr>\n",
       "      <th>4</th>\n",
       "      <td>Argentina</td>\n",
       "      <td>ARG</td>\n",
       "      <td>1954</td>\n",
       "      <td>2049.5112</td>\n",
       "    </tr>\n",
       "  </tbody>\n",
       "</table>\n",
       "</div>"
      ],
      "text/plain": [
       "      Entity Code  Year  Average annual working hours per worker\n",
       "0  Argentina  ARG  1950                                2034.0000\n",
       "1  Argentina  ARG  1951                                2037.8667\n",
       "2  Argentina  ARG  1952                                2041.7408\n",
       "3  Argentina  ARG  1953                                2045.6223\n",
       "4  Argentina  ARG  1954                                2049.5112"
      ]
     },
     "execution_count": 2,
     "metadata": {},
     "output_type": "execute_result"
    }
   ],
   "source": [
    "#LIFE EXPECTANCY\n",
    "#Read annual working hours per worker on the world\n",
    "WH_data = pd.read_csv('data/annual-working-hours-per-worker.csv')\n",
    "WH_data.head()"
   ]
  },
  {
   "cell_type": "code",
   "execution_count": 3,
   "metadata": {},
   "outputs": [
    {
     "data": {
      "text/html": [
       "<div>\n",
       "<style scoped>\n",
       "    .dataframe tbody tr th:only-of-type {\n",
       "        vertical-align: middle;\n",
       "    }\n",
       "\n",
       "    .dataframe tbody tr th {\n",
       "        vertical-align: top;\n",
       "    }\n",
       "\n",
       "    .dataframe thead th {\n",
       "        text-align: right;\n",
       "    }\n",
       "</style>\n",
       "<table border=\"1\" class=\"dataframe\">\n",
       "  <thead>\n",
       "    <tr style=\"text-align: right;\">\n",
       "      <th></th>\n",
       "      <th>Entity</th>\n",
       "      <th>Code</th>\n",
       "      <th>Year</th>\n",
       "      <th>Average annual working hours per worker</th>\n",
       "    </tr>\n",
       "  </thead>\n",
       "  <tbody>\n",
       "    <tr>\n",
       "      <th>3263</th>\n",
       "      <td>United States</td>\n",
       "      <td>USA</td>\n",
       "      <td>1870</td>\n",
       "      <td>3096.0</td>\n",
       "    </tr>\n",
       "    <tr>\n",
       "      <th>3264</th>\n",
       "      <td>United States</td>\n",
       "      <td>USA</td>\n",
       "      <td>1880</td>\n",
       "      <td>3044.0</td>\n",
       "    </tr>\n",
       "    <tr>\n",
       "      <th>3265</th>\n",
       "      <td>United States</td>\n",
       "      <td>USA</td>\n",
       "      <td>1890</td>\n",
       "      <td>2983.0</td>\n",
       "    </tr>\n",
       "    <tr>\n",
       "      <th>3266</th>\n",
       "      <td>United States</td>\n",
       "      <td>USA</td>\n",
       "      <td>1900</td>\n",
       "      <td>2938.0</td>\n",
       "    </tr>\n",
       "    <tr>\n",
       "      <th>3267</th>\n",
       "      <td>United States</td>\n",
       "      <td>USA</td>\n",
       "      <td>1913</td>\n",
       "      <td>2900.0</td>\n",
       "    </tr>\n",
       "  </tbody>\n",
       "</table>\n",
       "</div>"
      ],
      "text/plain": [
       "             Entity Code  Year  Average annual working hours per worker\n",
       "3263  United States  USA  1870                                   3096.0\n",
       "3264  United States  USA  1880                                   3044.0\n",
       "3265  United States  USA  1890                                   2983.0\n",
       "3266  United States  USA  1900                                   2938.0\n",
       "3267  United States  USA  1913                                   2900.0"
      ]
     },
     "execution_count": 3,
     "metadata": {},
     "output_type": "execute_result"
    }
   ],
   "source": [
    "#Filter only for USA\n",
    "filt=(WH_data[\"Code\"]=='USA')\n",
    "WH_USA_df=WH_data[filt]\n",
    "WH_USA_df.head()"
   ]
  },
  {
   "cell_type": "code",
   "execution_count": 4,
   "metadata": {},
   "outputs": [
    {
     "data": {
      "text/plain": [
       "(75, 4)"
      ]
     },
     "execution_count": 4,
     "metadata": {},
     "output_type": "execute_result"
    }
   ],
   "source": [
    "#Checking Results\n",
    "WH_USA_df.shape"
   ]
  },
  {
   "cell_type": "code",
   "execution_count": 5,
   "metadata": {},
   "outputs": [
    {
     "data": {
      "text/html": [
       "<div>\n",
       "<style scoped>\n",
       "    .dataframe tbody tr th:only-of-type {\n",
       "        vertical-align: middle;\n",
       "    }\n",
       "\n",
       "    .dataframe tbody tr th {\n",
       "        vertical-align: top;\n",
       "    }\n",
       "\n",
       "    .dataframe thead th {\n",
       "        text-align: right;\n",
       "    }\n",
       "</style>\n",
       "<table border=\"1\" class=\"dataframe\">\n",
       "  <thead>\n",
       "    <tr style=\"text-align: right;\">\n",
       "      <th></th>\n",
       "      <th>Entity</th>\n",
       "      <th>Code</th>\n",
       "      <th>Year</th>\n",
       "      <th>Life expectancy</th>\n",
       "    </tr>\n",
       "  </thead>\n",
       "  <tbody>\n",
       "    <tr>\n",
       "      <th>0</th>\n",
       "      <td>Afghanistan</td>\n",
       "      <td>AFG</td>\n",
       "      <td>1950</td>\n",
       "      <td>27.638</td>\n",
       "    </tr>\n",
       "    <tr>\n",
       "      <th>1</th>\n",
       "      <td>Afghanistan</td>\n",
       "      <td>AFG</td>\n",
       "      <td>1951</td>\n",
       "      <td>27.878</td>\n",
       "    </tr>\n",
       "    <tr>\n",
       "      <th>2</th>\n",
       "      <td>Afghanistan</td>\n",
       "      <td>AFG</td>\n",
       "      <td>1952</td>\n",
       "      <td>28.361</td>\n",
       "    </tr>\n",
       "    <tr>\n",
       "      <th>3</th>\n",
       "      <td>Afghanistan</td>\n",
       "      <td>AFG</td>\n",
       "      <td>1953</td>\n",
       "      <td>28.852</td>\n",
       "    </tr>\n",
       "    <tr>\n",
       "      <th>4</th>\n",
       "      <td>Afghanistan</td>\n",
       "      <td>AFG</td>\n",
       "      <td>1954</td>\n",
       "      <td>29.350</td>\n",
       "    </tr>\n",
       "  </tbody>\n",
       "</table>\n",
       "</div>"
      ],
      "text/plain": [
       "        Entity Code  Year  Life expectancy\n",
       "0  Afghanistan  AFG  1950           27.638\n",
       "1  Afghanistan  AFG  1951           27.878\n",
       "2  Afghanistan  AFG  1952           28.361\n",
       "3  Afghanistan  AFG  1953           28.852\n",
       "4  Afghanistan  AFG  1954           29.350"
      ]
     },
     "execution_count": 5,
     "metadata": {},
     "output_type": "execute_result"
    }
   ],
   "source": [
    "#Read life expectancy on the world\n",
    "LE_data = pd.read_csv('data/life-expectancy.csv')\n",
    "LE_data.head()"
   ]
  },
  {
   "cell_type": "code",
   "execution_count": 6,
   "metadata": {},
   "outputs": [
    {
     "data": {
      "text/html": [
       "<div>\n",
       "<style scoped>\n",
       "    .dataframe tbody tr th:only-of-type {\n",
       "        vertical-align: middle;\n",
       "    }\n",
       "\n",
       "    .dataframe tbody tr th {\n",
       "        vertical-align: top;\n",
       "    }\n",
       "\n",
       "    .dataframe thead th {\n",
       "        text-align: right;\n",
       "    }\n",
       "</style>\n",
       "<table border=\"1\" class=\"dataframe\">\n",
       "  <thead>\n",
       "    <tr style=\"text-align: right;\">\n",
       "      <th></th>\n",
       "      <th>Entity</th>\n",
       "      <th>Code</th>\n",
       "      <th>Year</th>\n",
       "      <th>Life expectancy</th>\n",
       "    </tr>\n",
       "  </thead>\n",
       "  <tbody>\n",
       "    <tr>\n",
       "      <th>17980</th>\n",
       "      <td>United States</td>\n",
       "      <td>USA</td>\n",
       "      <td>1880</td>\n",
       "      <td>39.410000</td>\n",
       "    </tr>\n",
       "    <tr>\n",
       "      <th>17981</th>\n",
       "      <td>United States</td>\n",
       "      <td>USA</td>\n",
       "      <td>1890</td>\n",
       "      <td>45.209999</td>\n",
       "    </tr>\n",
       "    <tr>\n",
       "      <th>17982</th>\n",
       "      <td>United States</td>\n",
       "      <td>USA</td>\n",
       "      <td>1901</td>\n",
       "      <td>49.299999</td>\n",
       "    </tr>\n",
       "    <tr>\n",
       "      <th>17983</th>\n",
       "      <td>United States</td>\n",
       "      <td>USA</td>\n",
       "      <td>1902</td>\n",
       "      <td>50.500000</td>\n",
       "    </tr>\n",
       "    <tr>\n",
       "      <th>17984</th>\n",
       "      <td>United States</td>\n",
       "      <td>USA</td>\n",
       "      <td>1903</td>\n",
       "      <td>50.599998</td>\n",
       "    </tr>\n",
       "  </tbody>\n",
       "</table>\n",
       "</div>"
      ],
      "text/plain": [
       "              Entity Code  Year  Life expectancy\n",
       "17980  United States  USA  1880        39.410000\n",
       "17981  United States  USA  1890        45.209999\n",
       "17982  United States  USA  1901        49.299999\n",
       "17983  United States  USA  1902        50.500000\n",
       "17984  United States  USA  1903        50.599998"
      ]
     },
     "execution_count": 6,
     "metadata": {},
     "output_type": "execute_result"
    }
   ],
   "source": [
    "#Filter only for USA\n",
    "filt=(LE_data[\"Code\"]=='USA')\n",
    "LE_USA_df=LE_data[filt]\n",
    "LE_USA_df.head()"
   ]
  },
  {
   "cell_type": "code",
   "execution_count": 7,
   "metadata": {},
   "outputs": [
    {
     "data": {
      "text/plain": [
       "(121, 4)"
      ]
     },
     "execution_count": 7,
     "metadata": {},
     "output_type": "execute_result"
    }
   ],
   "source": [
    "#Checking Results\n",
    "LE_USA_df.shape"
   ]
  },
  {
   "cell_type": "code",
   "execution_count": 8,
   "metadata": {},
   "outputs": [
    {
     "data": {
      "text/html": [
       "<div>\n",
       "<style scoped>\n",
       "    .dataframe tbody tr th:only-of-type {\n",
       "        vertical-align: middle;\n",
       "    }\n",
       "\n",
       "    .dataframe tbody tr th {\n",
       "        vertical-align: top;\n",
       "    }\n",
       "\n",
       "    .dataframe thead th {\n",
       "        text-align: right;\n",
       "    }\n",
       "</style>\n",
       "<table border=\"1\" class=\"dataframe\">\n",
       "  <thead>\n",
       "    <tr style=\"text-align: right;\">\n",
       "      <th></th>\n",
       "      <th>Entity_x</th>\n",
       "      <th>Code_x</th>\n",
       "      <th>Year</th>\n",
       "      <th>Average annual working hours per worker</th>\n",
       "      <th>Entity_y</th>\n",
       "      <th>Code_y</th>\n",
       "      <th>Life expectancy</th>\n",
       "    </tr>\n",
       "  </thead>\n",
       "  <tbody>\n",
       "    <tr>\n",
       "      <th>1</th>\n",
       "      <td>United States</td>\n",
       "      <td>USA</td>\n",
       "      <td>1880</td>\n",
       "      <td>3044.0000</td>\n",
       "      <td>United States</td>\n",
       "      <td>USA</td>\n",
       "      <td>39.410000</td>\n",
       "    </tr>\n",
       "    <tr>\n",
       "      <th>2</th>\n",
       "      <td>United States</td>\n",
       "      <td>USA</td>\n",
       "      <td>1890</td>\n",
       "      <td>2983.0000</td>\n",
       "      <td>United States</td>\n",
       "      <td>USA</td>\n",
       "      <td>45.209999</td>\n",
       "    </tr>\n",
       "    <tr>\n",
       "      <th>4</th>\n",
       "      <td>United States</td>\n",
       "      <td>USA</td>\n",
       "      <td>1913</td>\n",
       "      <td>2900.0000</td>\n",
       "      <td>United States</td>\n",
       "      <td>USA</td>\n",
       "      <td>53.500000</td>\n",
       "    </tr>\n",
       "    <tr>\n",
       "      <th>5</th>\n",
       "      <td>United States</td>\n",
       "      <td>USA</td>\n",
       "      <td>1929</td>\n",
       "      <td>2316.0000</td>\n",
       "      <td>United States</td>\n",
       "      <td>USA</td>\n",
       "      <td>58.500000</td>\n",
       "    </tr>\n",
       "    <tr>\n",
       "      <th>6</th>\n",
       "      <td>United States</td>\n",
       "      <td>USA</td>\n",
       "      <td>1938</td>\n",
       "      <td>1756.0000</td>\n",
       "      <td>United States</td>\n",
       "      <td>USA</td>\n",
       "      <td>62.389999</td>\n",
       "    </tr>\n",
       "    <tr>\n",
       "      <th>...</th>\n",
       "      <td>...</td>\n",
       "      <td>...</td>\n",
       "      <td>...</td>\n",
       "      <td>...</td>\n",
       "      <td>...</td>\n",
       "      <td>...</td>\n",
       "      <td>...</td>\n",
       "    </tr>\n",
       "    <tr>\n",
       "      <th>70</th>\n",
       "      <td>United States</td>\n",
       "      <td>USA</td>\n",
       "      <td>2013</td>\n",
       "      <td>1750.0786</td>\n",
       "      <td>United States</td>\n",
       "      <td>USA</td>\n",
       "      <td>78.909000</td>\n",
       "    </tr>\n",
       "    <tr>\n",
       "      <th>71</th>\n",
       "      <td>United States</td>\n",
       "      <td>USA</td>\n",
       "      <td>2014</td>\n",
       "      <td>1754.4224</td>\n",
       "      <td>United States</td>\n",
       "      <td>USA</td>\n",
       "      <td>78.922000</td>\n",
       "    </tr>\n",
       "    <tr>\n",
       "      <th>72</th>\n",
       "      <td>United States</td>\n",
       "      <td>USA</td>\n",
       "      <td>2015</td>\n",
       "      <td>1765.1826</td>\n",
       "      <td>United States</td>\n",
       "      <td>USA</td>\n",
       "      <td>78.910000</td>\n",
       "    </tr>\n",
       "    <tr>\n",
       "      <th>73</th>\n",
       "      <td>United States</td>\n",
       "      <td>USA</td>\n",
       "      <td>2016</td>\n",
       "      <td>1760.7960</td>\n",
       "      <td>United States</td>\n",
       "      <td>USA</td>\n",
       "      <td>78.885000</td>\n",
       "    </tr>\n",
       "    <tr>\n",
       "      <th>74</th>\n",
       "      <td>United States</td>\n",
       "      <td>USA</td>\n",
       "      <td>2017</td>\n",
       "      <td>1757.2255</td>\n",
       "      <td>United States</td>\n",
       "      <td>USA</td>\n",
       "      <td>78.861000</td>\n",
       "    </tr>\n",
       "  </tbody>\n",
       "</table>\n",
       "<p>73 rows × 7 columns</p>\n",
       "</div>"
      ],
      "text/plain": [
       "         Entity_x Code_x  Year  Average annual working hours per worker  \\\n",
       "1   United States    USA  1880                                3044.0000   \n",
       "2   United States    USA  1890                                2983.0000   \n",
       "4   United States    USA  1913                                2900.0000   \n",
       "5   United States    USA  1929                                2316.0000   \n",
       "6   United States    USA  1938                                1756.0000   \n",
       "..            ...    ...   ...                                      ...   \n",
       "70  United States    USA  2013                                1750.0786   \n",
       "71  United States    USA  2014                                1754.4224   \n",
       "72  United States    USA  2015                                1765.1826   \n",
       "73  United States    USA  2016                                1760.7960   \n",
       "74  United States    USA  2017                                1757.2255   \n",
       "\n",
       "         Entity_y Code_y  Life expectancy  \n",
       "1   United States    USA        39.410000  \n",
       "2   United States    USA        45.209999  \n",
       "4   United States    USA        53.500000  \n",
       "5   United States    USA        58.500000  \n",
       "6   United States    USA        62.389999  \n",
       "..            ...    ...              ...  \n",
       "70  United States    USA        78.909000  \n",
       "71  United States    USA        78.922000  \n",
       "72  United States    USA        78.910000  \n",
       "73  United States    USA        78.885000  \n",
       "74  United States    USA        78.861000  \n",
       "\n",
       "[73 rows x 7 columns]"
      ]
     },
     "execution_count": 8,
     "metadata": {},
     "output_type": "execute_result"
    }
   ],
   "source": [
    "#Merging both data frames, dropping NaN\n",
    "data_combined_df=pd.merge(WH_USA_df, LE_USA_df, how=\"outer\", on=\"Year\")\n",
    "data_combined_df.dropna(inplace=True)\n",
    "data_combined_df"
   ]
  },
  {
   "cell_type": "code",
   "execution_count": 9,
   "metadata": {},
   "outputs": [
    {
     "data": {
      "text/plain": [
       "['Entity_x',\n",
       " 'Code_x',\n",
       " 'Year',\n",
       " 'Average annual working hours per worker',\n",
       " 'Entity_y',\n",
       " 'Code_y',\n",
       " 'Life expectancy']"
      ]
     },
     "execution_count": 9,
     "metadata": {},
     "output_type": "execute_result"
    }
   ],
   "source": [
    "#Checking Column names\n",
    "list(data_combined_df.columns)"
   ]
  },
  {
   "cell_type": "code",
   "execution_count": 10,
   "metadata": {},
   "outputs": [
    {
     "data": {
      "text/html": [
       "<div>\n",
       "<style scoped>\n",
       "    .dataframe tbody tr th:only-of-type {\n",
       "        vertical-align: middle;\n",
       "    }\n",
       "\n",
       "    .dataframe tbody tr th {\n",
       "        vertical-align: top;\n",
       "    }\n",
       "\n",
       "    .dataframe thead th {\n",
       "        text-align: right;\n",
       "    }\n",
       "</style>\n",
       "<table border=\"1\" class=\"dataframe\">\n",
       "  <thead>\n",
       "    <tr style=\"text-align: right;\">\n",
       "      <th></th>\n",
       "      <th>Country</th>\n",
       "      <th>Country Code</th>\n",
       "      <th>Year</th>\n",
       "      <th>Average annual working hours per worker</th>\n",
       "      <th>Life expectancy</th>\n",
       "    </tr>\n",
       "  </thead>\n",
       "  <tbody>\n",
       "    <tr>\n",
       "      <th>1</th>\n",
       "      <td>United States</td>\n",
       "      <td>USA</td>\n",
       "      <td>1880</td>\n",
       "      <td>3044.0</td>\n",
       "      <td>39.410000</td>\n",
       "    </tr>\n",
       "    <tr>\n",
       "      <th>2</th>\n",
       "      <td>United States</td>\n",
       "      <td>USA</td>\n",
       "      <td>1890</td>\n",
       "      <td>2983.0</td>\n",
       "      <td>45.209999</td>\n",
       "    </tr>\n",
       "    <tr>\n",
       "      <th>4</th>\n",
       "      <td>United States</td>\n",
       "      <td>USA</td>\n",
       "      <td>1913</td>\n",
       "      <td>2900.0</td>\n",
       "      <td>53.500000</td>\n",
       "    </tr>\n",
       "    <tr>\n",
       "      <th>5</th>\n",
       "      <td>United States</td>\n",
       "      <td>USA</td>\n",
       "      <td>1929</td>\n",
       "      <td>2316.0</td>\n",
       "      <td>58.500000</td>\n",
       "    </tr>\n",
       "    <tr>\n",
       "      <th>6</th>\n",
       "      <td>United States</td>\n",
       "      <td>USA</td>\n",
       "      <td>1938</td>\n",
       "      <td>1756.0</td>\n",
       "      <td>62.389999</td>\n",
       "    </tr>\n",
       "  </tbody>\n",
       "</table>\n",
       "</div>"
      ],
      "text/plain": [
       "         Country Country Code  Year  Average annual working hours per worker  \\\n",
       "1  United States          USA  1880                                   3044.0   \n",
       "2  United States          USA  1890                                   2983.0   \n",
       "4  United States          USA  1913                                   2900.0   \n",
       "5  United States          USA  1929                                   2316.0   \n",
       "6  United States          USA  1938                                   1756.0   \n",
       "\n",
       "   Life expectancy  \n",
       "1        39.410000  \n",
       "2        45.209999  \n",
       "4        53.500000  \n",
       "5        58.500000  \n",
       "6        62.389999  "
      ]
     },
     "execution_count": 10,
     "metadata": {},
     "output_type": "execute_result"
    }
   ],
   "source": [
    "#Drop not use columns and rename columns left\n",
    "data_combined_df.drop(['Entity_y', 'Code_y'], axis=1, inplace=True)\n",
    "data_combined_df.rename(columns = {'Entity_x':'Country', 'Code_x':'Country Code'}, inplace = True) \n",
    "data_combined_df.head()"
   ]
  },
  {
   "cell_type": "code",
   "execution_count": 11,
   "metadata": {},
   "outputs": [
    {
     "data": {
      "text/plain": [
       "(73, 5)"
      ]
     },
     "execution_count": 11,
     "metadata": {},
     "output_type": "execute_result"
    }
   ],
   "source": [
    "#Checking results\n",
    "data_combined_df.shape"
   ]
  },
  {
   "cell_type": "code",
   "execution_count": 12,
   "metadata": {},
   "outputs": [],
   "source": [
    "#Extracting data to plot\n",
    "years=data_combined_df['Year']\n",
    "work_hours=data_combined_df['Average annual working hours per worker']\n",
    "life_expectancy=data_combined_df['Life expectancy']"
   ]
  },
  {
   "cell_type": "code",
   "execution_count": 38,
   "metadata": {},
   "outputs": [
    {
     "data": {
      "image/png": "[encoded data removed]",
      "text/plain": [
       "<Figure size 432x288 with 1 Axes>"
      ]
     },
     "metadata": {
      "needs_background": "light"
     },
     "output_type": "display_data"
    }
   ],
   "source": [
    "#Plotting working hours in USA and saving plot fig to png format\n",
    "fig = plt.figure()\n",
    "plt.title(\"Working Hours in USA thru the Years\")\n",
    "plt.ylabel(\"Working Hours\")\n",
    "plt.xlabel(\"Years\")\n",
    "plt.plot(years,work_hours, color='red', label=\"Working Hours\")\n",
    "plt.legend(loc=\"upper right\")\n",
    "plt.grid()\n",
    "fig.savefig(\"data/working_hours_USA.png\")"
   ]
  },
  {
   "cell_type": "code",
   "execution_count": 37,
   "metadata": {},
   "outputs": [
    {
     "data": {
      "image/png": "[encoded data removed]",
      "text/plain": [
       "<Figure size 432x288 with 1 Axes>"
      ]
     },
     "metadata": {
      "needs_background": "light"
     },
     "output_type": "display_data"
    }
   ],
   "source": [
    "#Plotting Life expectancy on USA and saving plot fig to png format\n",
    "fig = plt.figure()\n",
    "plt.title(\"Life Expectancy on the USA\")\n",
    "plt.ylabel(\"Life Expectancy\")\n",
    "plt.xlabel(\"Years\")\n",
    "plt.plot(years,life_expectancy, color='red', label=\"Life Expectancy\")\n",
    "plt.legend(loc=\"upper right\")\n",
    "plt.grid()\n",
    "fig.savefig(\"data/life_expectancy.png\")"
   ]
  },
  {
   "cell_type": "code",
   "execution_count": 16,
   "metadata": {},
   "outputs": [
    {
     "data": {
      "text/plain": [
       "<matplotlib.collections.PathCollection at 0x16cdf617f10>"
      ]
     },
     "execution_count": 16,
     "metadata": {},
     "output_type": "execute_result"
    },
    {
     "data": {
      "image/png": "[encoded data removed]",
      "text/plain": [
       "<Figure size 432x288 with 1 Axes>"
      ]
     },
     "metadata": {
      "needs_background": "light"
     },
     "output_type": "display_data"
    }
   ],
   "source": [
    "#Correlation between Life Expectancy and Working Hours \n",
    "plt.title(\"Life Expectancy in USA vs Yearly Working Hours\")\n",
    "plt.ylabel(\"Working Hours\")\n",
    "plt.xlabel(\"Life Expectancy\")\n",
    "plt.scatter(life_expectancy[:,], work_hours)"
   ]
  },
  {
   "cell_type": "code",
   "execution_count": 39,
   "metadata": {},
   "outputs": [
    {
     "name": "stdout",
     "output_type": "stream",
     "text": [
      "The r-squared is: 0.8641435382551297\n"
     ]
    },
    {
     "data": {
      "image/png": "[encoded data removed]",
      "text/plain": [
       "<Figure size 432x288 with 1 Axes>"
      ]
     },
     "metadata": {
      "needs_background": "light"
     },
     "output_type": "display_data"
    }
   ],
   "source": [
    "# Add the linear regression equation and line to plot and saving plot fig to png format\n",
    "fig = plt.figure()\n",
    "x_values = life_expectancy[:,]\n",
    "y_values = work_hours\n",
    "(slope, intercept, rvalue, pvalue, stderr) = linregress(x_values, y_values)\n",
    "regress_values = x_values * slope + intercept\n",
    "line_eq = \"y = \" + str(round(slope,2)) + \"x + \" + str(round(intercept,2))\n",
    "plt.scatter(x_values,y_values)\n",
    "plt.plot(x_values,regress_values,\"r-\")\n",
    "plt.annotate(line_eq,(6,10),fontsize=15,color=\"red\")\n",
    "plt.title(\"Life Expectancy vs Yearly Working Hours in USA\")\n",
    "plt.ylabel(\"Working Hours\")\n",
    "plt.xlabel(\"Life Expectancy\")\n",
    "print(f\"The r-squared is: {rvalue**2}\")\n",
    "fig.savefig(\"data/life_exp_vs_work_hrs_linear_regression.png\")\n",
    "plt.show()"
   ]
  },
  {
   "cell_type": "code",
   "execution_count": null,
   "metadata": {},
   "outputs": [],
   "source": []
  }
 ],
 "metadata": {
  "kernelspec": {
   "display_name": "Python 3",
   "language": "python",
   "name": "python3"
  },
  "language_info": {
   "codemirror_mode": {
    "name": "ipython",
    "version": 3
   },
   "file_extension": ".py",
   "mimetype": "text/x-python",
   "name": "python",
   "nbconvert_exporter": "python",
   "pygments_lexer": "ipython3",
   "version": "3.8.3"
  }
 },
 "nbformat": 4,
 "nbformat_minor": 4
}
