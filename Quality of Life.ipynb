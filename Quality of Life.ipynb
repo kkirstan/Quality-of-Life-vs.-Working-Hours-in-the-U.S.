{
 "cells": [
  {
   "cell_type": "code",
   "execution_count": 1,
   "metadata": {},
   "outputs": [],
   "source": [
    "# Dependencies and Setup\n",
    "import matplotlib.pyplot as plt\n",
    "import pandas as pd\n",
    "import numpy as np\n",
    "import requests\n",
    "import gmaps\n",
    "import os\n",
    "import json"
   ]
  },
  {
   "cell_type": "code",
   "execution_count": 2,
   "metadata": {},
   "outputs": [
    {
     "data": {
      "text/html": [
       "<div>\n",
       "<style scoped>\n",
       "    .dataframe tbody tr th:only-of-type {\n",
       "        vertical-align: middle;\n",
       "    }\n",
       "\n",
       "    .dataframe tbody tr th {\n",
       "        vertical-align: top;\n",
       "    }\n",
       "\n",
       "    .dataframe thead th {\n",
       "        text-align: right;\n",
       "    }\n",
       "</style>\n",
       "<table border=\"1\" class=\"dataframe\">\n",
       "  <thead>\n",
       "    <tr style=\"text-align: right;\">\n",
       "      <th></th>\n",
       "      <th>Entity</th>\n",
       "      <th>Code</th>\n",
       "      <th>Year</th>\n",
       "      <th>Average annual working hours per worker</th>\n",
       "    </tr>\n",
       "  </thead>\n",
       "  <tbody>\n",
       "    <tr>\n",
       "      <th>0</th>\n",
       "      <td>Argentina</td>\n",
       "      <td>ARG</td>\n",
       "      <td>1950</td>\n",
       "      <td>2034.0000</td>\n",
       "    </tr>\n",
       "    <tr>\n",
       "      <th>1</th>\n",
       "      <td>Argentina</td>\n",
       "      <td>ARG</td>\n",
       "      <td>1951</td>\n",
       "      <td>2037.8667</td>\n",
       "    </tr>\n",
       "    <tr>\n",
       "      <th>2</th>\n",
       "      <td>Argentina</td>\n",
       "      <td>ARG</td>\n",
       "      <td>1952</td>\n",
       "      <td>2041.7408</td>\n",
       "    </tr>\n",
       "    <tr>\n",
       "      <th>3</th>\n",
       "      <td>Argentina</td>\n",
       "      <td>ARG</td>\n",
       "      <td>1953</td>\n",
       "      <td>2045.6223</td>\n",
       "    </tr>\n",
       "    <tr>\n",
       "      <th>4</th>\n",
       "      <td>Argentina</td>\n",
       "      <td>ARG</td>\n",
       "      <td>1954</td>\n",
       "      <td>2049.5112</td>\n",
       "    </tr>\n",
       "  </tbody>\n",
       "</table>\n",
       "</div>"
      ],
      "text/plain": [
       "      Entity Code  Year  Average annual working hours per worker\n",
       "0  Argentina  ARG  1950                                2034.0000\n",
       "1  Argentina  ARG  1951                                2037.8667\n",
       "2  Argentina  ARG  1952                                2041.7408\n",
       "3  Argentina  ARG  1953                                2045.6223\n",
       "4  Argentina  ARG  1954                                2049.5112"
      ]
     },
     "execution_count": 2,
     "metadata": {},
     "output_type": "execute_result"
    }
   ],
   "source": [
    "#LIFE EXPECTANCY\n",
    "#Read annual working hours per worker on the world\n",
    "WH_data = pd.read_csv('data/annual-working-hours-per-worker.csv')\n",
    "WH_data.head()"
   ]
  },
  {
   "cell_type": "code",
   "execution_count": 3,
   "metadata": {
    "scrolled": true
   },
   "outputs": [
    {
     "data": {
      "text/html": [
       "<div>\n",
       "<style scoped>\n",
       "    .dataframe tbody tr th:only-of-type {\n",
       "        vertical-align: middle;\n",
       "    }\n",
       "\n",
       "    .dataframe tbody tr th {\n",
       "        vertical-align: top;\n",
       "    }\n",
       "\n",
       "    .dataframe thead th {\n",
       "        text-align: right;\n",
       "    }\n",
       "</style>\n",
       "<table border=\"1\" class=\"dataframe\">\n",
       "  <thead>\n",
       "    <tr style=\"text-align: right;\">\n",
       "      <th></th>\n",
       "      <th>Entity</th>\n",
       "      <th>Code</th>\n",
       "      <th>Year</th>\n",
       "      <th>Average annual working hours per worker</th>\n",
       "    </tr>\n",
       "  </thead>\n",
       "  <tbody>\n",
       "    <tr>\n",
       "      <th>3263</th>\n",
       "      <td>United States</td>\n",
       "      <td>USA</td>\n",
       "      <td>1870</td>\n",
       "      <td>3096.0</td>\n",
       "    </tr>\n",
       "    <tr>\n",
       "      <th>3264</th>\n",
       "      <td>United States</td>\n",
       "      <td>USA</td>\n",
       "      <td>1880</td>\n",
       "      <td>3044.0</td>\n",
       "    </tr>\n",
       "    <tr>\n",
       "      <th>3265</th>\n",
       "      <td>United States</td>\n",
       "      <td>USA</td>\n",
       "      <td>1890</td>\n",
       "      <td>2983.0</td>\n",
       "    </tr>\n",
       "    <tr>\n",
       "      <th>3266</th>\n",
       "      <td>United States</td>\n",
       "      <td>USA</td>\n",
       "      <td>1900</td>\n",
       "      <td>2938.0</td>\n",
       "    </tr>\n",
       "    <tr>\n",
       "      <th>3267</th>\n",
       "      <td>United States</td>\n",
       "      <td>USA</td>\n",
       "      <td>1913</td>\n",
       "      <td>2900.0</td>\n",
       "    </tr>\n",
       "  </tbody>\n",
       "</table>\n",
       "</div>"
      ],
      "text/plain": [
       "             Entity Code  Year  Average annual working hours per worker\n",
       "3263  United States  USA  1870                                   3096.0\n",
       "3264  United States  USA  1880                                   3044.0\n",
       "3265  United States  USA  1890                                   2983.0\n",
       "3266  United States  USA  1900                                   2938.0\n",
       "3267  United States  USA  1913                                   2900.0"
      ]
     },
     "execution_count": 3,
     "metadata": {},
     "output_type": "execute_result"
    }
   ],
   "source": [
    "filt=(WH_data[\"Code\"]=='USA')\n",
    "WH_USA_df=WH_data[filt]\n",
    "WH_USA_df.head()"
   ]
  },
  {
   "cell_type": "code",
   "execution_count": 4,
   "metadata": {},
   "outputs": [
    {
     "name": "stderr",
     "output_type": "stream",
     "text": [
      "C:\\Users\\Beto\\anaconda3\\lib\\site-packages\\pandas\\core\\frame.py:3990: SettingWithCopyWarning: \n",
      "A value is trying to be set on a copy of a slice from a DataFrame\n",
      "\n",
      "See the caveats in the documentation: https://pandas.pydata.org/pandas-docs/stable/user_guide/indexing.html#returning-a-view-versus-a-copy\n",
      "  return super().drop(\n"
     ]
    }
   ],
   "source": [
    "WH_USA_df.drop(['Entity'], axis=1, inplace=True)"
   ]
  },
  {
   "cell_type": "code",
   "execution_count": 5,
   "metadata": {
    "scrolled": true
   },
   "outputs": [
    {
     "data": {
      "text/html": [
       "<div>\n",
       "<style scoped>\n",
       "    .dataframe tbody tr th:only-of-type {\n",
       "        vertical-align: middle;\n",
       "    }\n",
       "\n",
       "    .dataframe tbody tr th {\n",
       "        vertical-align: top;\n",
       "    }\n",
       "\n",
       "    .dataframe thead th {\n",
       "        text-align: right;\n",
       "    }\n",
       "</style>\n",
       "<table border=\"1\" class=\"dataframe\">\n",
       "  <thead>\n",
       "    <tr style=\"text-align: right;\">\n",
       "      <th></th>\n",
       "      <th>LOCATION</th>\n",
       "      <th>INDICATOR</th>\n",
       "      <th>SUBJECT</th>\n",
       "      <th>MEASURE</th>\n",
       "      <th>FREQUENCY</th>\n",
       "      <th>TIME</th>\n",
       "      <th>Value</th>\n",
       "      <th>Flag Codes</th>\n",
       "    </tr>\n",
       "  </thead>\n",
       "  <tbody>\n",
       "    <tr>\n",
       "      <th>0</th>\n",
       "      <td>AUS</td>\n",
       "      <td>HUR</td>\n",
       "      <td>TOT</td>\n",
       "      <td>PC_LF</td>\n",
       "      <td>A</td>\n",
       "      <td>1967</td>\n",
       "      <td>1.875</td>\n",
       "      <td>NaN</td>\n",
       "    </tr>\n",
       "    <tr>\n",
       "      <th>1</th>\n",
       "      <td>AUS</td>\n",
       "      <td>HUR</td>\n",
       "      <td>TOT</td>\n",
       "      <td>PC_LF</td>\n",
       "      <td>A</td>\n",
       "      <td>1968</td>\n",
       "      <td>1.850</td>\n",
       "      <td>NaN</td>\n",
       "    </tr>\n",
       "    <tr>\n",
       "      <th>2</th>\n",
       "      <td>AUS</td>\n",
       "      <td>HUR</td>\n",
       "      <td>TOT</td>\n",
       "      <td>PC_LF</td>\n",
       "      <td>A</td>\n",
       "      <td>1969</td>\n",
       "      <td>1.800</td>\n",
       "      <td>NaN</td>\n",
       "    </tr>\n",
       "    <tr>\n",
       "      <th>3</th>\n",
       "      <td>AUS</td>\n",
       "      <td>HUR</td>\n",
       "      <td>TOT</td>\n",
       "      <td>PC_LF</td>\n",
       "      <td>A</td>\n",
       "      <td>1970</td>\n",
       "      <td>1.625</td>\n",
       "      <td>NaN</td>\n",
       "    </tr>\n",
       "    <tr>\n",
       "      <th>4</th>\n",
       "      <td>AUS</td>\n",
       "      <td>HUR</td>\n",
       "      <td>TOT</td>\n",
       "      <td>PC_LF</td>\n",
       "      <td>A</td>\n",
       "      <td>1971</td>\n",
       "      <td>1.925</td>\n",
       "      <td>NaN</td>\n",
       "    </tr>\n",
       "  </tbody>\n",
       "</table>\n",
       "</div>"
      ],
      "text/plain": [
       "  LOCATION INDICATOR SUBJECT MEASURE FREQUENCY  TIME  Value Flag Codes\n",
       "0      AUS       HUR     TOT   PC_LF         A  1967  1.875        NaN\n",
       "1      AUS       HUR     TOT   PC_LF         A  1968  1.850        NaN\n",
       "2      AUS       HUR     TOT   PC_LF         A  1969  1.800        NaN\n",
       "3      AUS       HUR     TOT   PC_LF         A  1970  1.625        NaN\n",
       "4      AUS       HUR     TOT   PC_LF         A  1971  1.925        NaN"
      ]
     },
     "execution_count": 5,
     "metadata": {},
     "output_type": "execute_result"
    }
   ],
   "source": [
    "#Read life expectancy on the world\n",
    "Unemp_data = pd.read_csv('data/unemployment-rate-OECD.csv')\n",
    "Unemp_data.head()"
   ]
  },
  {
   "cell_type": "code",
   "execution_count": 6,
   "metadata": {
    "scrolled": false
   },
   "outputs": [
    {
     "data": {
      "text/html": [
       "<div>\n",
       "<style scoped>\n",
       "    .dataframe tbody tr th:only-of-type {\n",
       "        vertical-align: middle;\n",
       "    }\n",
       "\n",
       "    .dataframe tbody tr th {\n",
       "        vertical-align: top;\n",
       "    }\n",
       "\n",
       "    .dataframe thead th {\n",
       "        text-align: right;\n",
       "    }\n",
       "</style>\n",
       "<table border=\"1\" class=\"dataframe\">\n",
       "  <thead>\n",
       "    <tr style=\"text-align: right;\">\n",
       "      <th></th>\n",
       "      <th>LOCATION</th>\n",
       "      <th>INDICATOR</th>\n",
       "      <th>SUBJECT</th>\n",
       "      <th>MEASURE</th>\n",
       "      <th>FREQUENCY</th>\n",
       "      <th>TIME</th>\n",
       "      <th>Value</th>\n",
       "      <th>Flag Codes</th>\n",
       "    </tr>\n",
       "  </thead>\n",
       "  <tbody>\n",
       "    <tr>\n",
       "      <th>992</th>\n",
       "      <td>USA</td>\n",
       "      <td>HUR</td>\n",
       "      <td>TOT</td>\n",
       "      <td>PC_LF</td>\n",
       "      <td>A</td>\n",
       "      <td>1955</td>\n",
       "      <td>4.383333</td>\n",
       "      <td>NaN</td>\n",
       "    </tr>\n",
       "    <tr>\n",
       "      <th>993</th>\n",
       "      <td>USA</td>\n",
       "      <td>HUR</td>\n",
       "      <td>TOT</td>\n",
       "      <td>PC_LF</td>\n",
       "      <td>A</td>\n",
       "      <td>1956</td>\n",
       "      <td>4.141667</td>\n",
       "      <td>NaN</td>\n",
       "    </tr>\n",
       "    <tr>\n",
       "      <th>994</th>\n",
       "      <td>USA</td>\n",
       "      <td>HUR</td>\n",
       "      <td>TOT</td>\n",
       "      <td>PC_LF</td>\n",
       "      <td>A</td>\n",
       "      <td>1957</td>\n",
       "      <td>4.258333</td>\n",
       "      <td>NaN</td>\n",
       "    </tr>\n",
       "    <tr>\n",
       "      <th>995</th>\n",
       "      <td>USA</td>\n",
       "      <td>HUR</td>\n",
       "      <td>TOT</td>\n",
       "      <td>PC_LF</td>\n",
       "      <td>A</td>\n",
       "      <td>1958</td>\n",
       "      <td>6.800000</td>\n",
       "      <td>NaN</td>\n",
       "    </tr>\n",
       "    <tr>\n",
       "      <th>996</th>\n",
       "      <td>USA</td>\n",
       "      <td>HUR</td>\n",
       "      <td>TOT</td>\n",
       "      <td>PC_LF</td>\n",
       "      <td>A</td>\n",
       "      <td>1959</td>\n",
       "      <td>5.475000</td>\n",
       "      <td>NaN</td>\n",
       "    </tr>\n",
       "  </tbody>\n",
       "</table>\n",
       "</div>"
      ],
      "text/plain": [
       "    LOCATION INDICATOR SUBJECT MEASURE FREQUENCY  TIME     Value Flag Codes\n",
       "992      USA       HUR     TOT   PC_LF         A  1955  4.383333        NaN\n",
       "993      USA       HUR     TOT   PC_LF         A  1956  4.141667        NaN\n",
       "994      USA       HUR     TOT   PC_LF         A  1957  4.258333        NaN\n",
       "995      USA       HUR     TOT   PC_LF         A  1958  6.800000        NaN\n",
       "996      USA       HUR     TOT   PC_LF         A  1959  5.475000        NaN"
      ]
     },
     "execution_count": 6,
     "metadata": {},
     "output_type": "execute_result"
    }
   ],
   "source": [
    "filt=(Unemp_data[\"LOCATION\"]=='USA')\n",
    "Unemp_USA_df=Unemp_data[filt]\n",
    "Unemp_USA_df.head()"
   ]
  },
  {
   "cell_type": "code",
   "execution_count": 7,
   "metadata": {},
   "outputs": [
    {
     "name": "stderr",
     "output_type": "stream",
     "text": [
      "C:\\Users\\Beto\\anaconda3\\lib\\site-packages\\pandas\\core\\frame.py:3990: SettingWithCopyWarning: \n",
      "A value is trying to be set on a copy of a slice from a DataFrame\n",
      "\n",
      "See the caveats in the documentation: https://pandas.pydata.org/pandas-docs/stable/user_guide/indexing.html#returning-a-view-versus-a-copy\n",
      "  return super().drop(\n"
     ]
    }
   ],
   "source": [
    "Unemp_USA_df.drop(['INDICATOR', 'SUBJECT', 'MEASURE', 'FREQUENCY', 'Flag Codes'], axis=1, inplace=True)"
   ]
  },
  {
   "cell_type": "code",
   "execution_count": 8,
   "metadata": {},
   "outputs": [
    {
     "name": "stderr",
     "output_type": "stream",
     "text": [
      "C:\\Users\\Beto\\anaconda3\\lib\\site-packages\\pandas\\core\\frame.py:4125: SettingWithCopyWarning: \n",
      "A value is trying to be set on a copy of a slice from a DataFrame\n",
      "\n",
      "See the caveats in the documentation: https://pandas.pydata.org/pandas-docs/stable/user_guide/indexing.html#returning-a-view-versus-a-copy\n",
      "  return super().rename(\n"
     ]
    },
    {
     "data": {
      "text/html": [
       "<div>\n",
       "<style scoped>\n",
       "    .dataframe tbody tr th:only-of-type {\n",
       "        vertical-align: middle;\n",
       "    }\n",
       "\n",
       "    .dataframe tbody tr th {\n",
       "        vertical-align: top;\n",
       "    }\n",
       "\n",
       "    .dataframe thead th {\n",
       "        text-align: right;\n",
       "    }\n",
       "</style>\n",
       "<table border=\"1\" class=\"dataframe\">\n",
       "  <thead>\n",
       "    <tr style=\"text-align: right;\">\n",
       "      <th></th>\n",
       "      <th>LOCATION</th>\n",
       "      <th>Year</th>\n",
       "      <th>Value</th>\n",
       "    </tr>\n",
       "  </thead>\n",
       "  <tbody>\n",
       "    <tr>\n",
       "      <th>992</th>\n",
       "      <td>USA</td>\n",
       "      <td>1955</td>\n",
       "      <td>4.383333</td>\n",
       "    </tr>\n",
       "    <tr>\n",
       "      <th>993</th>\n",
       "      <td>USA</td>\n",
       "      <td>1956</td>\n",
       "      <td>4.141667</td>\n",
       "    </tr>\n",
       "    <tr>\n",
       "      <th>994</th>\n",
       "      <td>USA</td>\n",
       "      <td>1957</td>\n",
       "      <td>4.258333</td>\n",
       "    </tr>\n",
       "    <tr>\n",
       "      <th>995</th>\n",
       "      <td>USA</td>\n",
       "      <td>1958</td>\n",
       "      <td>6.800000</td>\n",
       "    </tr>\n",
       "    <tr>\n",
       "      <th>996</th>\n",
       "      <td>USA</td>\n",
       "      <td>1959</td>\n",
       "      <td>5.475000</td>\n",
       "    </tr>\n",
       "  </tbody>\n",
       "</table>\n",
       "</div>"
      ],
      "text/plain": [
       "    LOCATION  Year     Value\n",
       "992      USA  1955  4.383333\n",
       "993      USA  1956  4.141667\n",
       "994      USA  1957  4.258333\n",
       "995      USA  1958  6.800000\n",
       "996      USA  1959  5.475000"
      ]
     },
     "execution_count": 8,
     "metadata": {},
     "output_type": "execute_result"
    }
   ],
   "source": [
    "Unemp_USA_df.rename(columns = {'TIME':'Year'}, inplace=True)\n",
    "Unemp_USA_df.head()"
   ]
  },
  {
   "cell_type": "code",
   "execution_count": 15,
   "metadata": {
    "scrolled": true
   },
   "outputs": [
    {
     "data": {
      "text/html": [
       "<div>\n",
       "<style scoped>\n",
       "    .dataframe tbody tr th:only-of-type {\n",
       "        vertical-align: middle;\n",
       "    }\n",
       "\n",
       "    .dataframe tbody tr th {\n",
       "        vertical-align: top;\n",
       "    }\n",
       "\n",
       "    .dataframe thead th {\n",
       "        text-align: right;\n",
       "    }\n",
       "</style>\n",
       "<table border=\"1\" class=\"dataframe\">\n",
       "  <thead>\n",
       "    <tr style=\"text-align: right;\">\n",
       "      <th></th>\n",
       "      <th>Code</th>\n",
       "      <th>Year</th>\n",
       "      <th>Average annual working hours per worker</th>\n",
       "      <th>LOCATION</th>\n",
       "      <th>Value</th>\n",
       "    </tr>\n",
       "  </thead>\n",
       "  <tbody>\n",
       "    <tr>\n",
       "      <th>12</th>\n",
       "      <td>USA</td>\n",
       "      <td>1955</td>\n",
       "      <td>2004.5018</td>\n",
       "      <td>USA</td>\n",
       "      <td>4.383333</td>\n",
       "    </tr>\n",
       "    <tr>\n",
       "      <th>13</th>\n",
       "      <td>USA</td>\n",
       "      <td>1956</td>\n",
       "      <td>1989.3650</td>\n",
       "      <td>USA</td>\n",
       "      <td>4.141667</td>\n",
       "    </tr>\n",
       "    <tr>\n",
       "      <th>14</th>\n",
       "      <td>USA</td>\n",
       "      <td>1957</td>\n",
       "      <td>1961.5238</td>\n",
       "      <td>USA</td>\n",
       "      <td>4.258333</td>\n",
       "    </tr>\n",
       "    <tr>\n",
       "      <th>15</th>\n",
       "      <td>USA</td>\n",
       "      <td>1958</td>\n",
       "      <td>1927.5476</td>\n",
       "      <td>USA</td>\n",
       "      <td>6.800000</td>\n",
       "    </tr>\n",
       "    <tr>\n",
       "      <th>16</th>\n",
       "      <td>USA</td>\n",
       "      <td>1959</td>\n",
       "      <td>1952.8529</td>\n",
       "      <td>USA</td>\n",
       "      <td>5.475000</td>\n",
       "    </tr>\n",
       "    <tr>\n",
       "      <th>...</th>\n",
       "      <td>...</td>\n",
       "      <td>...</td>\n",
       "      <td>...</td>\n",
       "      <td>...</td>\n",
       "      <td>...</td>\n",
       "    </tr>\n",
       "    <tr>\n",
       "      <th>70</th>\n",
       "      <td>USA</td>\n",
       "      <td>2013</td>\n",
       "      <td>1750.0786</td>\n",
       "      <td>USA</td>\n",
       "      <td>7.375000</td>\n",
       "    </tr>\n",
       "    <tr>\n",
       "      <th>71</th>\n",
       "      <td>USA</td>\n",
       "      <td>2014</td>\n",
       "      <td>1754.4224</td>\n",
       "      <td>USA</td>\n",
       "      <td>6.166667</td>\n",
       "    </tr>\n",
       "    <tr>\n",
       "      <th>72</th>\n",
       "      <td>USA</td>\n",
       "      <td>2015</td>\n",
       "      <td>1765.1826</td>\n",
       "      <td>USA</td>\n",
       "      <td>5.291667</td>\n",
       "    </tr>\n",
       "    <tr>\n",
       "      <th>73</th>\n",
       "      <td>USA</td>\n",
       "      <td>2016</td>\n",
       "      <td>1760.7960</td>\n",
       "      <td>USA</td>\n",
       "      <td>4.866667</td>\n",
       "    </tr>\n",
       "    <tr>\n",
       "      <th>74</th>\n",
       "      <td>USA</td>\n",
       "      <td>2017</td>\n",
       "      <td>1757.2255</td>\n",
       "      <td>USA</td>\n",
       "      <td>4.350000</td>\n",
       "    </tr>\n",
       "  </tbody>\n",
       "</table>\n",
       "<p>63 rows × 5 columns</p>\n",
       "</div>"
      ],
      "text/plain": [
       "   Code  Year  Average annual working hours per worker LOCATION     Value\n",
       "12  USA  1955                                2004.5018      USA  4.383333\n",
       "13  USA  1956                                1989.3650      USA  4.141667\n",
       "14  USA  1957                                1961.5238      USA  4.258333\n",
       "15  USA  1958                                1927.5476      USA  6.800000\n",
       "16  USA  1959                                1952.8529      USA  5.475000\n",
       "..  ...   ...                                      ...      ...       ...\n",
       "70  USA  2013                                1750.0786      USA  7.375000\n",
       "71  USA  2014                                1754.4224      USA  6.166667\n",
       "72  USA  2015                                1765.1826      USA  5.291667\n",
       "73  USA  2016                                1760.7960      USA  4.866667\n",
       "74  USA  2017                                1757.2255      USA  4.350000\n",
       "\n",
       "[63 rows x 5 columns]"
      ]
     },
     "execution_count": 15,
     "metadata": {},
     "output_type": "execute_result"
    }
   ],
   "source": [
    "data_combined_df=pd.merge(WH_USA_df, Unemp_USA_df, how=\"outer\", on=\"Year\")\n",
    "data_combined_df.dropna(inplace=True)\n",
    "data_combined_df"
   ]
  },
  {
   "cell_type": "code",
   "execution_count": 10,
   "metadata": {},
   "outputs": [
    {
     "data": {
      "text/plain": [
       "(63, 5)"
      ]
     },
     "execution_count": 10,
     "metadata": {},
     "output_type": "execute_result"
    }
   ],
   "source": [
    "data_combined_df.shape"
   ]
  },
  {
   "cell_type": "code",
   "execution_count": 16,
   "metadata": {},
   "outputs": [
    {
     "data": {
      "text/html": [
       "<div>\n",
       "<style scoped>\n",
       "    .dataframe tbody tr th:only-of-type {\n",
       "        vertical-align: middle;\n",
       "    }\n",
       "\n",
       "    .dataframe tbody tr th {\n",
       "        vertical-align: top;\n",
       "    }\n",
       "\n",
       "    .dataframe thead th {\n",
       "        text-align: right;\n",
       "    }\n",
       "</style>\n",
       "<table border=\"1\" class=\"dataframe\">\n",
       "  <thead>\n",
       "    <tr style=\"text-align: right;\">\n",
       "      <th></th>\n",
       "      <th>Country</th>\n",
       "      <th>Year</th>\n",
       "      <th>Average annual working hours per worker</th>\n",
       "      <th>Unemployment Rate</th>\n",
       "    </tr>\n",
       "  </thead>\n",
       "  <tbody>\n",
       "    <tr>\n",
       "      <th>12</th>\n",
       "      <td>USA</td>\n",
       "      <td>1955</td>\n",
       "      <td>2004.5018</td>\n",
       "      <td>4.383333</td>\n",
       "    </tr>\n",
       "    <tr>\n",
       "      <th>13</th>\n",
       "      <td>USA</td>\n",
       "      <td>1956</td>\n",
       "      <td>1989.3650</td>\n",
       "      <td>4.141667</td>\n",
       "    </tr>\n",
       "    <tr>\n",
       "      <th>14</th>\n",
       "      <td>USA</td>\n",
       "      <td>1957</td>\n",
       "      <td>1961.5238</td>\n",
       "      <td>4.258333</td>\n",
       "    </tr>\n",
       "    <tr>\n",
       "      <th>15</th>\n",
       "      <td>USA</td>\n",
       "      <td>1958</td>\n",
       "      <td>1927.5476</td>\n",
       "      <td>6.800000</td>\n",
       "    </tr>\n",
       "    <tr>\n",
       "      <th>16</th>\n",
       "      <td>USA</td>\n",
       "      <td>1959</td>\n",
       "      <td>1952.8529</td>\n",
       "      <td>5.475000</td>\n",
       "    </tr>\n",
       "  </tbody>\n",
       "</table>\n",
       "</div>"
      ],
      "text/plain": [
       "   Country  Year  Average annual working hours per worker  Unemployment Rate\n",
       "12     USA  1955                                2004.5018           4.383333\n",
       "13     USA  1956                                1989.3650           4.141667\n",
       "14     USA  1957                                1961.5238           4.258333\n",
       "15     USA  1958                                1927.5476           6.800000\n",
       "16     USA  1959                                1952.8529           5.475000"
      ]
     },
     "execution_count": 16,
     "metadata": {},
     "output_type": "execute_result"
    }
   ],
   "source": [
    "data_combined_df.drop(['LOCATION'], axis=1, inplace=True)\n",
    "data_combined_df.rename(columns = {'Code':'Country', 'Value':'Unemployment Rate'}, inplace = True) \n",
    "data_combined_df.head()"
   ]
  },
  {
   "cell_type": "code",
   "execution_count": 17,
   "metadata": {},
   "outputs": [],
   "source": [
    "years=data_combined_df['Year']\n",
    "work_hours=data_combined_df['Average annual working hours per worker']\n",
    "unemployment=data_combined_df['Unemployment Rate']"
   ]
  },
  {
   "cell_type": "code",
   "execution_count": 18,
   "metadata": {},
   "outputs": [
    {
     "data": {
      "image/png": "[encoded data removed]",
      "text/plain": [
       "<Figure size 432x288 with 1 Axes>"
      ]
     },
     "metadata": {
      "needs_background": "light"
     },
     "output_type": "display_data"
    }
   ],
   "source": [
    "plt.title(\"Working Hours in USA thru the Years\")\n",
    "plt.ylabel(\"Working Hours\")\n",
    "plt.xlabel(\"Years\")\n",
    "plt.plot(years,work_hours, color='red', label=\"Working Hours\")\n",
    "plt.legend(loc=\"upper right\")\n",
    "plt.grid()"
   ]
  },
  {
   "cell_type": "code",
   "execution_count": 20,
   "metadata": {},
   "outputs": [
    {
     "data": {
      "image/png": "[encoded data removed]",
      "text/plain": [
       "<Figure size 432x288 with 1 Axes>"
      ]
     },
     "metadata": {
      "needs_background": "light"
     },
     "output_type": "display_data"
    }
   ],
   "source": [
    "\n",
    "plt.title(\"Unemployment rate on the USA\")\n",
    "plt.ylabel(\"Unemployment rate\")\n",
    "plt.xlabel(\"Years\")\n",
    "plt.plot(years,unemployment, color='red', label=\"Unemployment rate\")\n",
    "plt.legend(loc=\"upper right\")\n",
    "plt.grid()"
   ]
  },
  {
   "cell_type": "code",
   "execution_count": null,
   "metadata": {},
   "outputs": [],
   "source": []
  }
 ],
 "metadata": {
  "kernelspec": {
   "display_name": "Python 3",
   "language": "python",
   "name": "python3"
  },
  "language_info": {
   "codemirror_mode": {
    "name": "ipython",
    "version": 3
   },
   "file_extension": ".py",
   "mimetype": "text/x-python",
   "name": "python",
   "nbconvert_exporter": "python",
   "pygments_lexer": "ipython3",
   "version": "3.8.3"
  }
 },
 "nbformat": 4,
 "nbformat_minor": 4
}
