{
 "cells": [
  {
   "cell_type": "code",
   "execution_count": 2,
   "metadata": {},
   "outputs": [],
   "source": [
    "import os\n",
    "import csv\n",
    "import matplotlib.pyplot as plt\n",
    "import pandas as pd\n",
    "import numpy as np\n",
    "import requests\n",
    "import scipy.stats as stats\n",
    "from scipy.stats import linregress"
   ]
  },
  {
   "cell_type": "code",
   "execution_count": null,
   "metadata": {},
   "outputs": [],
   "source": []
  },
  {
   "cell_type": "code",
   "execution_count": 3,
   "metadata": {},
   "outputs": [
    {
     "data": {
      "text/html": [
       "<div>\n",
       "<style scoped>\n",
       "    .dataframe tbody tr th:only-of-type {\n",
       "        vertical-align: middle;\n",
       "    }\n",
       "\n",
       "    .dataframe tbody tr th {\n",
       "        vertical-align: top;\n",
       "    }\n",
       "\n",
       "    .dataframe thead th {\n",
       "        text-align: right;\n",
       "    }\n",
       "</style>\n",
       "<table border=\"1\" class=\"dataframe\">\n",
       "  <thead>\n",
       "    <tr style=\"text-align: right;\">\n",
       "      <th></th>\n",
       "      <th>Entity_x</th>\n",
       "      <th>Code_x</th>\n",
       "      <th>Year</th>\n",
       "      <th>Total Years of Schooling</th>\n",
       "      <th>Entity_y</th>\n",
       "      <th>Code_y</th>\n",
       "      <th>Annual Working Hours</th>\n",
       "    </tr>\n",
       "  </thead>\n",
       "  <tbody>\n",
       "    <tr>\n",
       "      <th>0</th>\n",
       "      <td>United States</td>\n",
       "      <td>USA</td>\n",
       "      <td>1870</td>\n",
       "      <td>3.70</td>\n",
       "      <td>United States</td>\n",
       "      <td>USA</td>\n",
       "      <td>3096.000</td>\n",
       "    </tr>\n",
       "    <tr>\n",
       "      <th>2</th>\n",
       "      <td>United States</td>\n",
       "      <td>USA</td>\n",
       "      <td>1880</td>\n",
       "      <td>4.49</td>\n",
       "      <td>United States</td>\n",
       "      <td>USA</td>\n",
       "      <td>3044.000</td>\n",
       "    </tr>\n",
       "    <tr>\n",
       "      <th>4</th>\n",
       "      <td>United States</td>\n",
       "      <td>USA</td>\n",
       "      <td>1890</td>\n",
       "      <td>5.45</td>\n",
       "      <td>United States</td>\n",
       "      <td>USA</td>\n",
       "      <td>2983.000</td>\n",
       "    </tr>\n",
       "    <tr>\n",
       "      <th>6</th>\n",
       "      <td>United States</td>\n",
       "      <td>USA</td>\n",
       "      <td>1900</td>\n",
       "      <td>6.48</td>\n",
       "      <td>United States</td>\n",
       "      <td>USA</td>\n",
       "      <td>2938.000</td>\n",
       "    </tr>\n",
       "    <tr>\n",
       "      <th>16</th>\n",
       "      <td>United States</td>\n",
       "      <td>USA</td>\n",
       "      <td>1950</td>\n",
       "      <td>8.13</td>\n",
       "      <td>United States</td>\n",
       "      <td>USA</td>\n",
       "      <td>1989.238</td>\n",
       "    </tr>\n",
       "  </tbody>\n",
       "</table>\n",
       "</div>"
      ],
      "text/plain": [
       "         Entity_x Code_x  Year  Total Years of Schooling       Entity_y  \\\n",
       "0   United States    USA  1870                      3.70  United States   \n",
       "2   United States    USA  1880                      4.49  United States   \n",
       "4   United States    USA  1890                      5.45  United States   \n",
       "6   United States    USA  1900                      6.48  United States   \n",
       "16  United States    USA  1950                      8.13  United States   \n",
       "\n",
       "   Code_y  Annual Working Hours  \n",
       "0     USA              3096.000  \n",
       "2     USA              3044.000  \n",
       "4     USA              2983.000  \n",
       "6     USA              2938.000  \n",
       "16    USA              1989.238  "
      ]
     },
     "execution_count": 3,
     "metadata": {},
     "output_type": "execute_result"
    }
   ],
   "source": [
    "#CSV files\n",
    "schooling_data_path = \"data/mean-years-of-schooling.csv\"\n",
    "working_hours_data_path = \"data/working_hours_KK.csv\"\n",
    "edu_level_data_path = \"data/wrk_hrs_edu_new.csv\"\n",
    "\n",
    "# Read in the data\n",
    "schooling = pd.read_csv(schooling_data_path)\n",
    "working_hours = pd.read_csv(working_hours_data_path)\n",
    "edu_level = pd.read_csv(edu_level_data_path)\n",
    "\n",
    "#Combine the data into a single dataset\n",
    "all_data = pd.merge(schooling, working_hours, how=\"left\", on=[\"Year\", \"Year\"])\n",
    "\n",
    "#Drop years with no schooling data\n",
    "all_data_new = all_data.dropna()\n",
    "all_data_new.head(5)"
   ]
  },
  {
   "cell_type": "code",
   "execution_count": 4,
   "metadata": {},
   "outputs": [
    {
     "data": {
      "image/png": "[encoded data removed]",
      "text/plain": [
       "<Figure size 576x576 with 1 Axes>"
      ]
     },
     "metadata": {
      "needs_background": "light"
     },
     "output_type": "display_data"
    },
    {
     "data": {
      "text/plain": [
       "<Figure size 432x288 with 0 Axes>"
      ]
     },
     "metadata": {},
     "output_type": "display_data"
    }
   ],
   "source": [
    "wh_time_plot = all_data_new.plot(kind=\"line\", x=\"Year\", xlabel=\"Year\", y=\"Annual Working Hours\", ylabel=\"Working Hours\", grid=True, figsize=(8,8), \n",
    "               title=\"Annual Working Hours (1870-2017) (US)\")\n",
    "wh_time_plot.xaxis.get_label().set_visible(True)\n",
    "wh_time_plot.yaxis.get_label().set_visible(True)\n",
    "plt.show()\n",
    "plt.savefig('wh_time_line_plot.png')"
   ]
  },
  {
   "cell_type": "code",
   "execution_count": null,
   "metadata": {},
   "outputs": [],
   "source": []
  },
  {
   "cell_type": "code",
   "execution_count": 5,
   "metadata": {},
   "outputs": [
    {
     "name": "stdout",
     "output_type": "stream",
     "text": [
      "The regression line equation is: y = -133.39x +3474.69\n",
      "The correlation coefficient (r) is: -0.9269304430483828\n",
      "The r-squared is: 0.8592000462498712\n"
     ]
    },
    {
     "data": {
      "image/png": "[encoded data removed]",
      "text/plain": [
       "<Figure size 432x288 with 1 Axes>"
      ]
     },
     "metadata": {
      "needs_background": "light"
     },
     "output_type": "display_data"
    }
   ],
   "source": [
    "x=all_data_new[\"Total Years of Schooling\"]\n",
    "y=all_data_new[\"Annual Working Hours\"]\n",
    "(edu_wh_slope, edu_wh_intercept, edu_wh_rvalue, edu_wh_pvalue, edu_wh_stderr) = linregress(x,y)\n",
    "regress_values = x * edu_wh_slope + edu_wh_intercept\n",
    "line_eq = \"y = \" + str(round(edu_wh_slope,2)) + \"x +\" + str(round(edu_wh_intercept,2))\n",
    "plt.scatter(x,y)\n",
    "plt.plot(x,regress_values,\"r-\")\n",
    "plt.title(\"Annual Working Hours vs. Total Years of Schooling (US)\")\n",
    "plt.xlabel(\"Years of Schooling\")\n",
    "plt.ylabel(\"Working Hours\")\n",
    "print(f\"The regression line equation is: {line_eq}\")\n",
    "print(f\"The correlation coefficient (r) is: {edu_wh_rvalue}\")\n",
    "print(f\"The r-squared is: {edu_wh_rvalue**2}\")\n",
    "plt.savefig('wh_edu_scatter.png')\n",
    "plt.show()"
   ]
  },
  {
   "cell_type": "code",
   "execution_count": null,
   "metadata": {},
   "outputs": [],
   "source": []
  },
  {
   "cell_type": "code",
   "execution_count": 6,
   "metadata": {},
   "outputs": [
    {
     "data": {
      "text/html": [
       "<div>\n",
       "<style scoped>\n",
       "    .dataframe tbody tr th:only-of-type {\n",
       "        vertical-align: middle;\n",
       "    }\n",
       "\n",
       "    .dataframe tbody tr th {\n",
       "        vertical-align: top;\n",
       "    }\n",
       "\n",
       "    .dataframe thead th {\n",
       "        text-align: right;\n",
       "    }\n",
       "</style>\n",
       "<table border=\"1\" class=\"dataframe\">\n",
       "  <thead>\n",
       "    <tr style=\"text-align: right;\">\n",
       "      <th></th>\n",
       "      <th>Educational Attainment</th>\n",
       "      <th>Total Employed</th>\n",
       "      <th>Number (Average Day)</th>\n",
       "      <th>Percent of Employed (Average Day)</th>\n",
       "      <th>Average hours of work (Average Day)</th>\n",
       "      <th>Number (Average Weekday)</th>\n",
       "      <th>Percent of Employed (Average Weekday)</th>\n",
       "      <th>Average hours of work (Average Weekday)</th>\n",
       "      <th>Number (Average Sat, Sun, Holiday)</th>\n",
       "      <th>Percent of Employed (Average Sat, Sun, Holiday)</th>\n",
       "      <th>Average hours of work (Average Sat, Sun, Holiday)</th>\n",
       "    </tr>\n",
       "  </thead>\n",
       "  <tbody>\n",
       "    <tr>\n",
       "      <th>0</th>\n",
       "      <td>Less than a high school diploma</td>\n",
       "      <td>10,339</td>\n",
       "      <td>6,832</td>\n",
       "      <td>66.1</td>\n",
       "      <td>8.07</td>\n",
       "      <td>8,503</td>\n",
       "      <td>82.2</td>\n",
       "      <td>8.12</td>\n",
       "      <td>2,950</td>\n",
       "      <td>28.5</td>\n",
       "      <td>7.74</td>\n",
       "    </tr>\n",
       "    <tr>\n",
       "      <th>1</th>\n",
       "      <td>High school graduates, no college</td>\n",
       "      <td>36,458</td>\n",
       "      <td>24,095</td>\n",
       "      <td>66.1</td>\n",
       "      <td>8.11</td>\n",
       "      <td>29,360</td>\n",
       "      <td>80.5</td>\n",
       "      <td>8.43</td>\n",
       "      <td>11,370</td>\n",
       "      <td>31.2</td>\n",
       "      <td>6.12</td>\n",
       "    </tr>\n",
       "    <tr>\n",
       "      <th>2</th>\n",
       "      <td>Some college or associate degree</td>\n",
       "      <td>34,223</td>\n",
       "      <td>22,597</td>\n",
       "      <td>66.0</td>\n",
       "      <td>7.82</td>\n",
       "      <td>27,625</td>\n",
       "      <td>80.7</td>\n",
       "      <td>8.14</td>\n",
       "      <td>10,555</td>\n",
       "      <td>30.8</td>\n",
       "      <td>5.79</td>\n",
       "    </tr>\n",
       "    <tr>\n",
       "      <th>3</th>\n",
       "      <td>Bachelor's degree and higher</td>\n",
       "      <td>63,210</td>\n",
       "      <td>45,069</td>\n",
       "      <td>71.3</td>\n",
       "      <td>7.36</td>\n",
       "      <td>55,153</td>\n",
       "      <td>87.3</td>\n",
       "      <td>7.91</td>\n",
       "      <td>21,501</td>\n",
       "      <td>34.0</td>\n",
       "      <td>4.04</td>\n",
       "    </tr>\n",
       "    <tr>\n",
       "      <th>4</th>\n",
       "      <td>Bachelor's degree only</td>\n",
       "      <td>36,985</td>\n",
       "      <td>25,713</td>\n",
       "      <td>69.5</td>\n",
       "      <td>7.57</td>\n",
       "      <td>31,432</td>\n",
       "      <td>85.0</td>\n",
       "      <td>8.04</td>\n",
       "      <td>12,165</td>\n",
       "      <td>32.9</td>\n",
       "      <td>4.68</td>\n",
       "    </tr>\n",
       "  </tbody>\n",
       "</table>\n",
       "</div>"
      ],
      "text/plain": [
       "              Educational Attainment Total Employed Number (Average Day)  \\\n",
       "0    Less than a high school diploma         10,339                6,832   \n",
       "1  High school graduates, no college         36,458               24,095   \n",
       "2   Some college or associate degree         34,223               22,597   \n",
       "3       Bachelor's degree and higher         63,210               45,069   \n",
       "4             Bachelor's degree only         36,985               25,713   \n",
       "\n",
       "   Percent of Employed (Average Day)  Average hours of work (Average Day)  \\\n",
       "0                               66.1                                 8.07   \n",
       "1                               66.1                                 8.11   \n",
       "2                               66.0                                 7.82   \n",
       "3                               71.3                                 7.36   \n",
       "4                               69.5                                 7.57   \n",
       "\n",
       "  Number (Average Weekday)  Percent of Employed (Average Weekday)  \\\n",
       "0                    8,503                                   82.2   \n",
       "1                   29,360                                   80.5   \n",
       "2                   27,625                                   80.7   \n",
       "3                   55,153                                   87.3   \n",
       "4                   31,432                                   85.0   \n",
       "\n",
       "   Average hours of work (Average Weekday) Number (Average Sat, Sun, Holiday)  \\\n",
       "0                                     8.12                              2,950   \n",
       "1                                     8.43                             11,370   \n",
       "2                                     8.14                             10,555   \n",
       "3                                     7.91                             21,501   \n",
       "4                                     8.04                             12,165   \n",
       "\n",
       "   Percent of Employed (Average Sat, Sun, Holiday)  \\\n",
       "0                                             28.5   \n",
       "1                                             31.2   \n",
       "2                                             30.8   \n",
       "3                                             34.0   \n",
       "4                                             32.9   \n",
       "\n",
       "   Average hours of work (Average Sat, Sun, Holiday)  \n",
       "0                                               7.74  \n",
       "1                                               6.12  \n",
       "2                                               5.79  \n",
       "3                                               4.04  \n",
       "4                                               4.68  "
      ]
     },
     "execution_count": 6,
     "metadata": {},
     "output_type": "execute_result"
    }
   ],
   "source": [
    "#Import new dataset analyzing hours worked by educational attainment\n",
    "edu_level.head()"
   ]
  },
  {
   "cell_type": "code",
   "execution_count": 8,
   "metadata": {},
   "outputs": [
    {
     "data": {
      "image/png": "[encoded data removed]",
      "text/plain": [
       "<Figure size 432x288 with 1 Axes>"
      ]
     },
     "metadata": {
      "needs_background": "light"
     },
     "output_type": "display_data"
    }
   ],
   "source": [
    "#Average hours spent working (weekdays) by educational attainment\n",
    "y=edu_level[\"Average hours of work (Average Weekday)\"]\n",
    "x=edu_level[\"Educational Attainment\"]\n",
    "plt.title('Average Hours Worked by Educational Attainment (Weekdays)')\n",
    "plt.bar(x,y)\n",
    "plt.xticks(rotation=90)\n",
    "plt.ylabel(\"Working Hours\")\n",
    "plt.savefig('wh_wkdy_bar.png')"
   ]
  },
  {
   "cell_type": "code",
   "execution_count": null,
   "metadata": {},
   "outputs": [],
   "source": []
  },
  {
   "cell_type": "code",
   "execution_count": 9,
   "metadata": {},
   "outputs": [
    {
     "data": {
      "image/png": "[encoded data removed]",
      "text/plain": [
       "<Figure size 432x288 with 1 Axes>"
      ]
     },
     "metadata": {
      "needs_background": "light"
     },
     "output_type": "display_data"
    }
   ],
   "source": [
    "#Average hours spent working (weekends/holidays) by educational attainment\n",
    "y=edu_level[\"Average hours of work (Average Sat, Sun, Holiday)\"]\n",
    "x=edu_level[\"Educational Attainment\"]\n",
    "plt.title('Average Hours Worked by Educational Attainment (Weekends/Holidays)')\n",
    "plt.bar(x,y)\n",
    "plt.xticks(rotation=90)\n",
    "plt.ylabel(\"Working Hours\")\n",
    "plt.savefig('wh_wknd_bar.png')"
   ]
  },
  {
   "cell_type": "code",
   "execution_count": 10,
   "metadata": {},
   "outputs": [],
   "source": [
    "#Input observed values\n",
    "observed = pd.Series([7.74,6.12,5.79,4.04,4.68,3.23], index=[\"Less than a high school diploma\", \"High school graduates, no college\", \"Some college or associate degree\",\"Bachelor's degree and higher\",\"Bachelor's degree only\",\"Advanced Degree\"])"
   ]
  },
  {
   "cell_type": "code",
   "execution_count": 11,
   "metadata": {},
   "outputs": [],
   "source": [
    "wknd_hours_df = pd.DataFrame([observed]).T"
   ]
  },
  {
   "cell_type": "code",
   "execution_count": 12,
   "metadata": {},
   "outputs": [],
   "source": [
    "## Input expected values\n",
    "wknd_hours_df[1] = 5.27"
   ]
  },
  {
   "cell_type": "code",
   "execution_count": 13,
   "metadata": {},
   "outputs": [
    {
     "data": {
      "text/html": [
       "<div>\n",
       "<style scoped>\n",
       "    .dataframe tbody tr th:only-of-type {\n",
       "        vertical-align: middle;\n",
       "    }\n",
       "\n",
       "    .dataframe tbody tr th {\n",
       "        vertical-align: top;\n",
       "    }\n",
       "\n",
       "    .dataframe thead th {\n",
       "        text-align: right;\n",
       "    }\n",
       "</style>\n",
       "<table border=\"1\" class=\"dataframe\">\n",
       "  <thead>\n",
       "    <tr style=\"text-align: right;\">\n",
       "      <th></th>\n",
       "      <th>observed</th>\n",
       "      <th>expected</th>\n",
       "    </tr>\n",
       "  </thead>\n",
       "  <tbody>\n",
       "    <tr>\n",
       "      <th>Less than a high school diploma</th>\n",
       "      <td>7.74</td>\n",
       "      <td>5.27</td>\n",
       "    </tr>\n",
       "    <tr>\n",
       "      <th>High school graduates, no college</th>\n",
       "      <td>6.12</td>\n",
       "      <td>5.27</td>\n",
       "    </tr>\n",
       "    <tr>\n",
       "      <th>Some college or associate degree</th>\n",
       "      <td>5.79</td>\n",
       "      <td>5.27</td>\n",
       "    </tr>\n",
       "    <tr>\n",
       "      <th>Bachelor's degree and higher</th>\n",
       "      <td>4.04</td>\n",
       "      <td>5.27</td>\n",
       "    </tr>\n",
       "    <tr>\n",
       "      <th>Bachelor's degree only</th>\n",
       "      <td>4.68</td>\n",
       "      <td>5.27</td>\n",
       "    </tr>\n",
       "    <tr>\n",
       "      <th>Advanced Degree</th>\n",
       "      <td>3.23</td>\n",
       "      <td>5.27</td>\n",
       "    </tr>\n",
       "  </tbody>\n",
       "</table>\n",
       "</div>"
      ],
      "text/plain": [
       "                                   observed  expected\n",
       "Less than a high school diploma        7.74      5.27\n",
       "High school graduates, no college      6.12      5.27\n",
       "Some college or associate degree       5.79      5.27\n",
       "Bachelor's degree and higher           4.04      5.27\n",
       "Bachelor's degree only                 4.68      5.27\n",
       "Advanced Degree                        3.23      5.27"
      ]
     },
     "execution_count": 13,
     "metadata": {},
     "output_type": "execute_result"
    }
   ],
   "source": [
    "# Rename columns\n",
    "wknd_hours_df.columns = [\"observed\", \"expected\"]\n",
    "wknd_hours_df"
   ]
  },
  {
   "cell_type": "code",
   "execution_count": 14,
   "metadata": {},
   "outputs": [
    {
     "data": {
      "text/plain": [
       "11.070497693516351"
      ]
     },
     "execution_count": 14,
     "metadata": {},
     "output_type": "execute_result"
    }
   ],
   "source": [
    "# The degree of freedom is 6-1 = 5\n",
    "# With a p-value of 0.05, the confidence level is 1.00-0.05 = 0.95.\n",
    "critical_value = stats.chi2.ppf(q = 0.95, df = 5)\n",
    "critical_value"
   ]
  },
  {
   "cell_type": "code",
   "execution_count": 15,
   "metadata": {
    "scrolled": true
   },
   "outputs": [
    {
     "data": {
      "text/plain": [
       "Power_divergenceResult(statistic=2.48888045540797, pvalue=0.7781687577075137)"
      ]
     },
     "execution_count": 15,
     "metadata": {},
     "output_type": "execute_result"
    }
   ],
   "source": [
    "# Run the chi square test with stats.chisquare()\n",
    "stats.chisquare(wknd_hours_df[\"observed\"], wknd_hours_df[\"expected\"])"
   ]
  },
  {
   "cell_type": "markdown",
   "metadata": {},
   "source": [
    "# Life Expectancy"
   ]
  },
  {
   "cell_type": "code",
   "execution_count": 3,
   "metadata": {},
   "outputs": [
    {
     "data": {
      "text/html": [
       "<div>\n",
       "<style scoped>\n",
       "    .dataframe tbody tr th:only-of-type {\n",
       "        vertical-align: middle;\n",
       "    }\n",
       "\n",
       "    .dataframe tbody tr th {\n",
       "        vertical-align: top;\n",
       "    }\n",
       "\n",
       "    .dataframe thead th {\n",
       "        text-align: right;\n",
       "    }\n",
       "</style>\n",
       "<table border=\"1\" class=\"dataframe\">\n",
       "  <thead>\n",
       "    <tr style=\"text-align: right;\">\n",
       "      <th></th>\n",
       "      <th>Entity</th>\n",
       "      <th>Code</th>\n",
       "      <th>Year</th>\n",
       "      <th>Average annual working hours per worker</th>\n",
       "    </tr>\n",
       "  </thead>\n",
       "  <tbody>\n",
       "    <tr>\n",
       "      <th>0</th>\n",
       "      <td>Argentina</td>\n",
       "      <td>ARG</td>\n",
       "      <td>1950</td>\n",
       "      <td>2034.0000</td>\n",
       "    </tr>\n",
       "    <tr>\n",
       "      <th>1</th>\n",
       "      <td>Argentina</td>\n",
       "      <td>ARG</td>\n",
       "      <td>1951</td>\n",
       "      <td>2037.8667</td>\n",
       "    </tr>\n",
       "    <tr>\n",
       "      <th>2</th>\n",
       "      <td>Argentina</td>\n",
       "      <td>ARG</td>\n",
       "      <td>1952</td>\n",
       "      <td>2041.7408</td>\n",
       "    </tr>\n",
       "    <tr>\n",
       "      <th>3</th>\n",
       "      <td>Argentina</td>\n",
       "      <td>ARG</td>\n",
       "      <td>1953</td>\n",
       "      <td>2045.6223</td>\n",
       "    </tr>\n",
       "    <tr>\n",
       "      <th>4</th>\n",
       "      <td>Argentina</td>\n",
       "      <td>ARG</td>\n",
       "      <td>1954</td>\n",
       "      <td>2049.5112</td>\n",
       "    </tr>\n",
       "  </tbody>\n",
       "</table>\n",
       "</div>"
      ],
      "text/plain": [
       "      Entity Code  Year  Average annual working hours per worker\n",
       "0  Argentina  ARG  1950                                2034.0000\n",
       "1  Argentina  ARG  1951                                2037.8667\n",
       "2  Argentina  ARG  1952                                2041.7408\n",
       "3  Argentina  ARG  1953                                2045.6223\n",
       "4  Argentina  ARG  1954                                2049.5112"
      ]
     },
     "execution_count": 3,
     "metadata": {},
     "output_type": "execute_result"
    }
   ],
   "source": [
    "#LIFE EXPECTANCY\n",
    "#Read annual working hours per worker on the world\n",
    "WH_data = pd.read_csv('data/annual-working-hours-per-worker.csv')\n",
    "WH_data.head()"
   ]
  },
  {
   "cell_type": "code",
   "execution_count": 4,
   "metadata": {},
   "outputs": [
    {
     "data": {
      "text/html": [
       "<div>\n",
       "<style scoped>\n",
       "    .dataframe tbody tr th:only-of-type {\n",
       "        vertical-align: middle;\n",
       "    }\n",
       "\n",
       "    .dataframe tbody tr th {\n",
       "        vertical-align: top;\n",
       "    }\n",
       "\n",
       "    .dataframe thead th {\n",
       "        text-align: right;\n",
       "    }\n",
       "</style>\n",
       "<table border=\"1\" class=\"dataframe\">\n",
       "  <thead>\n",
       "    <tr style=\"text-align: right;\">\n",
       "      <th></th>\n",
       "      <th>Entity</th>\n",
       "      <th>Code</th>\n",
       "      <th>Year</th>\n",
       "      <th>Average annual working hours per worker</th>\n",
       "    </tr>\n",
       "  </thead>\n",
       "  <tbody>\n",
       "    <tr>\n",
       "      <th>3263</th>\n",
       "      <td>United States</td>\n",
       "      <td>USA</td>\n",
       "      <td>1870</td>\n",
       "      <td>3096.0</td>\n",
       "    </tr>\n",
       "    <tr>\n",
       "      <th>3264</th>\n",
       "      <td>United States</td>\n",
       "      <td>USA</td>\n",
       "      <td>1880</td>\n",
       "      <td>3044.0</td>\n",
       "    </tr>\n",
       "    <tr>\n",
       "      <th>3265</th>\n",
       "      <td>United States</td>\n",
       "      <td>USA</td>\n",
       "      <td>1890</td>\n",
       "      <td>2983.0</td>\n",
       "    </tr>\n",
       "    <tr>\n",
       "      <th>3266</th>\n",
       "      <td>United States</td>\n",
       "      <td>USA</td>\n",
       "      <td>1900</td>\n",
       "      <td>2938.0</td>\n",
       "    </tr>\n",
       "    <tr>\n",
       "      <th>3267</th>\n",
       "      <td>United States</td>\n",
       "      <td>USA</td>\n",
       "      <td>1913</td>\n",
       "      <td>2900.0</td>\n",
       "    </tr>\n",
       "  </tbody>\n",
       "</table>\n",
       "</div>"
      ],
      "text/plain": [
       "             Entity Code  Year  Average annual working hours per worker\n",
       "3263  United States  USA  1870                                   3096.0\n",
       "3264  United States  USA  1880                                   3044.0\n",
       "3265  United States  USA  1890                                   2983.0\n",
       "3266  United States  USA  1900                                   2938.0\n",
       "3267  United States  USA  1913                                   2900.0"
      ]
     },
     "execution_count": 4,
     "metadata": {},
     "output_type": "execute_result"
    }
   ],
   "source": [
    "#Filter only for USA\n",
    "filt=(WH_data[\"Code\"]=='USA')\n",
    "WH_USA_df=WH_data[filt]\n",
    "WH_USA_df.head()"
   ]
  },
  {
   "cell_type": "code",
   "execution_count": 5,
   "metadata": {},
   "outputs": [
    {
     "data": {
      "text/plain": [
       "(75, 4)"
      ]
     },
     "execution_count": 5,
     "metadata": {},
     "output_type": "execute_result"
    }
   ],
   "source": [
    "#Checking Results\n",
    "WH_USA_df.shape"
   ]
  },
  {
   "cell_type": "code",
   "execution_count": 6,
   "metadata": {},
   "outputs": [
    {
     "data": {
      "text/html": [
       "<div>\n",
       "<style scoped>\n",
       "    .dataframe tbody tr th:only-of-type {\n",
       "        vertical-align: middle;\n",
       "    }\n",
       "\n",
       "    .dataframe tbody tr th {\n",
       "        vertical-align: top;\n",
       "    }\n",
       "\n",
       "    .dataframe thead th {\n",
       "        text-align: right;\n",
       "    }\n",
       "</style>\n",
       "<table border=\"1\" class=\"dataframe\">\n",
       "  <thead>\n",
       "    <tr style=\"text-align: right;\">\n",
       "      <th></th>\n",
       "      <th>Entity</th>\n",
       "      <th>Code</th>\n",
       "      <th>Year</th>\n",
       "      <th>Life expectancy</th>\n",
       "    </tr>\n",
       "  </thead>\n",
       "  <tbody>\n",
       "    <tr>\n",
       "      <th>0</th>\n",
       "      <td>Afghanistan</td>\n",
       "      <td>AFG</td>\n",
       "      <td>1950</td>\n",
       "      <td>27.638</td>\n",
       "    </tr>\n",
       "    <tr>\n",
       "      <th>1</th>\n",
       "      <td>Afghanistan</td>\n",
       "      <td>AFG</td>\n",
       "      <td>1951</td>\n",
       "      <td>27.878</td>\n",
       "    </tr>\n",
       "    <tr>\n",
       "      <th>2</th>\n",
       "      <td>Afghanistan</td>\n",
       "      <td>AFG</td>\n",
       "      <td>1952</td>\n",
       "      <td>28.361</td>\n",
       "    </tr>\n",
       "    <tr>\n",
       "      <th>3</th>\n",
       "      <td>Afghanistan</td>\n",
       "      <td>AFG</td>\n",
       "      <td>1953</td>\n",
       "      <td>28.852</td>\n",
       "    </tr>\n",
       "    <tr>\n",
       "      <th>4</th>\n",
       "      <td>Afghanistan</td>\n",
       "      <td>AFG</td>\n",
       "      <td>1954</td>\n",
       "      <td>29.350</td>\n",
       "    </tr>\n",
       "  </tbody>\n",
       "</table>\n",
       "</div>"
      ],
      "text/plain": [
       "        Entity Code  Year  Life expectancy\n",
       "0  Afghanistan  AFG  1950           27.638\n",
       "1  Afghanistan  AFG  1951           27.878\n",
       "2  Afghanistan  AFG  1952           28.361\n",
       "3  Afghanistan  AFG  1953           28.852\n",
       "4  Afghanistan  AFG  1954           29.350"
      ]
     },
     "execution_count": 6,
     "metadata": {},
     "output_type": "execute_result"
    }
   ],
   "source": [
    "#Read life expectancy on the world\n",
    "LE_data = pd.read_csv('data/life-expectancy.csv')\n",
    "LE_data.head()"
   ]
  },
  {
   "cell_type": "code",
   "execution_count": 7,
   "metadata": {},
   "outputs": [
    {
     "data": {
      "text/html": [
       "<div>\n",
       "<style scoped>\n",
       "    .dataframe tbody tr th:only-of-type {\n",
       "        vertical-align: middle;\n",
       "    }\n",
       "\n",
       "    .dataframe tbody tr th {\n",
       "        vertical-align: top;\n",
       "    }\n",
       "\n",
       "    .dataframe thead th {\n",
       "        text-align: right;\n",
       "    }\n",
       "</style>\n",
       "<table border=\"1\" class=\"dataframe\">\n",
       "  <thead>\n",
       "    <tr style=\"text-align: right;\">\n",
       "      <th></th>\n",
       "      <th>Entity</th>\n",
       "      <th>Code</th>\n",
       "      <th>Year</th>\n",
       "      <th>Life expectancy</th>\n",
       "    </tr>\n",
       "  </thead>\n",
       "  <tbody>\n",
       "    <tr>\n",
       "      <th>17980</th>\n",
       "      <td>United States</td>\n",
       "      <td>USA</td>\n",
       "      <td>1880</td>\n",
       "      <td>39.410000</td>\n",
       "    </tr>\n",
       "    <tr>\n",
       "      <th>17981</th>\n",
       "      <td>United States</td>\n",
       "      <td>USA</td>\n",
       "      <td>1890</td>\n",
       "      <td>45.209999</td>\n",
       "    </tr>\n",
       "    <tr>\n",
       "      <th>17982</th>\n",
       "      <td>United States</td>\n",
       "      <td>USA</td>\n",
       "      <td>1901</td>\n",
       "      <td>49.299999</td>\n",
       "    </tr>\n",
       "    <tr>\n",
       "      <th>17983</th>\n",
       "      <td>United States</td>\n",
       "      <td>USA</td>\n",
       "      <td>1902</td>\n",
       "      <td>50.500000</td>\n",
       "    </tr>\n",
       "    <tr>\n",
       "      <th>17984</th>\n",
       "      <td>United States</td>\n",
       "      <td>USA</td>\n",
       "      <td>1903</td>\n",
       "      <td>50.599998</td>\n",
       "    </tr>\n",
       "  </tbody>\n",
       "</table>\n",
       "</div>"
      ],
      "text/plain": [
       "              Entity Code  Year  Life expectancy\n",
       "17980  United States  USA  1880        39.410000\n",
       "17981  United States  USA  1890        45.209999\n",
       "17982  United States  USA  1901        49.299999\n",
       "17983  United States  USA  1902        50.500000\n",
       "17984  United States  USA  1903        50.599998"
      ]
     },
     "execution_count": 7,
     "metadata": {},
     "output_type": "execute_result"
    }
   ],
   "source": [
    "#Filter only for USA\n",
    "filt=(LE_data[\"Code\"]=='USA')\n",
    "LE_USA_df=LE_data[filt]\n",
    "LE_USA_df.head()"
   ]
  },
  {
   "cell_type": "code",
   "execution_count": 8,
   "metadata": {},
   "outputs": [
    {
     "data": {
      "text/plain": [
       "(121, 4)"
      ]
     },
     "execution_count": 8,
     "metadata": {},
     "output_type": "execute_result"
    }
   ],
   "source": [
    "#Checking Results\n",
    "LE_USA_df.shape"
   ]
  },
  {
   "cell_type": "code",
   "execution_count": 9,
   "metadata": {},
   "outputs": [
    {
     "data": {
      "text/html": [
       "<div>\n",
       "<style scoped>\n",
       "    .dataframe tbody tr th:only-of-type {\n",
       "        vertical-align: middle;\n",
       "    }\n",
       "\n",
       "    .dataframe tbody tr th {\n",
       "        vertical-align: top;\n",
       "    }\n",
       "\n",
       "    .dataframe thead th {\n",
       "        text-align: right;\n",
       "    }\n",
       "</style>\n",
       "<table border=\"1\" class=\"dataframe\">\n",
       "  <thead>\n",
       "    <tr style=\"text-align: right;\">\n",
       "      <th></th>\n",
       "      <th>Entity_x</th>\n",
       "      <th>Code_x</th>\n",
       "      <th>Year</th>\n",
       "      <th>Average annual working hours per worker</th>\n",
       "      <th>Entity_y</th>\n",
       "      <th>Code_y</th>\n",
       "      <th>Life expectancy</th>\n",
       "    </tr>\n",
       "  </thead>\n",
       "  <tbody>\n",
       "    <tr>\n",
       "      <th>1</th>\n",
       "      <td>United States</td>\n",
       "      <td>USA</td>\n",
       "      <td>1880</td>\n",
       "      <td>3044.0000</td>\n",
       "      <td>United States</td>\n",
       "      <td>USA</td>\n",
       "      <td>39.410000</td>\n",
       "    </tr>\n",
       "    <tr>\n",
       "      <th>2</th>\n",
       "      <td>United States</td>\n",
       "      <td>USA</td>\n",
       "      <td>1890</td>\n",
       "      <td>2983.0000</td>\n",
       "      <td>United States</td>\n",
       "      <td>USA</td>\n",
       "      <td>45.209999</td>\n",
       "    </tr>\n",
       "    <tr>\n",
       "      <th>4</th>\n",
       "      <td>United States</td>\n",
       "      <td>USA</td>\n",
       "      <td>1913</td>\n",
       "      <td>2900.0000</td>\n",
       "      <td>United States</td>\n",
       "      <td>USA</td>\n",
       "      <td>53.500000</td>\n",
       "    </tr>\n",
       "    <tr>\n",
       "      <th>5</th>\n",
       "      <td>United States</td>\n",
       "      <td>USA</td>\n",
       "      <td>1929</td>\n",
       "      <td>2316.0000</td>\n",
       "      <td>United States</td>\n",
       "      <td>USA</td>\n",
       "      <td>58.500000</td>\n",
       "    </tr>\n",
       "    <tr>\n",
       "      <th>6</th>\n",
       "      <td>United States</td>\n",
       "      <td>USA</td>\n",
       "      <td>1938</td>\n",
       "      <td>1756.0000</td>\n",
       "      <td>United States</td>\n",
       "      <td>USA</td>\n",
       "      <td>62.389999</td>\n",
       "    </tr>\n",
       "    <tr>\n",
       "      <th>...</th>\n",
       "      <td>...</td>\n",
       "      <td>...</td>\n",
       "      <td>...</td>\n",
       "      <td>...</td>\n",
       "      <td>...</td>\n",
       "      <td>...</td>\n",
       "      <td>...</td>\n",
       "    </tr>\n",
       "    <tr>\n",
       "      <th>70</th>\n",
       "      <td>United States</td>\n",
       "      <td>USA</td>\n",
       "      <td>2013</td>\n",
       "      <td>1750.0786</td>\n",
       "      <td>United States</td>\n",
       "      <td>USA</td>\n",
       "      <td>78.909000</td>\n",
       "    </tr>\n",
       "    <tr>\n",
       "      <th>71</th>\n",
       "      <td>United States</td>\n",
       "      <td>USA</td>\n",
       "      <td>2014</td>\n",
       "      <td>1754.4224</td>\n",
       "      <td>United States</td>\n",
       "      <td>USA</td>\n",
       "      <td>78.922000</td>\n",
       "    </tr>\n",
       "    <tr>\n",
       "      <th>72</th>\n",
       "      <td>United States</td>\n",
       "      <td>USA</td>\n",
       "      <td>2015</td>\n",
       "      <td>1765.1826</td>\n",
       "      <td>United States</td>\n",
       "      <td>USA</td>\n",
       "      <td>78.910000</td>\n",
       "    </tr>\n",
       "    <tr>\n",
       "      <th>73</th>\n",
       "      <td>United States</td>\n",
       "      <td>USA</td>\n",
       "      <td>2016</td>\n",
       "      <td>1760.7960</td>\n",
       "      <td>United States</td>\n",
       "      <td>USA</td>\n",
       "      <td>78.885000</td>\n",
       "    </tr>\n",
       "    <tr>\n",
       "      <th>74</th>\n",
       "      <td>United States</td>\n",
       "      <td>USA</td>\n",
       "      <td>2017</td>\n",
       "      <td>1757.2255</td>\n",
       "      <td>United States</td>\n",
       "      <td>USA</td>\n",
       "      <td>78.861000</td>\n",
       "    </tr>\n",
       "  </tbody>\n",
       "</table>\n",
       "<p>73 rows × 7 columns</p>\n",
       "</div>"
      ],
      "text/plain": [
       "         Entity_x Code_x  Year  Average annual working hours per worker  \\\n",
       "1   United States    USA  1880                                3044.0000   \n",
       "2   United States    USA  1890                                2983.0000   \n",
       "4   United States    USA  1913                                2900.0000   \n",
       "5   United States    USA  1929                                2316.0000   \n",
       "6   United States    USA  1938                                1756.0000   \n",
       "..            ...    ...   ...                                      ...   \n",
       "70  United States    USA  2013                                1750.0786   \n",
       "71  United States    USA  2014                                1754.4224   \n",
       "72  United States    USA  2015                                1765.1826   \n",
       "73  United States    USA  2016                                1760.7960   \n",
       "74  United States    USA  2017                                1757.2255   \n",
       "\n",
       "         Entity_y Code_y  Life expectancy  \n",
       "1   United States    USA        39.410000  \n",
       "2   United States    USA        45.209999  \n",
       "4   United States    USA        53.500000  \n",
       "5   United States    USA        58.500000  \n",
       "6   United States    USA        62.389999  \n",
       "..            ...    ...              ...  \n",
       "70  United States    USA        78.909000  \n",
       "71  United States    USA        78.922000  \n",
       "72  United States    USA        78.910000  \n",
       "73  United States    USA        78.885000  \n",
       "74  United States    USA        78.861000  \n",
       "\n",
       "[73 rows x 7 columns]"
      ]
     },
     "execution_count": 9,
     "metadata": {},
     "output_type": "execute_result"
    }
   ],
   "source": [
    "#Merging both data frames, dropping NaN\n",
    "data_combined_df=pd.merge(WH_USA_df, LE_USA_df, how=\"outer\", on=\"Year\")\n",
    "data_combined_df.dropna(inplace=True)\n",
    "data_combined_df"
   ]
  },
  {
   "cell_type": "code",
   "execution_count": 10,
   "metadata": {},
   "outputs": [
    {
     "data": {
      "text/plain": [
       "['Entity_x',\n",
       " 'Code_x',\n",
       " 'Year',\n",
       " 'Average annual working hours per worker',\n",
       " 'Entity_y',\n",
       " 'Code_y',\n",
       " 'Life expectancy']"
      ]
     },
     "execution_count": 10,
     "metadata": {},
     "output_type": "execute_result"
    }
   ],
   "source": [
    "#Checking Column names\n",
    "list(data_combined_df.columns)"
   ]
  },
  {
   "cell_type": "code",
   "execution_count": 11,
   "metadata": {},
   "outputs": [
    {
     "data": {
      "text/html": [
       "<div>\n",
       "<style scoped>\n",
       "    .dataframe tbody tr th:only-of-type {\n",
       "        vertical-align: middle;\n",
       "    }\n",
       "\n",
       "    .dataframe tbody tr th {\n",
       "        vertical-align: top;\n",
       "    }\n",
       "\n",
       "    .dataframe thead th {\n",
       "        text-align: right;\n",
       "    }\n",
       "</style>\n",
       "<table border=\"1\" class=\"dataframe\">\n",
       "  <thead>\n",
       "    <tr style=\"text-align: right;\">\n",
       "      <th></th>\n",
       "      <th>Country</th>\n",
       "      <th>Country Code</th>\n",
       "      <th>Year</th>\n",
       "      <th>Average annual working hours per worker</th>\n",
       "      <th>Life expectancy</th>\n",
       "    </tr>\n",
       "  </thead>\n",
       "  <tbody>\n",
       "    <tr>\n",
       "      <th>1</th>\n",
       "      <td>United States</td>\n",
       "      <td>USA</td>\n",
       "      <td>1880</td>\n",
       "      <td>3044.0</td>\n",
       "      <td>39.410000</td>\n",
       "    </tr>\n",
       "    <tr>\n",
       "      <th>2</th>\n",
       "      <td>United States</td>\n",
       "      <td>USA</td>\n",
       "      <td>1890</td>\n",
       "      <td>2983.0</td>\n",
       "      <td>45.209999</td>\n",
       "    </tr>\n",
       "    <tr>\n",
       "      <th>4</th>\n",
       "      <td>United States</td>\n",
       "      <td>USA</td>\n",
       "      <td>1913</td>\n",
       "      <td>2900.0</td>\n",
       "      <td>53.500000</td>\n",
       "    </tr>\n",
       "    <tr>\n",
       "      <th>5</th>\n",
       "      <td>United States</td>\n",
       "      <td>USA</td>\n",
       "      <td>1929</td>\n",
       "      <td>2316.0</td>\n",
       "      <td>58.500000</td>\n",
       "    </tr>\n",
       "    <tr>\n",
       "      <th>6</th>\n",
       "      <td>United States</td>\n",
       "      <td>USA</td>\n",
       "      <td>1938</td>\n",
       "      <td>1756.0</td>\n",
       "      <td>62.389999</td>\n",
       "    </tr>\n",
       "  </tbody>\n",
       "</table>\n",
       "</div>"
      ],
      "text/plain": [
       "         Country Country Code  Year  Average annual working hours per worker  \\\n",
       "1  United States          USA  1880                                   3044.0   \n",
       "2  United States          USA  1890                                   2983.0   \n",
       "4  United States          USA  1913                                   2900.0   \n",
       "5  United States          USA  1929                                   2316.0   \n",
       "6  United States          USA  1938                                   1756.0   \n",
       "\n",
       "   Life expectancy  \n",
       "1        39.410000  \n",
       "2        45.209999  \n",
       "4        53.500000  \n",
       "5        58.500000  \n",
       "6        62.389999  "
      ]
     },
     "execution_count": 11,
     "metadata": {},
     "output_type": "execute_result"
    }
   ],
   "source": [
    "#Drop not use columns and rename columns left\n",
    "data_combined_df.drop(['Entity_y', 'Code_y'], axis=1, inplace=True)\n",
    "data_combined_df.rename(columns = {'Entity_x':'Country', 'Code_x':'Country Code'}, inplace = True) \n",
    "data_combined_df.head()"
   ]
  },
  {
   "cell_type": "code",
   "execution_count": 12,
   "metadata": {},
   "outputs": [
    {
     "data": {
      "text/plain": [
       "(73, 5)"
      ]
     },
     "execution_count": 12,
     "metadata": {},
     "output_type": "execute_result"
    }
   ],
   "source": [
    "#Checking results\n",
    "data_combined_df.shape"
   ]
  },
  {
   "cell_type": "code",
   "execution_count": 13,
   "metadata": {},
   "outputs": [],
   "source": [
    "#Extracting data to plot\n",
    "years=data_combined_df['Year']\n",
    "work_hours=data_combined_df['Average annual working hours per worker']\n",
    "life_expectancy=data_combined_df['Life expectancy']"
   ]
  },
  {
   "cell_type": "code",
   "execution_count": 14,
   "metadata": {},
   "outputs": [
    {
     "data": {
      "image/png": "[encoded data removed]",
      "text/plain": [
       "<Figure size 432x288 with 1 Axes>"
      ]
     },
     "metadata": {
      "needs_background": "light"
     },
     "output_type": "display_data"
    }
   ],
   "source": [
    "#Plotting working hours in USA and saving plot fig to png format\n",
    "fig = plt.figure()\n",
    "plt.title(\"Working Hours in USA thru the Years\")\n",
    "plt.ylabel(\"Working Hours\")\n",
    "plt.xlabel(\"Years\")\n",
    "plt.plot(years,work_hours, color='red', label=\"Working Hours\")\n",
    "plt.legend(loc=\"upper right\")\n",
    "plt.grid()\n",
    "fig.savefig(\"data/working_hours_USA.png\")"
   ]
  },
  {
   "cell_type": "code",
   "execution_count": 15,
   "metadata": {},
   "outputs": [
    {
     "data": {
      "image/png": "[encoded data removed]",
      "text/plain": [
       "<Figure size 432x288 with 1 Axes>"
      ]
     },
     "metadata": {
      "needs_background": "light"
     },
     "output_type": "display_data"
    }
   ],
   "source": [
    "#Plotting Life expectancy on USA and saving plot fig to png format\n",
    "fig = plt.figure()\n",
    "plt.title(\"Life Expectancy on the USA\")\n",
    "plt.ylabel(\"Life Expectancy\")\n",
    "plt.xlabel(\"Years\")\n",
    "plt.plot(years,life_expectancy, color='red', label=\"Life Expectancy\")\n",
    "plt.legend(loc=\"upper right\")\n",
    "plt.grid()\n",
    "fig.savefig(\"data/life_expectancy.png\")"
   ]
  },
  {
   "cell_type": "code",
   "execution_count": 16,
   "metadata": {},
   "outputs": [
    {
     "data": {
      "text/plain": [
       "<matplotlib.collections.PathCollection at 0x1b9df290250>"
      ]
     },
     "execution_count": 16,
     "metadata": {},
     "output_type": "execute_result"
    },
    {
     "data": {
      "image/png": "[encoded data removed]",
      "text/plain": [
       "<Figure size 432x288 with 1 Axes>"
      ]
     },
     "metadata": {
      "needs_background": "light"
     },
     "output_type": "display_data"
    }
   ],
   "source": [
    "#Correlation between Life Expectancy and Working Hours \n",
    "plt.title(\"Life Expectancy in USA vs Yearly Working Hours\")\n",
    "plt.ylabel(\"Working Hours\")\n",
    "plt.xlabel(\"Life Expectancy\")\n",
    "plt.scatter(life_expectancy[:,], work_hours)"
   ]
  },
  {
   "cell_type": "code",
   "execution_count": 17,
   "metadata": {},
   "outputs": [
    {
     "name": "stdout",
     "output_type": "stream",
     "text": [
      "The r-squared is: 0.8641435382551297\n"
     ]
    },
    {
     "data": {
      "image/png": "[encoded data removed]",
      "text/plain": [
       "<Figure size 432x288 with 1 Axes>"
      ]
     },
     "metadata": {
      "needs_background": "light"
     },
     "output_type": "display_data"
    }
   ],
   "source": [
    "# Add the linear regression equation and line to plot and saving plot fig to png format\n",
    "fig = plt.figure()\n",
    "x_values = life_expectancy[:,]\n",
    "y_values = work_hours\n",
    "(slope, intercept, rvalue, pvalue, stderr) = linregress(x_values, y_values)\n",
    "regress_values = x_values * slope + intercept\n",
    "line_eq = \"y = \" + str(round(slope,2)) + \"x + \" + str(round(intercept,2))\n",
    "plt.scatter(x_values,y_values)\n",
    "plt.plot(x_values,regress_values,\"r-\")\n",
    "plt.annotate(line_eq,(6,10),fontsize=15,color=\"red\")\n",
    "plt.title(\"Life Expectancy vs Yearly Working Hours in USA\")\n",
    "plt.ylabel(\"Working Hours\")\n",
    "plt.xlabel(\"Life Expectancy\")\n",
    "print(f\"The r-squared is: {rvalue**2}\")\n",
    "fig.savefig(\"data/life_exp_vs_work_hrs_linear_regression.png\")\n",
    "plt.show()"
   ]
  },
  {
   "cell_type": "markdown",
   "metadata": {},
   "source": [
    "# Unemployment"
   ]
  },
  {
   "cell_type": "code",
   "execution_count": 24,
   "metadata": {},
   "outputs": [
    {
     "data": {
      "text/html": [
       "<div>\n",
       "<style scoped>\n",
       "    .dataframe tbody tr th:only-of-type {\n",
       "        vertical-align: middle;\n",
       "    }\n",
       "\n",
       "    .dataframe tbody tr th {\n",
       "        vertical-align: top;\n",
       "    }\n",
       "\n",
       "    .dataframe thead th {\n",
       "        text-align: right;\n",
       "    }\n",
       "</style>\n",
       "<table border=\"1\" class=\"dataframe\">\n",
       "  <thead>\n",
       "    <tr style=\"text-align: right;\">\n",
       "      <th></th>\n",
       "      <th>Entity</th>\n",
       "      <th>Code</th>\n",
       "      <th>Year</th>\n",
       "      <th>Average annual working hours per worker</th>\n",
       "    </tr>\n",
       "  </thead>\n",
       "  <tbody>\n",
       "    <tr>\n",
       "      <th>0</th>\n",
       "      <td>Argentina</td>\n",
       "      <td>ARG</td>\n",
       "      <td>1950</td>\n",
       "      <td>2034.0000</td>\n",
       "    </tr>\n",
       "    <tr>\n",
       "      <th>1</th>\n",
       "      <td>Argentina</td>\n",
       "      <td>ARG</td>\n",
       "      <td>1951</td>\n",
       "      <td>2037.8667</td>\n",
       "    </tr>\n",
       "    <tr>\n",
       "      <th>2</th>\n",
       "      <td>Argentina</td>\n",
       "      <td>ARG</td>\n",
       "      <td>1952</td>\n",
       "      <td>2041.7408</td>\n",
       "    </tr>\n",
       "    <tr>\n",
       "      <th>3</th>\n",
       "      <td>Argentina</td>\n",
       "      <td>ARG</td>\n",
       "      <td>1953</td>\n",
       "      <td>2045.6223</td>\n",
       "    </tr>\n",
       "    <tr>\n",
       "      <th>4</th>\n",
       "      <td>Argentina</td>\n",
       "      <td>ARG</td>\n",
       "      <td>1954</td>\n",
       "      <td>2049.5112</td>\n",
       "    </tr>\n",
       "  </tbody>\n",
       "</table>\n",
       "</div>"
      ],
      "text/plain": [
       "      Entity Code  Year  Average annual working hours per worker\n",
       "0  Argentina  ARG  1950                                2034.0000\n",
       "1  Argentina  ARG  1951                                2037.8667\n",
       "2  Argentina  ARG  1952                                2041.7408\n",
       "3  Argentina  ARG  1953                                2045.6223\n",
       "4  Argentina  ARG  1954                                2049.5112"
      ]
     },
     "execution_count": 24,
     "metadata": {},
     "output_type": "execute_result"
    }
   ],
   "source": [
    "#UNEMPLOYMENT\n",
    "#Read annual working hours per worker on the world\n",
    "WH_data = pd.read_csv('data/annual-working-hours-per-worker.csv')\n",
    "WH_data.head()"
   ]
  },
  {
   "cell_type": "code",
   "execution_count": 25,
   "metadata": {},
   "outputs": [
    {
     "data": {
      "text/html": [
       "<div>\n",
       "<style scoped>\n",
       "    .dataframe tbody tr th:only-of-type {\n",
       "        vertical-align: middle;\n",
       "    }\n",
       "\n",
       "    .dataframe tbody tr th {\n",
       "        vertical-align: top;\n",
       "    }\n",
       "\n",
       "    .dataframe thead th {\n",
       "        text-align: right;\n",
       "    }\n",
       "</style>\n",
       "<table border=\"1\" class=\"dataframe\">\n",
       "  <thead>\n",
       "    <tr style=\"text-align: right;\">\n",
       "      <th></th>\n",
       "      <th>Entity</th>\n",
       "      <th>Code</th>\n",
       "      <th>Year</th>\n",
       "      <th>Average annual working hours per worker</th>\n",
       "    </tr>\n",
       "  </thead>\n",
       "  <tbody>\n",
       "    <tr>\n",
       "      <th>3263</th>\n",
       "      <td>United States</td>\n",
       "      <td>USA</td>\n",
       "      <td>1870</td>\n",
       "      <td>3096.0</td>\n",
       "    </tr>\n",
       "    <tr>\n",
       "      <th>3264</th>\n",
       "      <td>United States</td>\n",
       "      <td>USA</td>\n",
       "      <td>1880</td>\n",
       "      <td>3044.0</td>\n",
       "    </tr>\n",
       "    <tr>\n",
       "      <th>3265</th>\n",
       "      <td>United States</td>\n",
       "      <td>USA</td>\n",
       "      <td>1890</td>\n",
       "      <td>2983.0</td>\n",
       "    </tr>\n",
       "    <tr>\n",
       "      <th>3266</th>\n",
       "      <td>United States</td>\n",
       "      <td>USA</td>\n",
       "      <td>1900</td>\n",
       "      <td>2938.0</td>\n",
       "    </tr>\n",
       "    <tr>\n",
       "      <th>3267</th>\n",
       "      <td>United States</td>\n",
       "      <td>USA</td>\n",
       "      <td>1913</td>\n",
       "      <td>2900.0</td>\n",
       "    </tr>\n",
       "  </tbody>\n",
       "</table>\n",
       "</div>"
      ],
      "text/plain": [
       "             Entity Code  Year  Average annual working hours per worker\n",
       "3263  United States  USA  1870                                   3096.0\n",
       "3264  United States  USA  1880                                   3044.0\n",
       "3265  United States  USA  1890                                   2983.0\n",
       "3266  United States  USA  1900                                   2938.0\n",
       "3267  United States  USA  1913                                   2900.0"
      ]
     },
     "execution_count": 25,
     "metadata": {},
     "output_type": "execute_result"
    }
   ],
   "source": [
    "#Filter only for USA\n",
    "filt=(WH_data[\"Code\"]=='USA')\n",
    "WH_USA_df=WH_data[filt]\n",
    "WH_USA_df.head()"
   ]
  },
  {
   "cell_type": "code",
   "execution_count": 26,
   "metadata": {},
   "outputs": [
    {
     "data": {
      "text/plain": [
       "Entity                                      object\n",
       "Code                                        object\n",
       "Year                                         int64\n",
       "Average annual working hours per worker    float64\n",
       "dtype: object"
      ]
     },
     "execution_count": 26,
     "metadata": {},
     "output_type": "execute_result"
    }
   ],
   "source": [
    "#Checking Datatypes\n",
    "WH_USA_df.dtypes"
   ]
  },
  {
   "cell_type": "code",
   "execution_count": 27,
   "metadata": {},
   "outputs": [
    {
     "name": "stdout",
     "output_type": "stream",
     "text": [
      "{'header': {'id': 'e9abb76e-0a37-42c8-adfa-6c3deee0d643', 'test': False, 'prepared': '2021-01-14T23:13:36.9329271Z', 'sender': {'id': 'OECD', 'name': 'Organisation for Economic Co-operation and Development'}, 'links': [{'href': 'https://stats.oecd.org:443/SDMX-JSON/data/KEI/LR+LRHUTTTT.USA.ST.A/all?startTime=1914&endTime=2020&dimensionAtObservation=allDimensions', 'rel': 'request'}]}, 'dataSets': [{'action': 'Information', 'observations': {'0:0:0:0:0': [4.38333333333333, 0, None, 0, 0, None], '0:0:0:0:1': [4.14166666666667, 0, None, 0, 0, None], '0:0:0:0:2': [4.25833333333333, 0, None, 0, 0, None], '0:0:0:0:3': [6.8, 0, None, 0, 0, None], '0:0:0:0:4': [5.475, 0, None, 0, 0, None], '0:0:0:0:5': [5.50833333333333, 0, None, 0, 0, None], '0:0:0:0:6': [6.68333333333333, 0, None, 0, 0, None], '0:0:0:0:7': [5.54166666666666, 0, None, 0, 0, None], '0:0:0:0:8': [5.66666666666667, 0, None, 0, 0, None], '0:0:0:0:9': [5.19166666666667, 0, None, 0, 0, None], '0:0:0:0:10': [4.525, 0, None, 0, 0, None], '0:0:0:0:11': [3.78333333333333, 0, None, 0, 0, None], '0:0:0:0:12': [3.84166666666667, 0, None, 0, 0, None], '0:0:0:0:13': [3.58333333333333, 0, None, 0, 0, None], '0:0:0:0:14': [3.50833333333333, 0, None, 0, 0, None], '0:0:0:0:15': [4.93333333333333, 0, None, 0, 0, None], '0:0:0:0:16': [5.95833333333333, 0, None, 0, 0, None], '0:0:0:0:17': [5.61666666666667, 0, None, 0, 0, None], '0:0:0:0:18': [4.89166666666667, 0, None, 0, 0, None], '0:0:0:0:19': [5.59166666666667, 0, None, 0, 0, None], '0:0:0:0:20': [8.46666666666667, 0, None, 0, 0, None], '0:0:0:0:21': [7.71666666666667, 0, None, 0, 0, None], '0:0:0:0:22': [7.06666666666667, 0, None, 0, 0, None], '0:0:0:0:23': [6.06666666666667, 0, None, 0, 0, None], '0:0:0:0:24': [5.83333333333333, 0, None, 0, 0, None], '0:0:0:0:25': [7.14166666666667, 0, None, 0, 0, None], '0:0:0:0:26': [7.6, 0, None, 0, 0, None], '0:0:0:0:27': [9.70833333333334, 0, None, 0, 0, None], '0:0:0:0:28': [9.61666666666667, 0, None, 0, 0, None], '0:0:0:0:29': [7.525, 0, None, 0, 0, None], '0:0:0:0:30': [7.19166666666667, 0, None, 0, 0, None], '0:0:0:0:31': [6.99166666666667, 0, None, 0, 0, None], '0:0:0:0:32': [6.19166666666667, 0, None, 0, 0, None], '0:0:0:0:33': [5.49166666666667, 0, None, 0, 0, None], '0:0:0:0:34': [5.26666666666667, 0, None, 0, 0, None], '0:0:0:0:35': [5.61666666666667, 0, None, 0, 0, None], '0:0:0:0:36': [6.81666666666667, 0, None, 0, 0, None], '0:0:0:0:37': [7.50833333333333, 0, None, 0, 0, None], '0:0:0:0:38': [6.9, 0, None, 0, 0, None], '0:0:0:0:39': [6.08333333333333, 0, None, 0, 0, None], '0:0:0:0:40': [5.60833333333333, 0, None, 0, 0, None], '0:0:0:0:41': [5.41666666666667, 0, None, 0, 0, None], '0:0:0:0:42': [4.95, 0, None, 0, 0, None], '0:0:0:0:43': [4.50833333333333, 0, None, 0, 0, None], '0:0:0:0:44': [4.21666666666667, 0, None, 0, 0, None], '0:0:0:0:45': [3.99166666666667, 0, None, 0, 0, None], '0:0:0:0:46': [4.73333333333333, 0, None, 0, 0, None], '0:0:0:0:47': [5.775, 0, None, 0, 0, None], '0:0:0:0:48': [5.99166666666667, 0, None, 0, 0, None], '0:0:0:0:49': [5.53333333333333, 0, None, 0, 0, None], '0:0:0:0:50': [5.06666666666667, 0, None, 0, 0, None], '0:0:0:0:51': [4.61666666666667, 0, None, 0, 0, None], '0:0:0:0:52': [4.61666666666667, 0, None, 0, 0, None], '0:0:0:0:53': [5.775, 0, None, 0, 0, None], '0:0:0:0:54': [9.26666666666667, 0, None, 0, 0, None], '0:0:0:0:55': [9.61666666666666, 0, None, 0, 0, None], '0:0:0:0:56': [8.95, 0, None, 0, 0, None], '0:0:0:0:57': [8.06666666666667, 0, None, 0, 0, None], '0:0:0:0:58': [7.375, 0, None, 0, 0, None], '0:0:0:0:59': [6.16666666666667, 0, None, 0, 0, None], '0:0:0:0:60': [5.29166666666667, 0, None, 0, 0, None], '0:0:0:0:61': [4.86666666666667, 0, None, 0, 0, None], '0:0:0:0:62': [4.35, 0, None, 0, 0, None], '0:0:0:0:63': [3.9, 0, None, 0, 0, None], '0:0:0:0:64': [3.66666666666667, 0, None, 0, 0, None], '0:0:0:0:65': [8.09166666666667, 0, None, 0, 0, None]}}], 'structure': {'links': [{'href': 'https://stats.oecd.org/SDMX-JSON/dataflow/KEI/all', 'rel': 'dataflow'}], 'name': 'Key Short-Term Economic Indicators', 'description': 'Key Short-Term Economic Indicators', 'dimensions': {'observation': [{'keyPosition': 0, 'id': 'SUBJECT', 'name': 'Subject', 'values': [{'id': 'LRHUTTTT', 'name': 'Monthly unemployment rate: all persons, s.a.'}]}, {'keyPosition': 1, 'id': 'LOCATION', 'name': 'Country', 'values': [{'id': 'USA', 'name': 'United States'}], 'role': 'REF_AREA'}, {'keyPosition': 2, 'id': 'MEASURE', 'name': 'Measure', 'values': [{'id': 'ST', 'name': 'Level, ratio or index'}]}, {'keyPosition': 3, 'id': 'FREQUENCY', 'name': 'Frequency', 'values': [{'id': 'A', 'name': 'Annual'}], 'role': 'FREQ'}, {'id': 'TIME_PERIOD', 'name': 'Time', 'values': [{'id': '1955', 'name': '1955'}, {'id': '1956', 'name': '1956'}, {'id': '1957', 'name': '1957'}, {'id': '1958', 'name': '1958'}, {'id': '1959', 'name': '1959'}, {'id': '1960', 'name': '1960'}, {'id': '1961', 'name': '1961'}, {'id': '1962', 'name': '1962'}, {'id': '1963', 'name': '1963'}, {'id': '1964', 'name': '1964'}, {'id': '1965', 'name': '1965'}, {'id': '1966', 'name': '1966'}, {'id': '1967', 'name': '1967'}, {'id': '1968', 'name': '1968'}, {'id': '1969', 'name': '1969'}, {'id': '1970', 'name': '1970'}, {'id': '1971', 'name': '1971'}, {'id': '1972', 'name': '1972'}, {'id': '1973', 'name': '1973'}, {'id': '1974', 'name': '1974'}, {'id': '1975', 'name': '1975'}, {'id': '1976', 'name': '1976'}, {'id': '1977', 'name': '1977'}, {'id': '1978', 'name': '1978'}, {'id': '1979', 'name': '1979'}, {'id': '1980', 'name': '1980'}, {'id': '1981', 'name': '1981'}, {'id': '1982', 'name': '1982'}, {'id': '1983', 'name': '1983'}, {'id': '1984', 'name': '1984'}, {'id': '1985', 'name': '1985'}, {'id': '1986', 'name': '1986'}, {'id': '1987', 'name': '1987'}, {'id': '1988', 'name': '1988'}, {'id': '1989', 'name': '1989'}, {'id': '1990', 'name': '1990'}, {'id': '1991', 'name': '1991'}, {'id': '1992', 'name': '1992'}, {'id': '1993', 'name': '1993'}, {'id': '1994', 'name': '1994'}, {'id': '1995', 'name': '1995'}, {'id': '1996', 'name': '1996'}, {'id': '1997', 'name': '1997'}, {'id': '1998', 'name': '1998'}, {'id': '1999', 'name': '1999'}, {'id': '2000', 'name': '2000'}, {'id': '2001', 'name': '2001'}, {'id': '2002', 'name': '2002'}, {'id': '2003', 'name': '2003'}, {'id': '2004', 'name': '2004'}, {'id': '2005', 'name': '2005'}, {'id': '2006', 'name': '2006'}, {'id': '2007', 'name': '2007'}, {'id': '2008', 'name': '2008'}, {'id': '2009', 'name': '2009'}, {'id': '2010', 'name': '2010'}, {'id': '2011', 'name': '2011'}, {'id': '2012', 'name': '2012'}, {'id': '2013', 'name': '2013'}, {'id': '2014', 'name': '2014'}, {'id': '2015', 'name': '2015'}, {'id': '2016', 'name': '2016'}, {'id': '2017', 'name': '2017'}, {'id': '2018', 'name': '2018'}, {'id': '2019', 'name': '2019'}, {'id': '2020', 'name': '2020'}], 'role': 'TIME_PERIOD'}]}, 'attributes': {'dataSet': [], 'series': [], 'observation': [{'id': 'TIME_FORMAT', 'name': 'Time Format', 'values': [{'id': 'P1Y', 'name': 'Annual'}]}, {'id': 'OBS_STATUS', 'name': 'Observation Status', 'values': []}, {'id': 'UNIT', 'name': 'Unit', 'values': [{'id': 'PC', 'name': 'Percentage'}], 'role': 'UNIT_MEASURE'}, {'id': 'POWERCODE', 'name': 'Unit multiplier', 'default': '0', 'values': [{'id': '0', 'name': 'Units'}], 'role': 'UNIT_MULT'}, {'id': 'REFERENCEPERIOD', 'name': 'Reference period', 'values': [], 'role': 'BASE_PER'}]}, 'annotations': [{'title': 'Copyright OECD - All rights reserved', 'uri': '', 'text': ''}, {'title': 'Terms and Conditions', 'uri': 'http://www.oecd.org/termsandconditions/', 'text': ''}, {'title': 'Privacy Policy', 'uri': 'http://www.oecd.org/privacy/', 'text': ''}, {'title': 'MyOECD', 'uri': 'https://www.oecd.org/login', 'text': ''}, {'title': 'Contact Us', 'uri': 'http://www.oecd.org/contact/', 'text': ''}]}}\n"
     ]
    }
   ],
   "source": [
    "#Building url to fetch data from the OECD website for USA umeployment rate and printing response\n",
    "OECD_url='https://stats.oecd.org/SDMX-JSON/data/KEI/LR+LRHUTTTT.USA.ST.A/all?startTime=1914&endTime=2020&dimensionAtObservation=allDimensions'\n",
    "response = requests.get(OECD_url).json()\n",
    "print(response)"
   ]
  },
  {
   "cell_type": "code",
   "execution_count": 28,
   "metadata": {},
   "outputs": [
    {
     "data": {
      "text/plain": [
       "66"
      ]
     },
     "execution_count": 28,
     "metadata": {},
     "output_type": "execute_result"
    }
   ],
   "source": [
    "Total_val=len(response['dataSets'][0]['observations'])\n",
    "Total_val"
   ]
  },
  {
   "cell_type": "code",
   "execution_count": 29,
   "metadata": {},
   "outputs": [],
   "source": [
    "#Extracting Year, and unemployment rate from response\n",
    "Unemp_Rate=[]\n",
    "Year=[]\n",
    "Country=[]\n",
    "\n",
    "for value in range(0,Total_val):\n",
    "    Unemp_Rate.append(response['dataSets'][0]['observations'][\"0:0:0:0:\"+str(value)][0])\n",
    "    Country.append(\"USA\")\n",
    "    Year.append(response['structure']['dimensions']['observation'][4]['values'][value]['id'])"
   ]
  },
  {
   "cell_type": "code",
   "execution_count": 30,
   "metadata": {},
   "outputs": [
    {
     "data": {
      "text/html": [
       "<div>\n",
       "<style scoped>\n",
       "    .dataframe tbody tr th:only-of-type {\n",
       "        vertical-align: middle;\n",
       "    }\n",
       "\n",
       "    .dataframe tbody tr th {\n",
       "        vertical-align: top;\n",
       "    }\n",
       "\n",
       "    .dataframe thead th {\n",
       "        text-align: right;\n",
       "    }\n",
       "</style>\n",
       "<table border=\"1\" class=\"dataframe\">\n",
       "  <thead>\n",
       "    <tr style=\"text-align: right;\">\n",
       "      <th></th>\n",
       "      <th>Country</th>\n",
       "      <th>Year</th>\n",
       "      <th>Unemployment Rate</th>\n",
       "    </tr>\n",
       "  </thead>\n",
       "  <tbody>\n",
       "    <tr>\n",
       "      <th>0</th>\n",
       "      <td>USA</td>\n",
       "      <td>1955</td>\n",
       "      <td>4.383333</td>\n",
       "    </tr>\n",
       "    <tr>\n",
       "      <th>1</th>\n",
       "      <td>USA</td>\n",
       "      <td>1956</td>\n",
       "      <td>4.141667</td>\n",
       "    </tr>\n",
       "    <tr>\n",
       "      <th>2</th>\n",
       "      <td>USA</td>\n",
       "      <td>1957</td>\n",
       "      <td>4.258333</td>\n",
       "    </tr>\n",
       "    <tr>\n",
       "      <th>3</th>\n",
       "      <td>USA</td>\n",
       "      <td>1958</td>\n",
       "      <td>6.800000</td>\n",
       "    </tr>\n",
       "    <tr>\n",
       "      <th>4</th>\n",
       "      <td>USA</td>\n",
       "      <td>1959</td>\n",
       "      <td>5.475000</td>\n",
       "    </tr>\n",
       "  </tbody>\n",
       "</table>\n",
       "</div>"
      ],
      "text/plain": [
       "  Country  Year  Unemployment Rate\n",
       "0     USA  1955           4.383333\n",
       "1     USA  1956           4.141667\n",
       "2     USA  1957           4.258333\n",
       "3     USA  1958           6.800000\n",
       "4     USA  1959           5.475000"
      ]
     },
     "execution_count": 30,
     "metadata": {},
     "output_type": "execute_result"
    }
   ],
   "source": [
    "#Building Data Frame\n",
    "data={'Country':Country, 'Year':Year, 'Unemployment Rate': Unemp_Rate}\n",
    "Unemp_Rate_df=pd.DataFrame(data)\n",
    "Unemp_Rate_df.head()"
   ]
  },
  {
   "cell_type": "code",
   "execution_count": 31,
   "metadata": {},
   "outputs": [
    {
     "data": {
      "text/plain": [
       "Country               object\n",
       "Year                  object\n",
       "Unemployment Rate    float64\n",
       "dtype: object"
      ]
     },
     "execution_count": 31,
     "metadata": {},
     "output_type": "execute_result"
    }
   ],
   "source": [
    "#Checking Datatypes\n",
    "Unemp_Rate_df.dtypes"
   ]
  },
  {
   "cell_type": "code",
   "execution_count": 32,
   "metadata": {},
   "outputs": [
    {
     "data": {
      "text/plain": [
       "Country               object\n",
       "Year                   int64\n",
       "Unemployment Rate    float64\n",
       "dtype: object"
      ]
     },
     "execution_count": 32,
     "metadata": {},
     "output_type": "execute_result"
    }
   ],
   "source": [
    "#Changing Data type\n",
    "Unemp_Rate_df[\"Year\"] = Unemp_Rate_df[\"Year\"].astype(np.int64)\n",
    "Unemp_Rate_df.dtypes"
   ]
  },
  {
   "cell_type": "code",
   "execution_count": 33,
   "metadata": {},
   "outputs": [
    {
     "data": {
      "text/html": [
       "<div>\n",
       "<style scoped>\n",
       "    .dataframe tbody tr th:only-of-type {\n",
       "        vertical-align: middle;\n",
       "    }\n",
       "\n",
       "    .dataframe tbody tr th {\n",
       "        vertical-align: top;\n",
       "    }\n",
       "\n",
       "    .dataframe thead th {\n",
       "        text-align: right;\n",
       "    }\n",
       "</style>\n",
       "<table border=\"1\" class=\"dataframe\">\n",
       "  <thead>\n",
       "    <tr style=\"text-align: right;\">\n",
       "      <th></th>\n",
       "      <th>Entity</th>\n",
       "      <th>Code</th>\n",
       "      <th>Year</th>\n",
       "      <th>Average annual working hours per worker</th>\n",
       "      <th>Country</th>\n",
       "      <th>Unemployment Rate</th>\n",
       "    </tr>\n",
       "  </thead>\n",
       "  <tbody>\n",
       "    <tr>\n",
       "      <th>12</th>\n",
       "      <td>United States</td>\n",
       "      <td>USA</td>\n",
       "      <td>1955</td>\n",
       "      <td>2004.5018</td>\n",
       "      <td>USA</td>\n",
       "      <td>4.383333</td>\n",
       "    </tr>\n",
       "    <tr>\n",
       "      <th>13</th>\n",
       "      <td>United States</td>\n",
       "      <td>USA</td>\n",
       "      <td>1956</td>\n",
       "      <td>1989.3650</td>\n",
       "      <td>USA</td>\n",
       "      <td>4.141667</td>\n",
       "    </tr>\n",
       "    <tr>\n",
       "      <th>14</th>\n",
       "      <td>United States</td>\n",
       "      <td>USA</td>\n",
       "      <td>1957</td>\n",
       "      <td>1961.5238</td>\n",
       "      <td>USA</td>\n",
       "      <td>4.258333</td>\n",
       "    </tr>\n",
       "    <tr>\n",
       "      <th>15</th>\n",
       "      <td>United States</td>\n",
       "      <td>USA</td>\n",
       "      <td>1958</td>\n",
       "      <td>1927.5476</td>\n",
       "      <td>USA</td>\n",
       "      <td>6.800000</td>\n",
       "    </tr>\n",
       "    <tr>\n",
       "      <th>16</th>\n",
       "      <td>United States</td>\n",
       "      <td>USA</td>\n",
       "      <td>1959</td>\n",
       "      <td>1952.8529</td>\n",
       "      <td>USA</td>\n",
       "      <td>5.475000</td>\n",
       "    </tr>\n",
       "    <tr>\n",
       "      <th>...</th>\n",
       "      <td>...</td>\n",
       "      <td>...</td>\n",
       "      <td>...</td>\n",
       "      <td>...</td>\n",
       "      <td>...</td>\n",
       "      <td>...</td>\n",
       "    </tr>\n",
       "    <tr>\n",
       "      <th>70</th>\n",
       "      <td>United States</td>\n",
       "      <td>USA</td>\n",
       "      <td>2013</td>\n",
       "      <td>1750.0786</td>\n",
       "      <td>USA</td>\n",
       "      <td>7.375000</td>\n",
       "    </tr>\n",
       "    <tr>\n",
       "      <th>71</th>\n",
       "      <td>United States</td>\n",
       "      <td>USA</td>\n",
       "      <td>2014</td>\n",
       "      <td>1754.4224</td>\n",
       "      <td>USA</td>\n",
       "      <td>6.166667</td>\n",
       "    </tr>\n",
       "    <tr>\n",
       "      <th>72</th>\n",
       "      <td>United States</td>\n",
       "      <td>USA</td>\n",
       "      <td>2015</td>\n",
       "      <td>1765.1826</td>\n",
       "      <td>USA</td>\n",
       "      <td>5.291667</td>\n",
       "    </tr>\n",
       "    <tr>\n",
       "      <th>73</th>\n",
       "      <td>United States</td>\n",
       "      <td>USA</td>\n",
       "      <td>2016</td>\n",
       "      <td>1760.7960</td>\n",
       "      <td>USA</td>\n",
       "      <td>4.866667</td>\n",
       "    </tr>\n",
       "    <tr>\n",
       "      <th>74</th>\n",
       "      <td>United States</td>\n",
       "      <td>USA</td>\n",
       "      <td>2017</td>\n",
       "      <td>1757.2255</td>\n",
       "      <td>USA</td>\n",
       "      <td>4.350000</td>\n",
       "    </tr>\n",
       "  </tbody>\n",
       "</table>\n",
       "<p>63 rows × 6 columns</p>\n",
       "</div>"
      ],
      "text/plain": [
       "           Entity Code  Year  Average annual working hours per worker Country  \\\n",
       "12  United States  USA  1955                                2004.5018     USA   \n",
       "13  United States  USA  1956                                1989.3650     USA   \n",
       "14  United States  USA  1957                                1961.5238     USA   \n",
       "15  United States  USA  1958                                1927.5476     USA   \n",
       "16  United States  USA  1959                                1952.8529     USA   \n",
       "..            ...  ...   ...                                      ...     ...   \n",
       "70  United States  USA  2013                                1750.0786     USA   \n",
       "71  United States  USA  2014                                1754.4224     USA   \n",
       "72  United States  USA  2015                                1765.1826     USA   \n",
       "73  United States  USA  2016                                1760.7960     USA   \n",
       "74  United States  USA  2017                                1757.2255     USA   \n",
       "\n",
       "    Unemployment Rate  \n",
       "12           4.383333  \n",
       "13           4.141667  \n",
       "14           4.258333  \n",
       "15           6.800000  \n",
       "16           5.475000  \n",
       "..                ...  \n",
       "70           7.375000  \n",
       "71           6.166667  \n",
       "72           5.291667  \n",
       "73           4.866667  \n",
       "74           4.350000  \n",
       "\n",
       "[63 rows x 6 columns]"
      ]
     },
     "execution_count": 33,
     "metadata": {},
     "output_type": "execute_result"
    }
   ],
   "source": [
    "#Merging Data frames\n",
    "data_combined_df=pd.merge(WH_USA_df, Unemp_Rate_df, how=\"outer\", on=\"Year\")\n",
    "data_combined_df.dropna(inplace=True)\n",
    "data_combined_df"
   ]
  },
  {
   "cell_type": "code",
   "execution_count": 34,
   "metadata": {},
   "outputs": [
    {
     "data": {
      "text/html": [
       "<div>\n",
       "<style scoped>\n",
       "    .dataframe tbody tr th:only-of-type {\n",
       "        vertical-align: middle;\n",
       "    }\n",
       "\n",
       "    .dataframe tbody tr th {\n",
       "        vertical-align: top;\n",
       "    }\n",
       "\n",
       "    .dataframe thead th {\n",
       "        text-align: right;\n",
       "    }\n",
       "</style>\n",
       "<table border=\"1\" class=\"dataframe\">\n",
       "  <thead>\n",
       "    <tr style=\"text-align: right;\">\n",
       "      <th></th>\n",
       "      <th>Entity</th>\n",
       "      <th>Country</th>\n",
       "      <th>Year</th>\n",
       "      <th>Average annual working hours per worker</th>\n",
       "      <th>Unemployment Rate</th>\n",
       "    </tr>\n",
       "  </thead>\n",
       "  <tbody>\n",
       "    <tr>\n",
       "      <th>12</th>\n",
       "      <td>United States</td>\n",
       "      <td>USA</td>\n",
       "      <td>1955</td>\n",
       "      <td>2004.5018</td>\n",
       "      <td>4.383333</td>\n",
       "    </tr>\n",
       "    <tr>\n",
       "      <th>13</th>\n",
       "      <td>United States</td>\n",
       "      <td>USA</td>\n",
       "      <td>1956</td>\n",
       "      <td>1989.3650</td>\n",
       "      <td>4.141667</td>\n",
       "    </tr>\n",
       "    <tr>\n",
       "      <th>14</th>\n",
       "      <td>United States</td>\n",
       "      <td>USA</td>\n",
       "      <td>1957</td>\n",
       "      <td>1961.5238</td>\n",
       "      <td>4.258333</td>\n",
       "    </tr>\n",
       "    <tr>\n",
       "      <th>15</th>\n",
       "      <td>United States</td>\n",
       "      <td>USA</td>\n",
       "      <td>1958</td>\n",
       "      <td>1927.5476</td>\n",
       "      <td>6.800000</td>\n",
       "    </tr>\n",
       "    <tr>\n",
       "      <th>16</th>\n",
       "      <td>United States</td>\n",
       "      <td>USA</td>\n",
       "      <td>1959</td>\n",
       "      <td>1952.8529</td>\n",
       "      <td>5.475000</td>\n",
       "    </tr>\n",
       "  </tbody>\n",
       "</table>\n",
       "</div>"
      ],
      "text/plain": [
       "           Entity Country  Year  Average annual working hours per worker  \\\n",
       "12  United States     USA  1955                                2004.5018   \n",
       "13  United States     USA  1956                                1989.3650   \n",
       "14  United States     USA  1957                                1961.5238   \n",
       "15  United States     USA  1958                                1927.5476   \n",
       "16  United States     USA  1959                                1952.8529   \n",
       "\n",
       "    Unemployment Rate  \n",
       "12           4.383333  \n",
       "13           4.141667  \n",
       "14           4.258333  \n",
       "15           6.800000  \n",
       "16           5.475000  "
      ]
     },
     "execution_count": 34,
     "metadata": {},
     "output_type": "execute_result"
    }
   ],
   "source": [
    "#Dropping not necessary columns\n",
    "data_combined_df.drop(['Country'], axis=1, inplace=True)\n",
    "data_combined_df.rename(columns = {'Code':'Country'}, inplace = True) \n",
    "data_combined_df.head()"
   ]
  },
  {
   "cell_type": "code",
   "execution_count": 35,
   "metadata": {},
   "outputs": [],
   "source": [
    "#Preparing data to plot\n",
    "years=data_combined_df['Year']\n",
    "work_hours=data_combined_df['Average annual working hours per worker']\n",
    "unemployment=data_combined_df['Unemployment Rate']"
   ]
  },
  {
   "cell_type": "code",
   "execution_count": 36,
   "metadata": {},
   "outputs": [
    {
     "data": {
      "image/png": "[encoded data removed]",
      "text/plain": [
       "<Figure size 432x288 with 1 Axes>"
      ]
     },
     "metadata": {
      "needs_background": "light"
     },
     "output_type": "display_data"
    }
   ],
   "source": [
    "#Plotting working hours in USA and saving plot fig to png format\n",
    "fig = plt.figure()\n",
    "plt.title(\"Working Hours in USA thru the Years\")\n",
    "plt.ylabel(\"Working Hours\")\n",
    "plt.xlabel(\"Years\")\n",
    "plt.plot(years,work_hours, color='red', label=\"Working Hours\")\n",
    "plt.legend(loc=\"upper right\")\n",
    "plt.grid()\n",
    "fig.savefig(\"data/working_hours_USA.png\")"
   ]
  },
  {
   "cell_type": "code",
   "execution_count": 37,
   "metadata": {},
   "outputs": [
    {
     "data": {
      "image/png": "[encoded data removed]",
      "text/plain": [
       "<Figure size 432x288 with 1 Axes>"
      ]
     },
     "metadata": {
      "needs_background": "light"
     },
     "output_type": "display_data"
    }
   ],
   "source": [
    "#Plottingunemployment rate in USA and saving plot fig to png format\n",
    "fig = plt.figure()\n",
    "plt.title(\"Unemployment in USA thru the Years\")\n",
    "plt.ylabel(\"Unemployment Rate\")\n",
    "plt.xlabel(\"Years\")\n",
    "plt.plot(years,unemployment, color='red', label=\"Unemployment Rate\")\n",
    "plt.legend(loc=\"upper right\")\n",
    "plt.grid()\n",
    "fig.savefig(\"data/unemployment_rate_USA.png\")"
   ]
  },
  {
   "cell_type": "code",
   "execution_count": 38,
   "metadata": {},
   "outputs": [
    {
     "name": "stdout",
     "output_type": "stream",
     "text": [
      "The r-squared is: 0.3284193240710849\n"
     ]
    },
    {
     "data": {
      "image/png": "[encoded data removed]",
      "text/plain": [
       "<Figure size 432x288 with 1 Axes>"
      ]
     },
     "metadata": {
      "needs_background": "light"
     },
     "output_type": "display_data"
    }
   ],
   "source": [
    "\n",
    "# Add the linear regression equation and line to plot and saving plot fig to png format\n",
    "fig = plt.figure()\n",
    "x_values = unemployment\n",
    "y_values = work_hours\n",
    "(slope, intercept, rvalue, pvalue, stderr) = linregress(x_values, y_values)\n",
    "regress_values = x_values * slope + intercept\n",
    "line_eq = \"y = \" + str(round(slope,2)) + \"x + \" + str(round(intercept,2))\n",
    "plt.scatter(x_values,y_values)\n",
    "plt.plot(x_values,regress_values,\"r-\")\n",
    "plt.annotate(line_eq,(6,10),fontsize=15,color=\"red\")\n",
    "plt.title(\"Unemployment Rate vs Yearly Working Hours in USA\")\n",
    "plt.ylabel(\"Working Hours\")\n",
    "plt.xlabel(\"Unemployment Rate\")\n",
    "print(f\"The r-squared is: {rvalue**2}\")\n",
    "fig.savefig(\"data/life_exp_vs_work_hrs_linear_regression.png\")\n",
    "plt.show()"
   ]
  }
 ],
 "metadata": {
  "kernelspec": {
   "display_name": "Python 3",
   "language": "python",
   "name": "python3"
  },
  "language_info": {
   "codemirror_mode": {
    "name": "ipython",
    "version": 3
   },
   "file_extension": ".py",
   "mimetype": "text/x-python",
   "name": "python",
   "nbconvert_exporter": "python",
   "pygments_lexer": "ipython3",
   "version": "3.8.3"
  }
 },
 "nbformat": 4,
 "nbformat_minor": 4
}
